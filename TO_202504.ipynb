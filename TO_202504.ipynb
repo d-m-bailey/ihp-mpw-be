{
  "nbformat": 4,
  "nbformat_minor": 0,
  "metadata": {
    "colab": {
      "provenance": []
    },
    "kernelspec": {
      "name": "python3",
      "display_name": "Python 3"
    },
    "language_info": {
      "name": "python"
    }
  },
  "cells": [
    {
      "cell_type": "markdown",
      "source": [
        "# Backend Verification for the iHP Open MPW Shuttles\n",
        "\n",
        "[D. Mitch Bailey](https://www.linkedin.com/in/mitch-bailey-cvc/), [ShuhariSystem](https://www.shuharisystem.com/)"
      ],
      "metadata": {
        "id": "KXrjYC7jYI-4"
      }
    },
    {
      "cell_type": "markdown",
      "source": [
        "# Overview\n",
        "This notebook performs backend LVS (with [klayout](https://github.com/KLayout/klayout) or [magic](https://github.com/RTimothyEdwards/magic)/[netgen](https://github.com/RTimothyEdwards/netgen)), soft-connection checks (with magic/netgen) and/or reliability verfication (with [CVC-RV](https://github.com/d-m-bailey/cvc)) with open source EDA software and systems."
      ],
      "metadata": {
        "id": "xPG5P8WSg42s"
      }
    },
    {
      "cell_type": "markdown",
      "source": [
        "# iHP Open-MPW Data\n",
        "The 17 submissions to iHp open mpw shuttle for April 2025 listed below are located [here](https://github.com/IHP-GmbH/TO_Apr2025).\n",
        "\n",
        "* 160GHz_LNA\n",
        "* 40_GHZ_LOW_NOISE_TIA\n",
        "* 6502-cpu\n",
        "* 97_GHZ_LINEAR_TIA\n",
        "* DC_to_130_GHz_TIA\n",
        "* GPS_LNA\n",
        "* Greyhound\n",
        "* Mixer5GHz\n",
        "* PA_180GHz\n",
        "* TTIHP0p2\n",
        "* TTIHP25a\n",
        "* VCO_130nm_LSI\n",
        "* active_L_VCOs\n",
        "* ascon\n",
        "* bandgap_ref_cmos\n",
        "* elemrv-n\n",
        "* i2c-gpio-expander\n",
        "\n",
        "Create a file with the initial environment variables.\n"
      ],
      "metadata": {
        "id": "Nssto4gbqLr9"
      }
    },
    {
      "cell_type": "code",
      "source": [
        "%%writefile /content/env\n",
        "export LOCAL_INSTALL=/content/local\n",
        "export PATH=$PATH:$LOCAL_INSTALL/bin\n",
        "export PDK_ROOT=/content/pdks\n",
        "export PDK=ihp-sg13g2\n",
        "export PDKPATH=$PDK_ROOT/$PDK\n",
        "export PDK_COMMIT=ddb601a4a4473163e1ed6df416b885df18b4ac03\n",
        "export MAGIC_COMMIT=master\n",
        "export NETGEN_COMMIT=master\n",
        "export KLAYOUT_DISTRO=Ubuntu-22\n",
        "export KLAYOUT_DEB=klayout_0.30.1-1_amd64.deb\n",
        "export EXTRA_CHECK_COMMIT=ihp-sg13g2\n",
        "export CVC_COMMIT=master\n",
        "export UPRJ_ROOT=/content/data\n",
        "export LVS_ROOT=/root/extra_be_checks\n",
        "export MPW=TO_Apr2025\n",
        "if [[ -f $UPRJ_ROOT/project_env ]]; then\n",
        "  cat $UPRJ_ROOT/project_env\n",
        "  source $UPRJ_ROOT/project_env\n",
        "fi\n"
      ],
      "metadata": {
        "id": "nxpxjYy1zIkZ"
      },
      "execution_count": null,
      "outputs": []
    },
    {
      "cell_type": "markdown",
      "source": [
        "# Program installation.\n",
        "\n",
        "1.   List item\n",
        "2.   List item\n",
        "\n",
        "\n",
        "Only needs to be executed once.\n",
        "\n",
        "This step sets up the pdk and installs magic, klayout, netgen and cvc_rv.\n",
        "\n",
        "Runtime: 3-4 minutes."
      ],
      "metadata": {
        "id": "0zFjctvP3w1O"
      }
    },
    {
      "cell_type": "code",
      "source": [
        "%%shell\n",
        "cd\n",
        "cat /content/env\n",
        "source /content/env\n",
        "\n",
        "lsb_release -a 2>/dev/null\n",
        "\n",
        "if [[ ! -d $PDK_ROOT ]]; then\n",
        "  echo \"==> Installing ciel...\"\n",
        "  pip install ciel\n",
        "fi\n",
        "ciel enable --pdk $PDK $PDK_COMMIT\n",
        "# patch for mimcap and antenna error in netgen setup file from pdk\n",
        "sed -i.bak '/lsearch .cells2/,/circuit2/s/circuit1 .dev/circuit2 $dev/' $PDK_ROOT/$PDK/libs.tech/netgen/ihp-sg13g2_setup.tcl\n",
        "\n",
        "# allow met7 text to be recognized on pads\n",
        "sed -i.bak -e '/labels PADID/a\\\n",
        "labels MET7PIN port\\\n",
        "labels MET7TXT text\n",
        "' \\\n",
        "  -e '/pad/!s/\\*m7,m7fill,pillar,solder/&,pad/g' $PDK_ROOT/$PDK/libs.tech/magic/ihp-sg13g2.tech\n",
        "\n",
        "# ignore rule that creates separate taps for labeled wells\n",
        "# ignore gaurdring when computing ptap_holes\n",
        "sed -i.bak -e '/^well_patt/s/\"/\"-/' -e '/^sub_patt/s/\"/\"-/' \\\n",
        "  -e 's/ptap_holes = .*/ptap_holes = ptap.not(edgeseal_drw).holes/' $PDK_ROOT/$PDK/libs.tech/klayout/tech/lvs/rule_decks/general_derivations.lvs\n",
        "\n",
        "# fix rfmim_sub\n",
        "sed -i.bak -e 's/rfmim_sub =.*/rfmim_sub = rfmim_area.sized(1.um)/' $PDK_ROOT/$PDK/libs.tech/klayout/tech/lvs/rule_decks/cap_derivations.lvs\n",
        "echo \"==> Using pdk $PDK commit $PDK_COMMIT (patched)\n",
        "\"\n",
        "\n",
        "if [[ ! -d extra_be_checks ]]; then\n",
        "  echo \"==> Downloading extra_be_checks $EXTRA_CHECK_COMMIT\"\n",
        "  rm -rf extra_be_checks\n",
        "  git clone https://github.com/d-m-bailey/extra_be_checks.git -b $EXTRA_CHECK_COMMIT\n",
        "  mv $PDK_ROOT/$PDK/libs.tech/magic/ihp-sg13g2.tech $PDK_ROOT/$PDK/libs.tech/magic/ihp-sg13g2.tech.org\n",
        "  cp extra_be_checks/tech/ihp-sg13g2/ihp-sg13g2.tech $PDK_ROOT/$PDK/libs.tech/magic/ihp-sg13g2.tech\n",
        "fi\n",
        "echo \"==> Using extra_be_checks commit $(cd extra_be_checks; git rev-parse HEAD)\n",
        "\"\n",
        "\n",
        "if ! command -v netgen; then\n",
        "  echo \"==> Downloading and installing netgen $NETGEN_COMMIT\"\n",
        "  git clone https://github.com/RTimothyEdwards/netgen.git --depth=1 -b $NETGEN_COMMIT\n",
        "  cd netgen\n",
        "  ./configure --prefix=$LOCAL_INSTALL\n",
        "  make\n",
        "  make install\n",
        "  cd\n",
        "fi\n",
        "echo \"==> Using netgen version $(netgen -batch | awk '/Netgen/ {print $2}')\n",
        "\"\n",
        "\n",
        "if ! command -v magic; then\n",
        "  echo \"==> Downloading and installing magic $MAGIC_COMMIT\"\n",
        "  git clone https://github.com/RTimothyEdwards/magic.git --depth=1 -b $MAGIC_COMMIT\n",
        "  cd magic\n",
        "  ./configure --prefix=$LOCAL_INSTALL\n",
        "  make\n",
        "  make install\n",
        "  cd\n",
        "fi\n",
        "echo \"==> Using magic version $(magic -dnull -noc --version)\n",
        "\"\n",
        "\n",
        "if ! command -v klayout; then\n",
        "  echo \"==> Downloading and installing klayout $KLAYOUT_DEB for $KLAYOUT_DISTRO\"\n",
        "  wget -P /root https://www.klayout.org/downloads/$KLAYOUT_DISTRO/$KLAYOUT_DEB\n",
        "  sudo apt install /root/$KLAYOUT_DEB\n",
        "  pip install docopt\n",
        "  pip install klayout\n",
        "  cd\n",
        "fi\n",
        "echo \"==> Using $(klayout -v)\n",
        "\"\n",
        "\n",
        "if ! command -v cvc_rv; then\n",
        "  echo \"==> Downloading and installing cvc_rv $CVC_COMMIT\"\n",
        "  sudo apt install autopoint bison flex\n",
        "  git clone https://github.com/d-m-bailey/cvc --depth=1 -b $CVC_COMMIT\n",
        "  cd cvc\n",
        "  autoreconf -vif\n",
        "  ./configure --prefix=$LOCAL_INSTALL --disable-nls\n",
        "  make\n",
        "  make install\n",
        "  cd\n",
        "fi\n",
        "echo \"==> Using $(cvc_rv -v)\n",
        "\""
      ],
      "metadata": {
        "id": "Gd7xF7Ssqkh9",
        "collapsed": true
      },
      "execution_count": null,
      "outputs": []
    },
    {
      "cell_type": "markdown",
      "source": [
        "# Clone the design repo and list the gds, spice and verilog files.\n",
        "\n",
        "Run to refresh the design data.\n",
        "The file list is also saved in /content/filelist.txt.\n",
        "\n",
        "Runtime: 1-2 minutes."
      ],
      "metadata": {
        "id": "3dCQ3asT1JeR"
      }
    },
    {
      "cell_type": "code",
      "source": [
        "%%shell\n",
        "cat /content/env\n",
        "source /content/env\n",
        "rm -rf data\n",
        "git clone https://github.com/IHP-GmbH/$MPW.git data\n",
        "cd data\n",
        "# uncompress gds, spice, cdl, and verilog files\n",
        "find . \\( -name \"*.gds.gz\" -o -name \"*.spice.gz\" -o -name \"*.cdl.gz\" -o -name \"*.v.gz\" \\) -execdir gunzip -v {} \\;\n",
        "find . \\( -name \"*.gds.zip\" -o -name \"*.spice.zip\" -o -name \"*.cdl.zip\" -o -name \"*.v.zip\" \\) -execdir 7z x {} \\;\n",
        "# Create a file listing the size, project and relevant file names.\n",
        "# Only list files that end with .gds (in gds subdirectories), .spice, .cdl, or .v.\n",
        "tee /content/filelist.txt <<EOF\n",
        "   Size Project                   File\n",
        "------- ------------------------- ---------------------------------------------\n",
        "EOF\n",
        "ls -s $(find . \\( -name \"*.gds\" -path \"*/gds/*\" \\) -o -name \"*.spice\" -o -name \"*.cdl\" -o -name \"*.v\") |\n",
        "  sed -e 's,\\./,,' -e 's,/, ,' |\n",
        "  awk '{printf \"%7d %-25s %s\\n\", $1, $2, $3}' |\n",
        "  tee -a /content/filelist.txt"
      ],
      "metadata": {
        "id": "Mk5M_rlrpVjg",
        "collapsed": true
      },
      "execution_count": null,
      "outputs": []
    },
    {
      "cell_type": "markdown",
      "source": [
        "# ※ Run cells before this cell for program installation and general setup.<br>Then choose one setup from the 17 designs below.<br>Finally, run the checks and examine the results."
      ],
      "metadata": {
        "id": "GqOkCPZ3IzyD"
      }
    },
    {
      "cell_type": "markdown",
      "source": [
        "# 1. 160GHz_LNA\n",
        "\n",
        "Checks will not work with GDS file in repo.\n",
        "1. Copy text and pins from `LNA` ports to top level layout.\n",
        "2. Save as `FMD_QNC_04_160GHz_LNA.mod.gds` and upload to `/content/data/160GHz_LNA/design_data/gds`."
      ],
      "metadata": {
        "id": "o0IPhpGFpx15"
      }
    },
    {
      "cell_type": "markdown",
      "source": [
        "Set the project, top cell and gds file names."
      ],
      "metadata": {
        "id": "ddHKTYSJpx16"
      }
    },
    {
      "cell_type": "code",
      "source": [
        "%%shell\n",
        "source /content/env\n",
        "cat > $UPRJ_ROOT/project_env <<'EOF'\n",
        "export PROJECT=160GHz_LNA\n",
        "export LAYOUT_TOP=FMD_QNC_04_160GHz_LNA\n",
        "export GDSFILE=design_data/gds/FMD_QNC_04_160GHz_LNA.mod.gds\n",
        "export WORK_ROOT=$UPRJ_ROOT/$PROJECT/work/$LAYOUT_TOP\n",
        "export SPICE_FILE=$WORK_ROOT/$LAYOUT_TOP.spice\n",
        "export KLAYOUT_CDL=$WORK_ROOT/$LAYOUT_TOP.cdl\n",
        "EOF\n",
        "cat $UPRJ_ROOT/project_env\n",
        "source $UPRJ_ROOT/project_env\n",
        "rm -f /content/data/work\n",
        "rm -rf $WORK_ROOT\n",
        "mkdir -p $WORK_ROOT\n",
        "ln -s $WORK_ROOT /content/data/work\n",
        "ls -l /content/data/work"
      ],
      "metadata": {
        "id": "MCHlHjJRpx17"
      },
      "execution_count": null,
      "outputs": []
    },
    {
      "cell_type": "markdown",
      "source": [
        "Create the modified magic source netlist."
      ],
      "metadata": {
        "id": "hp5bC4b8px17"
      }
    },
    {
      "cell_type": "code",
      "source": [
        "%%shell\n",
        "cat /content/env\n",
        "source /content/env\n",
        "cat > $SPICE_FILE <<EOF\n",
        ".SUBCKT $LAYOUT_TOP GND VBB1 VBB2 VCC RF_INPUT RF_OUTPUT\n",
        "\n",
        "XQ1 net2 net1 GND GND npn13g2 AE=0.063p PE=1.94u AB=25.605p PB=23.02u\n",
        "+ AC=25.589984p PC=23.01u NE=4 m=4\n",
        "XQ2 net4 net3 GND GND npn13g2 AE=0.063p PE=1.94u AB=25.605p PB=23.02u\n",
        "+ AC=25.589984p PC=23.01u NE=4 m=4\n",
        "XQ3 net6 net5 GND GND npn13g2 AE=0.063p PE=1.94u AB=12.988p PB=15.62u\n",
        "+ AC=12.976684p PC=15.61u NE=2 m=2\n",
        "XQ4 net8 net7 GND GND npn13g2 AE=0.063p PE=1.94u AB=12.988p PB=15.62u\n",
        "+ AC=12.976684p PC=15.61u NE=2 m=2\n",
        "\n",
        "XRC1 net2 VCC rsil w=7.5u l=5u ps=0 b=0 m=1\n",
        "XRC2 net4 VCC rsil w=7.5u l=5u ps=0 b=0 m=1\n",
        "XRC3 net6 VCC rsil w=7.5u l=5u ps=0 b=0 m=1\n",
        "XRC4 net8 VCC rsil w=7.5u l=5.5u ps=0 b=0 m=1\n",
        "\n",
        "XRB1 net1 VBB1 rhigh w=1.9u l=6u ps=0 b=0 m=1\n",
        "XRB2 net3 VBB1 rhigh w=1.9u l=5u ps=0 b=0 m=1\n",
        "XRB3 net5 VBB1 rhigh w=1.9u l=6u ps=0 b=0 m=1\n",
        "XRB4 net7 VBB2 rhigh w=2u l=6u ps=0 b=0 m=1\n",
        "\n",
        "*RM1 net_2_3 GND res_topmetal2 w=15u l=1u\n",
        "*RM2 net_4_5 GND res_topmetal2 w=15u l=1u\n",
        "*RM3 net_6_7 GND res_topmetal2 w=15u l=1u\n",
        "*RM4 net_8_O GND res_topmetal2 w=15u l=1u\n",
        "\n",
        "XCC1 VCC GND cap_cmim w=20u l=25u A=500p P=90u m=8\n",
        "XCB1 VBB1 GND cap_cmim w=20u l=25u A=500p P=90u m=6\n",
        "XCB2 VBB2 GND cap_cmim w=20u l=25u A=500p P=90u m=4\n",
        "\n",
        "XCRC1 RF_INPUT net1 GND rfcmim w=10u l=15u wfeed=6u\n",
        "*XCRC2 net2 net2_3 GND cap_rfcmim w=32u l=3.72u wfeed=3u\n",
        "*XCRC3 net2_3 net3 GND cap_rfcmim w=5.2u l=2.4u wfeed=3u\n",
        "*XCRC4 net4 net4_5 GND cap_rfcmim w=32u l=3.72u wfeed=3u\n",
        "*XCRC5 net4_5 net5 GND cap_rfcmim w=7.6u l=2.5u wfeed=3u\n",
        "*XCRC6 net6 net6_7 GND cap_rfcmim w=32u l=12.5u wfeed=3u\n",
        "*XCRC7 net6_7 net7 GND cap_rfcmim w=5.1u l=2.4u wfeed=3u\n",
        "*XCRC8 net8 net8_O GND cap_rfcmim w=32u l=6.2u wfeed=3u\n",
        "*XCRC9 net8_O RF_OUTPUT GND cap_rfcmim w=3.2u l=2.4u wfeed=3u\n",
        "XCRC2 net2 GND GND rfcmim w=32u l=3.72u wfeed=3u\n",
        "XCRC3 GND net3 GND rfcmim w=5.2u l=2.4u wfeed=3u\n",
        "XCRC4 net4 GND GND rfcmim w=32u l=3.72u wfeed=3u\n",
        "XCRC5 GND net5 GND rfcmim w=7.6u l=2.5u wfeed=3u\n",
        "XCRC6 net6 GND GND rfcmim w=32u l=12.5u wfeed=3u\n",
        "XCRC7 GND net7 GND rfcmim w=5.1u l=2.4u wfeed=3u\n",
        "XCRC8 net8 GND GND rfcmim w=32u l=6.2u wfeed=3u\n",
        "XCRC9 GND RF_OUTPUT GND rfcmim w=3.2u l=2.4u wfeed=3u\n",
        "\n",
        ".ENDS\n",
        "EOF"
      ],
      "metadata": {
        "id": "HYVQkN0Opx17"
      },
      "execution_count": null,
      "outputs": []
    },
    {
      "cell_type": "markdown",
      "source": [
        "Create lvs_config.json and update the LVS_SPICE_FILES and LVS_VERILOG_FILES for every design.\n",
        "\n",
        "Update the other parameters as needed."
      ],
      "metadata": {
        "id": "_ABv8aMTpx17"
      }
    },
    {
      "cell_type": "code",
      "source": [
        "%%shell\n",
        "cat /content/env\n",
        "source /content/env\n",
        "cat > $WORK_ROOT/lvs_config.json <<EOF\n",
        "{\n",
        "  \"#STD_CELL_LIBRARY\": \"sky130_fd_sc_hd\",\n",
        "  \"#INCLUDE_CONFIGS\": [\n",
        "    \"$LVS_ROOT/tech/$PDK/lvs_config.base.json\"\n",
        "  ],\n",
        "  \"TOP_SOURCE\": \"$LAYOUT_TOP\",\n",
        "  \"TOP_LAYOUT\": \"$LAYOUT_TOP\",\n",
        "  \"EXTRACT_FLATGLOB\": [\n",
        "    \"npn13G2*\",\n",
        "    \"cmim*\",\n",
        "    \"rfcmim*\",\n",
        "    \"rsil*\",\n",
        "    \"via_stack*\",\n",
        "    \"GND\",\n",
        "    \"sealring*\",\n",
        "    \"*_stage\",\n",
        "    \"LNA\",\n",
        "    \"rhigh*\"\n",
        "  ],\n",
        "  \"EXTRACT_ABSTRACT\": [ \"\" ],\n",
        "  \"LVS_FLATTEN\": [ \"\" ],\n",
        "  \"LVS_NOFLATTEN\": [ \"\" ],\n",
        "  \"LVS_IGNORE\": [ \"\" ],\n",
        "  \"LVS_SPICE_FILES\": [\n",
        "    \"$SPICE_FILE\"\n",
        "  ],\n",
        "  \"#LVS_VERILOG_FILES\": [\n",
        "    \"$UPRJ_ROOT/verilog/gl/user_proj_example.v\",\n",
        "    \"$UPRJ_ROOT/verilog/gl/user_project_wrapper.v\"\n",
        "  ],\n",
        "  \"LAYOUT_FILE\": \"$UPRJ_ROOT/$PROJECT/$GDSFILE\"\n",
        "}\n",
        "EOF"
      ],
      "metadata": {
        "id": "vVQnUrHopx17"
      },
      "execution_count": null,
      "outputs": []
    },
    {
      "cell_type": "markdown",
      "source": [
        "Write cvcrc file"
      ],
      "metadata": {
        "id": "jutc-Gsspx18"
      }
    },
    {
      "cell_type": "code",
      "source": [
        "%%shell\n",
        "cat /content/env\n",
        "source /content/env\n",
        "cat > $WORK_ROOT/cvcrc <<EOF\n",
        "CVC_TOP = $LAYOUT_TOP\n",
        "CVC_NETLIST = $WORK_ROOT/ext/$LAYOUT_TOP.cdl.gz\n",
        "CVC_MODEL_FILE = $LVS_ROOT/tech/ihp-sg13g2/cvc.models\n",
        "CVC_POWER_FILE = $WORK_ROOT/cvc.power.$LAYOUT_TOP\n",
        "CVC_REPORT_FILE = $WORK_ROOT/cvc.log\n",
        "EOF\n",
        "\n",
        "cat > $WORK_ROOT/cvc.power.$LAYOUT_TOP <<EOF\n",
        "GND power 0.0\n",
        "VCC power 3.3\n",
        "EOF"
      ],
      "metadata": {
        "id": "W0XmUXvApx19"
      },
      "execution_count": null,
      "outputs": []
    },
    {
      "cell_type": "markdown",
      "source": [
        "Create the klayout CDL file from the magic source netlist."
      ],
      "metadata": {
        "id": "i_WF1B6tpx19"
      }
    },
    {
      "cell_type": "code",
      "source": [
        "%%shell\n",
        "source /content/env\n",
        "sed -e '/^X[QMRC]/s/.//' $SPICE_FILE > $KLAYOUT_CDL\n"
      ],
      "metadata": {
        "id": "Zzp5M_Adpx19"
      },
      "execution_count": null,
      "outputs": []
    },
    {
      "cell_type": "markdown",
      "source": [
        "Results for 160GHz_LNA\n",
        "*   layout has cells that have the same name as primitive devices. This causes netgen to segfault. <br>=> Flatglob all layout cells with primitive device names.\n",
        "* Top layout does not have text. LNA level has text, but also has missing connectivity. <br>=> Copy text from LNA ports to top level.\n",
        "* Top level met7 text on pads is not recognized in magic extraction. For magic, change tech file or switch to PADID. However, PADID not used in klayout.\n",
        "* `RF_OUTPUT` and `RF_INPUT` pads are missing `dfpad_drw` layer.<br>Add rectangular `dfpad_drw` shapes."
      ],
      "metadata": {
        "id": "GzMU4HXACa_z"
      }
    },
    {
      "cell_type": "markdown",
      "source": [
        "# 2. 40_GHZ_LOW_NOISE_TIA\n"
      ],
      "metadata": {
        "id": "sCnqIvBARKTz"
      }
    },
    {
      "cell_type": "markdown",
      "source": [
        "Set the project, top cell and gds file names."
      ],
      "metadata": {
        "id": "SCzo_6-4RKT0"
      }
    },
    {
      "cell_type": "code",
      "source": [
        "%%shell\n",
        "source /content/env\n",
        "cat > $UPRJ_ROOT/project_env <<'EOF'\n",
        "export PROJECT=40_GHZ_LOW_NOISE_TIA\n",
        "export LAYOUT_TOP=FDM_QNC_00_LN_TIA\n",
        "export GDSFILE=design_data/gds/FMD_QNC_00_40_GHz_Low_Noise_TIA.1.gds\n",
        "export WORK_ROOT=$UPRJ_ROOT/$PROJECT/work/$LAYOUT_TOP\n",
        "export SPICE_FILE=$WORK_ROOT/$LAYOUT_TOP.spice\n",
        "export KLAYOUT_CDL=$WORK_ROOT/$LAYOUT_TOP.cdl\n",
        "EOF\n",
        "cat $UPRJ_ROOT/project_env\n",
        "source $UPRJ_ROOT/project_env\n",
        "rm -f /content/data/work\n",
        "rm -rf $WORK_ROOT\n",
        "mkdir -p $WORK_ROOT\n",
        "ln -s $WORK_ROOT /content/data/work\n",
        "ls -l /content/data/work"
      ],
      "metadata": {
        "id": "ABoKEu8eRKT0"
      },
      "execution_count": null,
      "outputs": []
    },
    {
      "cell_type": "markdown",
      "source": [
        "Create the modified magic source netlist."
      ],
      "metadata": {
        "id": "yhcZTjYxRKT0"
      }
    },
    {
      "cell_type": "code",
      "source": [
        "%%shell\n",
        "cat /content/env\n",
        "source /content/env\n",
        "cat > $SPICE_FILE <<EOF\n",
        ".SUBCKT $LAYOUT_TOP GND VCC1 VCC2 VCC3 RFin RFout\n",
        "\n",
        "XCc1 VCC1 GND cap_cmim w=30u l=60u A=1800p P=180u m=2\n",
        "XCc2 VCC2 GND cap_cmim w=30u l=60u A=1800p P=180u m=2\n",
        "XCc3 VCC3 GND cap_cmim w=30u l=60u A=1800p P=180u m=2\n",
        "\n",
        "XRRF RFin net2 rppd w=2u l=6.5u ps=0 b=0 m=1\n",
        "\n",
        "XRRC1 VCC1 net1 rppd w=8u l=4.5u ps=0 b=0 m=1\n",
        "XRRE2 net2 GND rppd w=3u l=6u ps=0 b=0 m=1\n",
        "\n",
        "XRRC3 VCC3 RFout rsil w=4u l=14.5u ps=0 b=0 m=1\n",
        "XRRE3 net3 GND rsil w=4u l=3u ps=0 b=0 m=1\n",
        "\n",
        "XQq1 net1 RFin GND GND npn13G2 AE=0.063p PE=1.94u AB=63.456p PB=45.22u\n",
        "+ AC=63.429884p PC=45.21u NE=10 m=10\n",
        "XQq2 VCC2 net1 net2 GND npn13G2 AE=0.063p PE=1.94u AB=31.9135p\n",
        "+ PB=26.72u AC=31.896634p PC=26.71u NE=5 m=5\n",
        "XQq3 RFout net2 net3 GND npn13G2 AE=0.063p PE=1.94u AB=63.456p\n",
        "+ PB=45.22u AC=63.429884p PC=45.21u NE=10 m=10\n",
        "\n",
        ".ENDS\n",
        "EOF"
      ],
      "metadata": {
        "id": "VHIIf0YTRKT1"
      },
      "execution_count": null,
      "outputs": []
    },
    {
      "cell_type": "markdown",
      "source": [
        "Create lvs_config.json and update the LVS_SPICE_FILES and LVS_VERILOG_FILES for every design.\n",
        "\n",
        "Update the other parameters as needed."
      ],
      "metadata": {
        "id": "OAEttZP5RKT1"
      }
    },
    {
      "cell_type": "code",
      "source": [
        "%%shell\n",
        "cat /content/env\n",
        "source /content/env\n",
        "cat > $WORK_ROOT/lvs_config.json <<EOF\n",
        "{\n",
        "  \"#STD_CELL_LIBRARY\": \"sky130_fd_sc_hd\",\n",
        "  \"#INCLUDE_CONFIGS\": [\n",
        "    \"$LVS_ROOT/tech/$PDK/lvs_config.base.json\"\n",
        "  ],\n",
        "  \"TOP_SOURCE\": \"$LAYOUT_TOP\",\n",
        "  \"TOP_LAYOUT\": \"$LAYOUT_TOP\",\n",
        "  \"EXTRACT_FLATGLOB\": [\n",
        "    \"cmim*\",\n",
        "    \"npn13G2*\",\n",
        "    \"rppd*\",\n",
        "    \"rsil*\",\n",
        "    \"sealring*\",\n",
        "    \"VIA_STACK*\",\n",
        "    \"DC_PAD_DOWN\",\n",
        "    \"DC_PAD_UP\",\n",
        "    \"INPUT_PAD\",\n",
        "    \"OUTPUT_PAD\",\n",
        "    \"*FILL_CELL*\",\n",
        "    \"GND_PLANE\",\n",
        "    \"*_STAGE\",\n",
        "    \"TIA\"\n",
        "  ],\n",
        "  \"EXTRACT_ABSTRACT\": [ \"\" ],\n",
        "  \"LVS_FLATTEN\": [ \"\" ],\n",
        "  \"LVS_NOFLATTEN\": [ \"\" ],\n",
        "  \"LVS_IGNORE\": [ \"\" ],\n",
        "  \"LVS_SPICE_FILES\": [\n",
        "    \"$SPICE_FILE\"\n",
        "  ],\n",
        "  \"#LVS_VERILOG_FILES\": [\n",
        "    \"$UPRJ_ROOT/verilog/gl/user_proj_example.v\",\n",
        "    \"$UPRJ_ROOT/verilog/gl/user_project_wrapper.v\"\n",
        "  ],\n",
        "  \"LAYOUT_FILE\": \"$UPRJ_ROOT/$PROJECT/$GDSFILE\"\n",
        "}\n",
        "EOF"
      ],
      "metadata": {
        "id": "Mrrreu3aRKT1"
      },
      "execution_count": null,
      "outputs": []
    },
    {
      "cell_type": "markdown",
      "source": [
        "Write cvcrc file"
      ],
      "metadata": {
        "id": "zPMfjyNVRKT1"
      }
    },
    {
      "cell_type": "code",
      "source": [
        "%%shell\n",
        "cat /content/env\n",
        "source /content/env\n",
        "cat > $WORK_ROOT/cvcrc <<EOF\n",
        "CVC_TOP = $LAYOUT_TOP\n",
        "CVC_NETLIST = $WORK_ROOT/ext/$LAYOUT_TOP.cdl.gz\n",
        "CVC_MODEL_FILE = $LVS_ROOT/tech/ihp-sg13g2/cvc.models\n",
        "CVC_POWER_FILE = $WORK_ROOT/cvc.power.$LAYOUT_TOP\n",
        "CVC_REPORT_FILE = $WORK_ROOT/cvc.log\n",
        "EOF\n",
        "\n",
        "cat > $WORK_ROOT/cvc.power.$LAYOUT_TOP <<EOF\n",
        "GND power 0.0\n",
        "VCC* power 3.3\n",
        "EOF"
      ],
      "metadata": {
        "id": "vxHfUYn3RKT1"
      },
      "execution_count": null,
      "outputs": []
    },
    {
      "cell_type": "markdown",
      "source": [
        "Create the klayout CDL file from the magic source netlist."
      ],
      "metadata": {
        "id": "a2KU7s4CRKT1"
      }
    },
    {
      "cell_type": "code",
      "source": [
        "%%shell\n",
        "source /content/env\n",
        "sed -e '/^X[MRC]/s/.//' $SPICE_FILE > $KLAYOUT_CDL\n"
      ],
      "metadata": {
        "id": "VdbpWNwyRKT1"
      },
      "execution_count": null,
      "outputs": []
    },
    {
      "cell_type": "markdown",
      "source": [
        "Results for 40_GHZ_LOW_NOISE_TIA\n",
        "*   layout has cells that have the same name as primitive devices. This causes netgen to segfault. <br>=> Flatglob all layout cells with primitive device names.\n",
        "* Top layout does not have text. `TIA` level has text, but also has missing connectivity. <br>=> Copy text from `TIA` ports to top level.\n",
        "*  `VCC3` text does not overlap pin shape.<br>=> move text.\n",
        "* `VCC1` an `VCC3` connections are reversed.![40GHz_klayout_lvs.png](data:image/png;base64,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)\n",
        "* Top level met7 text on pads is not recognized in magic extraction. For magic, change tech file or switch to PADID. However, PADID is not used in klayout.\n",
        "* Uses modified `npn13G2` devices. Modifing `npn13G2*` layouts is not allowed because the foundry adds layers.<br>This probably invalidates the design. No further analysis."
      ],
      "metadata": {
        "id": "q61kID9_RKT1"
      }
    },
    {
      "cell_type": "markdown",
      "source": [
        "# 3. 6502-cpu\n"
      ],
      "metadata": {
        "id": "fXKxBlBR87MZ"
      }
    },
    {
      "cell_type": "markdown",
      "source": [
        "Set the project, top cell and gds file names."
      ],
      "metadata": {
        "id": "x69XsgM387Ma"
      }
    },
    {
      "cell_type": "code",
      "source": [
        "%%shell\n",
        "source /content/env\n",
        "cat > $UPRJ_ROOT/project_env <<'EOF'\n",
        "export PROJECT=6502-cpu\n",
        "export LAYOUT_TOP=cpu_top\n",
        "export GDSFILE=design_data/gds/FMD_QNC_18_6502-cpu.2.gds\n",
        "export WORK_ROOT=$UPRJ_ROOT/$PROJECT/work/$LAYOUT_TOP\n",
        "export SPICE_FILE=$WORK_ROOT/$LAYOUT_TOP.spice\n",
        "export KLAYOUT_CDL=$WORK_ROOT/$LAYOUT_TOP.cdl\n",
        "EOF\n",
        "cat $UPRJ_ROOT/project_env\n",
        "source $UPRJ_ROOT/project_env\n",
        "rm -f /content/data/work\n",
        "rm -rf $WORK_ROOT\n",
        "mkdir -p $WORK_ROOT\n",
        "ln -s $WORK_ROOT /content/data/work\n",
        "ls -l /content/data/work"
      ],
      "metadata": {
        "id": "DI4aE8IQ87Ma"
      },
      "execution_count": null,
      "outputs": []
    },
    {
      "cell_type": "markdown",
      "source": [
        "Create the modified magic source netlist."
      ],
      "metadata": {
        "id": "RUPUsalX87Mb"
      }
    },
    {
      "cell_type": "code",
      "source": [
        "%%shell\n",
        "cat /content/env\n",
        "source /content/env\n",
        "cat > $SPICE_FILE <<EOF\n",
        ".SUBCKT $LAYOUT_TOP\n",
        "* no source\n",
        ".ENDS\n",
        "EOF"
      ],
      "metadata": {
        "id": "I038KFNS87Mb"
      },
      "execution_count": null,
      "outputs": []
    },
    {
      "cell_type": "markdown",
      "source": [
        "Create lvs_config.json and update the LVS_SPICE_FILES and LVS_VERILOG_FILES for every design.\n",
        "\n",
        "Update the other parameters as needed."
      ],
      "metadata": {
        "id": "Uns57HRy87Mb"
      }
    },
    {
      "cell_type": "code",
      "source": [
        "%%shell\n",
        "cat /content/env\n",
        "source /content/env\n",
        "cat > $WORK_ROOT/lvs_config.json <<EOF\n",
        "{\n",
        "  \"#STD_CELL_LIBRARY\": \"sky130_fd_sc_hd\",\n",
        "  \"#INCLUDE_CONFIGS\": [\n",
        "    \"$LVS_ROOT/tech/$PDK/lvs_config.base.json\"\n",
        "  ],\n",
        "  \"TOP_SOURCE\": \"$LAYOUT_TOP\",\n",
        "  \"TOP_LAYOUT\": \"$LAYOUT_TOP\",\n",
        "  \"EXTRACT_FLATGLOB\": [\n",
        "    \"sg13g2_Corner\",\n",
        "    \"sg13g2_Filler*\",\n",
        "    \"sg13g2_IOPad*\",\n",
        "    \"sg13g2_Clamp*\",\n",
        "    \"sg13g2_RCClamp*\",\n",
        "    \"sg13g2_DCNDiode\",\n",
        "    \"sg13g2_DCPDiode\",\n",
        "    \"sg13g2_GateDecode\",\n",
        "    \"sg13g2_LevelDown\",\n",
        "    \"sg13g2_SecondaryProtection\",\n",
        "    \"sg13g2_LevelUp\",\n",
        "    \"sg13g2_io_*\",\n",
        "    \"sg13g2_*LevelUpInv\",\n",
        "    \"TEXT*\",\n",
        "    \"VIA*\"\n",
        "  ],\n",
        "  \"EXTRACT_ABSTRACT\": [ \"\" ],\n",
        "  \"LVS_FLATTEN\": [ \"\" ],\n",
        "  \"LVS_NOFLATTEN\": [ \"\" ],\n",
        "  \"LVS_IGNORE\": [ \"\" ],\n",
        "  \"LVS_SPICE_FILES\": [\n",
        "    \"$SPICE_FILE\"\n",
        "  ],\n",
        "  \"#LVS_VERILOG_FILES\": [\n",
        "    \"$UPRJ_ROOT/verilog/gl/user_proj_example.v\",\n",
        "    \"$UPRJ_ROOT/verilog/gl/user_project_wrapper.v\"\n",
        "  ],\n",
        "  \"LAYOUT_FILE\": \"$UPRJ_ROOT/$PROJECT/$GDSFILE\"\n",
        "}\n",
        "EOF"
      ],
      "metadata": {
        "id": "VoHEgWx_87Mb"
      },
      "execution_count": null,
      "outputs": []
    },
    {
      "cell_type": "markdown",
      "source": [
        "Write cvcrc file"
      ],
      "metadata": {
        "id": "_qLIfpK687Mb"
      }
    },
    {
      "cell_type": "code",
      "source": [
        "%%shell\n",
        "cat /content/env\n",
        "source /content/env\n",
        "cat > $WORK_ROOT/cvcrc <<EOF\n",
        "CVC_TOP = $LAYOUT_TOP\n",
        "CVC_NETLIST = $WORK_ROOT/ext/$LAYOUT_TOP.cdl.gz\n",
        "CVC_MODEL_FILE = $LVS_ROOT/tech/ihp-sg13g2/cvc.models\n",
        "CVC_POWER_FILE = $WORK_ROOT/cvc.power.$LAYOUT_TOP\n",
        "CVC_REPORT_FILE = $WORK_ROOT/cvc.log\n",
        "EOF\n",
        "\n",
        "cat > $WORK_ROOT/cvc.power.$LAYOUT_TOP <<EOF\n",
        "*vss* power 0.0\n",
        "iovdd* power 3.3\n",
        "vdd power 1.5\n",
        "clk input min@0.0 max@3.3\n",
        "reset_n input min@0.0 max@3.3\n",
        "EOF"
      ],
      "metadata": {
        "id": "oJF6u71q87Mb"
      },
      "execution_count": null,
      "outputs": []
    },
    {
      "cell_type": "markdown",
      "source": [
        "Create the klayout CDL file from the magic source netlist."
      ],
      "metadata": {
        "id": "rheL8Qdc87Mb"
      }
    },
    {
      "cell_type": "code",
      "source": [
        "%%shell\n",
        "source /content/env\n",
        "sed -e '/^X[CDMQR]/s/.//' $SPICE_FILE > $KLAYOUT_CDL\n"
      ],
      "metadata": {
        "id": "Tf7b2B0I87Mb"
      },
      "execution_count": null,
      "outputs": []
    },
    {
      "cell_type": "markdown",
      "source": [
        "Results for 6502-cpu (incomplete)\n",
        "*   Missing top level power and ground.<br>=> Add top level pins for `iovss`, `iovdd`, `vdd`, and `vss`.\n",
        "* Missing source netlist.\n",
        "* `substrate` layer in `io` cells is not extracted as expected in magic."
      ],
      "metadata": {
        "id": "lm-owtjs87Mc"
      }
    },
    {
      "cell_type": "markdown",
      "source": [
        "# 4. 97_GHZ_LINEAR_TIA\n",
        "\n",
        "Not ready - do not run.\n",
        "\n",
        "Checks will not work with GDS file in repo.\n",
        "1. Copy text from `TIA` ports to top level layout.\n",
        "2. Save as `FMD_QNC_01_97_GHZ_LINEAR_TIA.mod.gds` and upload to `/content/data/97_GHZ_LINEAR_TIA/design_data/gds`."
      ],
      "metadata": {
        "id": "nYJSjJHT0BSF"
      }
    },
    {
      "cell_type": "markdown",
      "source": [
        "Set the project, top cell and gds file names."
      ],
      "metadata": {
        "id": "R984HCe10BSF"
      }
    },
    {
      "cell_type": "code",
      "source": [
        "%%shell\n",
        "source /content/env\n",
        "cat > $UPRJ_ROOT/project_env <<'EOF'\n",
        "export PROJECT=97_GHZ_LINEAR_TIA\n",
        "export LAYOUT_TOP=FMD_QNC_01_LIN_TIA\n",
        "export GDSFILE=design_data/gds/FMD_QNC_01_97_GHZ_LINEAR_TIA.mod.gds\n",
        "export WORK_ROOT=$UPRJ_ROOT/$PROJECT/work/$LAYOUT_TOP\n",
        "export SPICE_FILE=$WORK_ROOT/$LAYOUT_TOP.spice\n",
        "export KLAYOUT_CDL=$WORK_ROOT/$LAYOUT_TOP.cdl\n",
        "EOF\n",
        "cat $UPRJ_ROOT/project_env\n",
        "source $UPRJ_ROOT/project_env\n",
        "rm -f /content/data/work\n",
        "rm -rf $WORK_ROOT\n",
        "mkdir -p $WORK_ROOT\n",
        "ln -s $WORK_ROOT /content/data/work\n",
        "ls -l /content/data/work"
      ],
      "metadata": {
        "id": "7m06zFN70BSF"
      },
      "execution_count": null,
      "outputs": []
    },
    {
      "cell_type": "markdown",
      "source": [
        "Create the modified magic source netlist."
      ],
      "metadata": {
        "id": "CieNkCvu0BSF"
      }
    },
    {
      "cell_type": "code",
      "source": [
        "%%shell\n",
        "cat /content/env\n",
        "source /content/env\n",
        "cat > $SPICE_FILE <<EOF\n",
        "\n",
        ".SUBCKT $LAYOUT_TOP RFIN RFOUT VCC1 VCC2 GND\n",
        "\n",
        "\n",
        "XCDC3 VCC1 GND cap_cmim w=20u l=100u A=2000p P=240u m=1\n",
        "XCDC1 VCC1 GND cap_cmim w=60u l=60u A=3600p P=240u m=2\n",
        "XCDC24 VCC2 GND cap_cmim w=60u l=60u A=3600p P=240u m=2\n",
        "\n",
        "XRRC1 VCC1 NET12 rppd w=8.5U l=2U m=1\n",
        "XRRE2 NET23 GND rhigh w=8U l=8.2U m=1\n",
        "XRRE3 NET34 GND rppd w=4U l=2.9U m=1\n",
        "XRRC4 VCC2 RFOUT rppd w=20.6U l=2.1U m=1\n",
        "XQQ11 NET1 RFIN GND GND npn13G2 AE=0.063p PE=1.94u AB=63.456p PB=45.22u\n",
        "+ AC=63.429884p PC=45.21u NE=10 m=10\n",
        "XQQ12 NET12 VB1 NET1 GND npn13G2 AE=0.063p PE=1.94u AB=12.988p PB=15.62u\n",
        "+ AC=12.976684p PC=15.61u NE=2 m=2\n",
        "XQQ21 VCC2 NET12 NET23 GND npn13G2 AE=0.063p PE=1.94u AB=31.9135p PB=26.72u\n",
        "+ AC=31.896634p PC=26.71u NE=5 m=5\n",
        "XQQ31 NET3 NET23 NET34 GND npn13G2 AE=0.063p PE=1.94u AB=31.9135p PB=26.72u\n",
        "+ AC=31.896634p PC=26.71u NE=5 m=5\n",
        "XQQ32 VCC1 VCC1 NET3 GND npn13G2 AE=0.063p PE=1.94u AB=12.988p PB=15.62u\n",
        "+ AC=12.976684p PC=15.61u NE=2 m=2\n",
        "XQQ41 NET4 NET34 net0 GND npn13G2 AE=0.063p PE=1.94u AB=63.456p PB=45.22u\n",
        "+ AC=63.429884p PC=45.21u NE=10 m=10\n",
        "\n",
        "XCCB1 VB1 GND cap_cmim w=30u l=30u A=900p P=120u m=1\n",
        "XCCB2 VB2 GND cap_cmim w=30u l=30u A=900p P=120u m=1\n",
        "\n",
        "XQQB11 VB1 net1 net2 GND npn13G2 AE=0.063p PE=1.94u AB=6.6795p PB=11.92u\n",
        "+ AC=6.670034p PC=11.91u NE=1 m=1\n",
        "XQQB12 net3 net4 GND GND npn13G2 AE=0.063p PE=1.94u AB=6.6795p PB=11.92u\n",
        "+ AC=6.670034p PC=11.91u NE=1 m=1\n",
        "XQQB21 VB2 net5 net6 GND npn13G2 AE=0.063p PE=1.94u AB=6.6795p PB=11.92u\n",
        "+ AC=6.670034p PC=11.91u NE=1 m=1\n",
        "XQQB22 net7 net8 GND GND npn13G2 AE=0.063p PE=1.94u AB=6.6795p PB=11.92u\n",
        "+ AC=6.670034p PC=11.91u NE=1 m=1\n",
        "XRRB1_RB1 net1 VB1 rhigh w=3U l=2U m=1\n",
        "XRRB1_RC1 VCC1 VB1 rhigh w=3U l=2.94U m=1\n",
        "XRRB1_RC2 net2 net3 rhigh w=3U l=2U m=1\n",
        "XRRB1_RB2 net4 net3 rhigh w=3U l=2U m=1\n",
        "XRRB2_RC1 VCC2 VB2 rhigh w=3U l=1.94U m=1\n",
        "XRRB2_RB1 net5 VB2 rhigh w=3U l=2U m=1\n",
        "XRRB2_RC2 net7 net6 rhigh w=3U l=2U m=1\n",
        "XRRB2_RB2 net8 net7 rhigh w=3U l=2U m=1\n",
        "XQQF NET23 NET23 NETF GND npn13G2 AE=0.063p PE=1.94u AB=6.6795p PB=11.92u\n",
        "+ AC=6.670034p PC=11.91u NE=1 m=1\n",
        "XRRF1 RFIN NETF rppd w=4U l=13.3U m=1\n",
        "XRRF2 GND RFIN rhigh w=4U l=9.9U m=1\n",
        "\n",
        "\n",
        "XRRE4 net0 GND rsil w=18U l=30U m=1\n",
        "XQQ42 RFOUT VB2 NET4 GND npn13G2 AE=0.063p PE=1.94u AB=25.605p PB=23.02u\n",
        "+ AC=25.589984p PC=23.01u NE=4 m=4\n",
        ".END\n",
        "\n",
        "EOF"
      ],
      "metadata": {
        "id": "9kLySKRt0BSF"
      },
      "execution_count": null,
      "outputs": []
    },
    {
      "cell_type": "markdown",
      "source": [
        "Create lvs_config.json and update the LVS_SPICE_FILES and LVS_VERILOG_FILES for every design.\n",
        "\n",
        "Update the other parameters as needed."
      ],
      "metadata": {
        "id": "Xu-Mnstj0BSG"
      }
    },
    {
      "cell_type": "code",
      "source": [
        "%%shell\n",
        "cat /content/env\n",
        "source /content/env\n",
        "cat > $WORK_ROOT/lvs_config.json <<EOF\n",
        "{\n",
        "  \"#STD_CELL_LIBRARY\": \"sky130_fd_sc_hd\",\n",
        "  \"#INCLUDE_CONFIGS\": [\n",
        "    \"$LVS_ROOT/tech/$PDK/lvs_config.base.json\"\n",
        "  ],\n",
        "  \"TOP_SOURCE\": \"$LAYOUT_TOP\",\n",
        "  \"TOP_LAYOUT\": \"$LAYOUT_TOP\",\n",
        "  \"EXTRACT_FLATGLOB\": [\n",
        "    \"cmim*\",\n",
        "    \"npn13G2*\",\n",
        "    \"rhigh*\",\n",
        "    \"rppd*\",\n",
        "    \"rsil*\",\n",
        "    \"VIA*\",\n",
        "    \"GND\",\n",
        "    \"BIAS*\",\n",
        "    \"INPUT_PAD\",\n",
        "    \"OUTPUT_PAD\",\n",
        "    \"FEEDBACK\",\n",
        "    \"STAGE*\",\n",
        "    \"DC_PAD_*\",\n",
        "    \"TIA\",\n",
        "    \"NSL\"\n",
        "  ],\n",
        "  \"EXTRACT_ABSTRACT\": [ \"\" ],\n",
        "  \"LVS_FLATTEN\": [ \"\" ],\n",
        "  \"LVS_NOFLATTEN\": [ \"\" ],\n",
        "  \"LVS_IGNORE\": [ \"\" ],\n",
        "  \"LVS_SPICE_FILES\": [\n",
        "    \"$SPICE_FILE\"\n",
        "  ],\n",
        "  \"#LVS_VERILOG_FILES\": [\n",
        "    \"$UPRJ_ROOT/verilog/gl/user_proj_example.v\",\n",
        "    \"$UPRJ_ROOT/verilog/gl/user_project_wrapper.v\"\n",
        "  ],\n",
        "  \"LAYOUT_FILE\": \"$UPRJ_ROOT/$PROJECT/$GDSFILE\"\n",
        "}\n",
        "EOF"
      ],
      "metadata": {
        "id": "VgDaEvJe0BSG"
      },
      "execution_count": null,
      "outputs": []
    },
    {
      "cell_type": "markdown",
      "source": [
        "Write cvcrc file"
      ],
      "metadata": {
        "id": "t26iHVrT0BSG"
      }
    },
    {
      "cell_type": "code",
      "source": [
        "%%shell\n",
        "cat /content/env\n",
        "source /content/env\n",
        "cat > $WORK_ROOT/cvcrc <<EOF\n",
        "CVC_TOP = $LAYOUT_TOP\n",
        "CVC_NETLIST = $WORK_ROOT/ext/$LAYOUT_TOP.cdl.gz\n",
        "CVC_MODEL_FILE = $LVS_ROOT/tech/ihp-sg13g2/cvc.models\n",
        "CVC_POWER_FILE = $WORK_ROOT/cvc.power.$LAYOUT_TOP\n",
        "CVC_REPORT_FILE = $WORK_ROOT/cvc.log\n",
        "EOF\n",
        "\n",
        "cat > $WORK_ROOT/cvc.power.$LAYOUT_TOP <<EOF\n",
        "GND power 0.0\n",
        "VCC* power 3.3\n",
        "RFIN min@0.0 max@3.3\n",
        "EOF"
      ],
      "metadata": {
        "id": "kuLJkVJo0BSG"
      },
      "execution_count": null,
      "outputs": []
    },
    {
      "cell_type": "markdown",
      "source": [
        "Create the klayout CDL file from the magic source netlist."
      ],
      "metadata": {
        "id": "ETmSHr1P0BSG"
      }
    },
    {
      "cell_type": "code",
      "source": [
        "%%shell\n",
        "source /content/env\n",
        "sed -e '/^X[CDMQR]/s/.//' $SPICE_FILE > $KLAYOUT_CDL\n"
      ],
      "metadata": {
        "id": "I6IcHDj70BSG"
      },
      "execution_count": null,
      "outputs": []
    },
    {
      "cell_type": "markdown",
      "source": [
        "Results for 97_GHZ_LINEAR_TIA\n",
        "- pcells with names matching primitive devices should be flattened in magic extraction.\n",
        "- magic incorrectly extracts npn13g2 emmiter connections as unconnected."
      ],
      "metadata": {
        "id": "JwOpcHVn0BSG"
      }
    },
    {
      "cell_type": "markdown",
      "source": [
        "# 5. active_L_VCOs\n",
        "\n",
        "Not ready - do not run.\n"
      ],
      "metadata": {
        "id": "fUBXvK431U_J"
      }
    },
    {
      "cell_type": "markdown",
      "source": [
        "Set the project, top cell and gds file names."
      ],
      "metadata": {
        "id": "PP3Zbt9q1U_K"
      }
    },
    {
      "cell_type": "code",
      "source": [
        "%%shell\n",
        "source /content/env\n",
        "cat > $UPRJ_ROOT/project_env <<'EOF'\n",
        "export PROJECT=active_L_VCOs\n",
        "export LAYOUT_TOP=\n",
        "export GDSFILE=design_data/gds/\n",
        "export WORK_ROOT=$UPRJ_ROOT/$PROJECT/work/$LAYOUT_TOP\n",
        "export SPICE_FILE=$WORK_ROOT/$LAYOUT_TOP.spice\n",
        "export KLAYOUT_CDL=$WORK_ROOT/$LAYOUT_TOP.cdl\n",
        "EOF\n",
        "cat $UPRJ_ROOT/project_env\n",
        "source $UPRJ_ROOT/project_env\n",
        "rm -f /content/data/work\n",
        "rm -rf $WORK_ROOT\n",
        "mkdir -p $WORK_ROOT\n",
        "ln -s $WORK_ROOT /content/data/work\n",
        "ls -l /content/data/work"
      ],
      "metadata": {
        "id": "fRNGaChO1U_K"
      },
      "execution_count": null,
      "outputs": []
    },
    {
      "cell_type": "markdown",
      "source": [
        "Create the modified magic source netlist."
      ],
      "metadata": {
        "id": "JFkIfplG1U_K"
      }
    },
    {
      "cell_type": "code",
      "source": [
        "%%shell\n",
        "cat /content/env\n",
        "source /content/env\n",
        "cat > $SPICE_FILE <<EOF\n",
        ".SUBCKT $LAYOUT_TOP\n",
        "* no source\n",
        ".ENDS\n",
        "EOF"
      ],
      "metadata": {
        "id": "TMXCTSCk1U_K"
      },
      "execution_count": null,
      "outputs": []
    },
    {
      "cell_type": "markdown",
      "source": [
        "Create lvs_config.json and update the LVS_SPICE_FILES and LVS_VERILOG_FILES for every design.\n",
        "\n",
        "Update the other parameters as needed."
      ],
      "metadata": {
        "id": "JGrCLBsu1U_K"
      }
    },
    {
      "cell_type": "code",
      "source": [
        "%%shell\n",
        "cat /content/env\n",
        "source /content/env\n",
        "cat > $WORK_ROOT/lvs_config.json <<EOF\n",
        "{\n",
        "  \"#STD_CELL_LIBRARY\": \"sky130_fd_sc_hd\",\n",
        "  \"#INCLUDE_CONFIGS\": [\n",
        "    \"$LVS_ROOT/tech/$PDK/lvs_config.base.json\"\n",
        "  ],\n",
        "  \"TOP_SOURCE\": \"$LAYOUT_TOP\",\n",
        "  \"TOP_LAYOUT\": \"$LAYOUT_TOP\",\n",
        "  \"EXTRACT_FLATGLOB\": [\n",
        "    \"sg13g2_Corner\",\n",
        "    \"sg13g2_Filler*\",\n",
        "    \"sg13g2_IOPad*\",\n",
        "    \"sg13g2_Clamp*\",\n",
        "    \"sg13g2_RCClamp*\",\n",
        "    \"sg13g2_DCNDiode\",\n",
        "    \"sg13g2_DCPDiode\",\n",
        "    \"sg13g2_GateDecode\",\n",
        "    \"sg13g2_LevelDown\",\n",
        "    \"sg13g2_SecondaryProtection\",\n",
        "    \"sg13g2_LevelUp\",\n",
        "    \"sg13g2_io_*\",\n",
        "    \"sg13g2_*LevelUpInv\",\n",
        "    \"TEXT*\",\n",
        "    \"VIA*\"\n",
        "  ],\n",
        "  \"EXTRACT_ABSTRACT\": [ \"\" ],\n",
        "  \"LVS_FLATTEN\": [ \"\" ],\n",
        "  \"LVS_NOFLATTEN\": [ \"\" ],\n",
        "  \"LVS_IGNORE\": [ \"\" ],\n",
        "  \"LVS_SPICE_FILES\": [\n",
        "    \"$SPICE_FILE\"\n",
        "  ],\n",
        "  \"#LVS_VERILOG_FILES\": [\n",
        "    \"$UPRJ_ROOT/verilog/gl/user_proj_example.v\",\n",
        "    \"$UPRJ_ROOT/verilog/gl/user_project_wrapper.v\"\n",
        "  ],\n",
        "  \"LAYOUT_FILE\": \"$UPRJ_ROOT/$PROJECT/$GDSFILE\"\n",
        "}\n",
        "EOF"
      ],
      "metadata": {
        "id": "OVliWaKv1U_K"
      },
      "execution_count": null,
      "outputs": []
    },
    {
      "cell_type": "markdown",
      "source": [
        "Write cvcrc file"
      ],
      "metadata": {
        "id": "eKKPMBws1U_K"
      }
    },
    {
      "cell_type": "code",
      "source": [
        "%%shell\n",
        "cat /content/env\n",
        "source /content/env\n",
        "cat > $WORK_ROOT/cvcrc <<EOF\n",
        "CVC_TOP = $LAYOUT_TOP\n",
        "CVC_NETLIST = $WORK_ROOT/ext/$LAYOUT_TOP.cdl.gz\n",
        "CVC_MODEL_FILE = $LVS_ROOT/tech/ihp-sg13g2/cvc.models\n",
        "CVC_POWER_FILE = $WORK_ROOT/cvc.power.$LAYOUT_TOP\n",
        "CVC_REPORT_FILE = $WORK_ROOT/cvc.log\n",
        "EOF\n",
        "\n",
        "cat > $WORK_ROOT/cvc.power.$LAYOUT_TOP <<EOF\n",
        "*vss* power 0.0\n",
        "iovdd* power 3.3\n",
        "vdd power 1.5\n",
        "clk input min@0.0 max@3.3\n",
        "reset_n input min@0.0 max@3.3\n",
        "EOF"
      ],
      "metadata": {
        "id": "SP4xDu1R1U_K"
      },
      "execution_count": null,
      "outputs": []
    },
    {
      "cell_type": "markdown",
      "source": [
        "Create the klayout CDL file from the magic source netlist."
      ],
      "metadata": {
        "id": "CidOnjpU1U_K"
      }
    },
    {
      "cell_type": "code",
      "source": [
        "%%shell\n",
        "source /content/env\n",
        "sed -e '/^X[CDMQR]/s/.//' $SPICE_FILE > $KLAYOUT_CDL\n"
      ],
      "metadata": {
        "id": "yMI8CNs-1U_K"
      },
      "execution_count": null,
      "outputs": []
    },
    {
      "cell_type": "markdown",
      "source": [
        "Results for active_L_VCOs\n"
      ],
      "metadata": {
        "id": "6dvSiycs1U_K"
      }
    },
    {
      "cell_type": "markdown",
      "source": [
        "# 6. ascon\n",
        "\n",
        "Not ready - do not run.\n"
      ],
      "metadata": {
        "id": "ZY9SvGsJ1xvf"
      }
    },
    {
      "cell_type": "markdown",
      "source": [
        "Set the project, top cell and gds file names."
      ],
      "metadata": {
        "id": "iIcqtlD41xvf"
      }
    },
    {
      "cell_type": "code",
      "source": [
        "%%shell\n",
        "source /content/env\n",
        "cat > $UPRJ_ROOT/project_env <<'EOF'\n",
        "export PROJECT=ascon\n",
        "export LAYOUT_TOP=\n",
        "export GDSFILE=design_data/gds/\n",
        "export WORK_ROOT=$UPRJ_ROOT/$PROJECT/work/$LAYOUT_TOP\n",
        "export SPICE_FILE=$WORK_ROOT/$LAYOUT_TOP.spice\n",
        "export KLAYOUT_CDL=$WORK_ROOT/$LAYOUT_TOP.cdl\n",
        "EOF\n",
        "cat $UPRJ_ROOT/project_env\n",
        "source $UPRJ_ROOT/project_env\n",
        "rm -f /content/data/work\n",
        "rm -rf $WORK_ROOT\n",
        "mkdir -p $WORK_ROOT\n",
        "ln -s $WORK_ROOT /content/data/work\n",
        "ls -l /content/data/work"
      ],
      "metadata": {
        "id": "-yp4gIPd1xvf"
      },
      "execution_count": null,
      "outputs": []
    },
    {
      "cell_type": "markdown",
      "source": [
        "Create the modified magic source netlist."
      ],
      "metadata": {
        "id": "OjaAPaA11xvg"
      }
    },
    {
      "cell_type": "code",
      "source": [
        "%%shell\n",
        "cat /content/env\n",
        "source /content/env\n",
        "cat > $SPICE_FILE <<EOF\n",
        ".SUBCKT $LAYOUT_TOP\n",
        "* no source\n",
        ".ENDS\n",
        "EOF"
      ],
      "metadata": {
        "id": "UCI-677K1xvg"
      },
      "execution_count": null,
      "outputs": []
    },
    {
      "cell_type": "markdown",
      "source": [
        "Create lvs_config.json and update the LVS_SPICE_FILES and LVS_VERILOG_FILES for every design.\n",
        "\n",
        "Update the other parameters as needed."
      ],
      "metadata": {
        "id": "4I2P50Xs1xvg"
      }
    },
    {
      "cell_type": "code",
      "source": [
        "%%shell\n",
        "cat /content/env\n",
        "source /content/env\n",
        "cat > $WORK_ROOT/lvs_config.json <<EOF\n",
        "{\n",
        "  \"#STD_CELL_LIBRARY\": \"sky130_fd_sc_hd\",\n",
        "  \"#INCLUDE_CONFIGS\": [\n",
        "    \"$LVS_ROOT/tech/$PDK/lvs_config.base.json\"\n",
        "  ],\n",
        "  \"TOP_SOURCE\": \"$LAYOUT_TOP\",\n",
        "  \"TOP_LAYOUT\": \"$LAYOUT_TOP\",\n",
        "  \"EXTRACT_FLATGLOB\": [\n",
        "    \"sg13g2_Corner\",\n",
        "    \"sg13g2_Filler*\",\n",
        "    \"sg13g2_IOPad*\",\n",
        "    \"sg13g2_Clamp*\",\n",
        "    \"sg13g2_RCClamp*\",\n",
        "    \"sg13g2_DCNDiode\",\n",
        "    \"sg13g2_DCPDiode\",\n",
        "    \"sg13g2_GateDecode\",\n",
        "    \"sg13g2_LevelDown\",\n",
        "    \"sg13g2_SecondaryProtection\",\n",
        "    \"sg13g2_LevelUp\",\n",
        "    \"sg13g2_io_*\",\n",
        "    \"sg13g2_*LevelUpInv\",\n",
        "    \"TEXT*\",\n",
        "    \"VIA*\"\n",
        "  ],\n",
        "  \"EXTRACT_ABSTRACT\": [ \"\" ],\n",
        "  \"LVS_FLATTEN\": [ \"\" ],\n",
        "  \"LVS_NOFLATTEN\": [ \"\" ],\n",
        "  \"LVS_IGNORE\": [ \"\" ],\n",
        "  \"LVS_SPICE_FILES\": [\n",
        "    \"$SPICE_FILE\"\n",
        "  ],\n",
        "  \"#LVS_VERILOG_FILES\": [\n",
        "    \"$UPRJ_ROOT/verilog/gl/user_proj_example.v\",\n",
        "    \"$UPRJ_ROOT/verilog/gl/user_project_wrapper.v\"\n",
        "  ],\n",
        "  \"LAYOUT_FILE\": \"$UPRJ_ROOT/$PROJECT/$GDSFILE\"\n",
        "}\n",
        "EOF"
      ],
      "metadata": {
        "id": "gum3vlZ-1xvg"
      },
      "execution_count": null,
      "outputs": []
    },
    {
      "cell_type": "markdown",
      "source": [
        "Write cvcrc file"
      ],
      "metadata": {
        "id": "xHJW4Rd11xvg"
      }
    },
    {
      "cell_type": "code",
      "source": [
        "%%shell\n",
        "cat /content/env\n",
        "source /content/env\n",
        "cat > $WORK_ROOT/cvcrc <<EOF\n",
        "CVC_TOP = $LAYOUT_TOP\n",
        "CVC_NETLIST = $WORK_ROOT/ext/$LAYOUT_TOP.cdl.gz\n",
        "CVC_MODEL_FILE = $LVS_ROOT/tech/ihp-sg13g2/cvc.models\n",
        "CVC_POWER_FILE = $WORK_ROOT/cvc.power.$LAYOUT_TOP\n",
        "CVC_REPORT_FILE = $WORK_ROOT/cvc.log\n",
        "EOF\n",
        "\n",
        "cat > $WORK_ROOT/cvc.power.$LAYOUT_TOP <<EOF\n",
        "*vss* power 0.0\n",
        "iovdd* power 3.3\n",
        "vdd power 1.5\n",
        "clk input min@0.0 max@3.3\n",
        "reset_n input min@0.0 max@3.3\n",
        "EOF"
      ],
      "metadata": {
        "id": "Cu5Ztqb21xvg"
      },
      "execution_count": null,
      "outputs": []
    },
    {
      "cell_type": "markdown",
      "source": [
        "Create the klayout CDL file from the magic source netlist."
      ],
      "metadata": {
        "id": "zkqiE1ol1xvg"
      }
    },
    {
      "cell_type": "code",
      "source": [
        "%%shell\n",
        "source /content/env\n",
        "sed -e '/^X[CDMQR]/s/.//' $SPICE_FILE > $KLAYOUT_CDL\n"
      ],
      "metadata": {
        "id": "gX5oB08w1xvg"
      },
      "execution_count": null,
      "outputs": []
    },
    {
      "cell_type": "markdown",
      "source": [
        "Results for ascon\n"
      ],
      "metadata": {
        "id": "LpjUWyZ-1xvg"
      }
    },
    {
      "cell_type": "markdown",
      "source": [
        "# 7. bandgap_ref_cmos\n"
      ],
      "metadata": {
        "id": "34M9z14wqiAZ"
      }
    },
    {
      "cell_type": "markdown",
      "source": [
        "Set the project, top cell and gds file names."
      ],
      "metadata": {
        "id": "1OpxVcGbry5e"
      }
    },
    {
      "cell_type": "code",
      "source": [
        "%%shell\n",
        "source /content/env\n",
        "cat > $UPRJ_ROOT/project_env <<'EOF'\n",
        "export PROJECT=bandgap_ref_cmos\n",
        "export LAYOUT_TOP=full_bandgap\n",
        "export GDSFILE=design_data/gds/FMD_QNC_15_WeakInvBGR.gds\n",
        "export WORK_ROOT=$UPRJ_ROOT/$PROJECT/work/$LAYOUT_TOP\n",
        "export SPICE_FILE=$WORK_ROOT/$LAYOUT_TOP.spice\n",
        "export KLAYOUT_CDL=$WORK_ROOT/$LAYOUT_TOP.cdl\n",
        "EOF\n",
        "cat $UPRJ_ROOT/project_env\n",
        "source $UPRJ_ROOT/project_env\n",
        "rm -f /content/data/work\n",
        "rm -rf $WORK_ROOT\n",
        "mkdir -p $WORK_ROOT\n",
        "ln -s $WORK_ROOT /content/data/work\n",
        "ls -l /content/data/work"
      ],
      "metadata": {
        "id": "4tto2vQbPMYF"
      },
      "execution_count": null,
      "outputs": []
    },
    {
      "cell_type": "markdown",
      "source": [
        "Create the modified magic source netlist."
      ],
      "metadata": {
        "id": "uyMpUnP_w-iv"
      }
    },
    {
      "cell_type": "code",
      "source": [
        "%%shell\n",
        "cat /content/env\n",
        "source /content/env\n",
        "cat > $SPICE_FILE <<EOF\n",
        "** sch_path: /Users/home/IHP/TO_Apr2025/bandgap_ref_cmos/design_data/xschem/part_2_full_bgr/bandgap_reference.sch\n",
        ".subckt full_bandgap vdd VBG vss iout\n",
        "*.PININFO vplus:B v-:B Vo1:B VBG:O\n",
        "XM8 net1 v- vss vss sg13_lv_nmos l=10u w=150n ng=1 m=1\n",
        "XM6 net1 net1 vdd vdd sg13_lv_pmos l=1u w=1u ng=1 m=1\n",
        "XM7 net2 net1 vdd vdd sg13_lv_pmos l=1u w=1u ng=1 m=1\n",
        "XM9 v- net2 vdd vdd sg13_lv_pmos l=4u w=200n ng=1 m=1\n",
        "XM1 v- vplus vss vss sg13_lv_nmos l=5u w=7.14u ng=4 m=1\n",
        "XM2 net3 net3 vss vss sg13_lv_nmos l=5u w=21u ng=8 m=1\n",
        "XM3 v- Vo1 vdd vdd sg13_lv_pmos l=5u w=15u ng=8 m=1\n",
        "XM4 vplus Vo1 vdd vdd sg13_lv_pmos l=5u w=15u ng=8 m=1\n",
        "XM5 VBG Vo1 vdd vdd sg13_lv_pmos l=5u w=16u ng=8 m=1\n",
        "*XC3 VBG vss cap_cmim w=72.965e-6 l=72.965e-6 m=1\n",
        "XC3 vdd vss cap_cmim w=5e-6 l=5e-6 m=15\n",
        "XR3 net3 vplus rppd w=0.5e-6 l=194.345e-6 m=1 b=0\n",
        "*XR1 vss vplus rppd w=0.6e-6 l=194.345e-6 m=1 b=0\n",
        "XR1_1 vss mid rppd w=03.0e-6 l=38.645e-6 m=1 b=0\n",
        "XR1_2 mid vplus rppd w=0.5e-6 l=154.58e-6 m=1 b=0\n",
        "*XR2 vss VBG rppd w=0.5e-6 l=192.395e-6 m=1 b=0\n",
        "XR2 vss VBG rppd w=0.71e-6 l=270.515e-6 m=1 b=0\n",
        "XC1 net2 vss cap_cmim w=18.195e-6 l=18.195e-6 m=1\n",
        "x1 vdd iout vplus v- Vo1 vss two_stage_OTA\n",
        ".ends\n",
        "\n",
        "* expanding   symbol:  part_1_OTA/two_stage_OTA.sym # of pins=6\n",
        "** sym_path: /Users/home/IHP/TO_Apr2025/bandgap_ref_cmos/design_data/xschem/part_1_OTA/two_stage_OTA.sym\n",
        "** sch_path: /Users/home/IHP/TO_Apr2025/bandgap_ref_cmos/design_data/xschem/part_1_OTA/two_stage_OTA.sch\n",
        ".subckt two_stage_OTA vdd iout vplus v- vout vss\n",
        "*.PININFO v-:B vplus:B vss:B vdd:B iout:B vout:B\n",
        "XM4 net3 net1 vss vss sg13_lv_nmos l=9.75u w=720n ng=1 m=1\n",
        "XM3 net1 net1 vss vss sg13_lv_nmos l=9.75u w=720n ng=1 m=1\n",
        "XM1 net1 v- net2 vdd sg13_lv_pmos l=3.7u w=3.64u ng=1 m=2\n",
        "XM_dummy net1 vdd vdd vdd sg13_lv_pmos l=3.7u w=3.64u ng=1 m=2\n",
        "XM2 net3 vplus net2 vdd sg13_lv_pmos l=3.7u w=3.64u ng=1 m=2\n",
        "XM_dummy2 vdd vdd net2 vdd sg13_lv_pmos l=3.7u w=3.64u ng=1 m=4\n",
        "XM_dummy3 net3 vdd vdd vdd sg13_lv_pmos l=3.7u w=3.64u ng=1 m=2\n",
        "XM5 net2 iout vdd vdd sg13_lv_pmos l=1.95u w=5.3u ng=1 m=1\n",
        "XM7 vout iout vdd vdd sg13_lv_pmos l=2.08u w=75u ng=8 m=1\n",
        "XM6 vout net3 vss vss sg13_lv_nmos l=9.75u w=28.8u ng=4 m=1\n",
        "XM9 iout iout vdd vdd sg13_lv_pmos l=2.08u w=75u ng=8 m=1\n",
        "XC2 net3 vout cap_cmim w=22.295e-6 l=22.295e-6 m=1\n",
        ".ends\n",
        "EOF"
      ],
      "metadata": {
        "id": "TXW2bg3y3Ubu"
      },
      "execution_count": null,
      "outputs": []
    },
    {
      "cell_type": "markdown",
      "source": [
        "Create lvs_config.json and update the LVS_SPICE_FILES and LVS_VERILOG_FILES for every design.\n",
        "\n",
        "Update the other parameters as needed."
      ],
      "metadata": {
        "id": "C-RkpMNj55IG"
      }
    },
    {
      "cell_type": "code",
      "source": [
        "%%shell\n",
        "cat /content/env\n",
        "source /content/env\n",
        "cat > $WORK_ROOT/lvs_config.json <<EOF\n",
        "{\n",
        "  \"#STD_CELL_LIBRARY\": \"sky130_fd_sc_hd\",\n",
        "  \"#INCLUDE_CONFIGS\": [\n",
        "    \"$LVS_ROOT/tech/$PDK/lvs_config.base.json\"\n",
        "  ],\n",
        "  \"TOP_SOURCE\": \"$LAYOUT_TOP\",\n",
        "  \"TOP_LAYOUT\": \"$LAYOUT_TOP\",\n",
        "  \"EXTRACT_FLATGLOB\": [ \"\" ],\n",
        "  \"EXTRACT_ABSTRACT\": [ \"\" ],\n",
        "  \"LVS_FLATTEN\": [ \"\" ],\n",
        "  \"LVS_NOFLATTEN\": [ \"\" ],\n",
        "  \"LVS_IGNORE\": [ \"\" ],\n",
        "  \"LVS_SPICE_FILES\": [\n",
        "    \"$SPICE_FILE\"\n",
        "  ],\n",
        "  \"#LVS_VERILOG_FILES\": [\n",
        "    \"$UPRJ_ROOT/verilog/gl/user_proj_example.v\",\n",
        "    \"$UPRJ_ROOT/verilog/gl/user_project_wrapper.v\"\n",
        "  ],\n",
        "  \"LAYOUT_FILE\": \"$UPRJ_ROOT/$PROJECT/$GDSFILE\"\n",
        "}"
      ],
      "metadata": {
        "id": "-YDsClVCLAju"
      },
      "execution_count": null,
      "outputs": []
    },
    {
      "cell_type": "markdown",
      "source": [
        "Write cvcrc file"
      ],
      "metadata": {
        "id": "aTHW_6RkVWsu"
      }
    },
    {
      "cell_type": "code",
      "source": [
        "%%shell\n",
        "cat /content/env\n",
        "source /content/env\n",
        "cat > $WORK_ROOT/cvcrc <<EOF\n",
        "CVC_TOP = $LAYOUT_TOP\n",
        "CVC_NETLIST = $WORK_ROOT/ext/$LAYOUT_TOP.cdl.gz\n",
        "CVC_MODEL_FILE = $LVS_ROOT/tech/ihp-sg13g2/cvc.models\n",
        "CVC_POWER_FILE = $WORK_ROOT/cvc.power.$LAYOUT_TOP\n",
        "CVC_REPORT_FILE = $WORK_ROOT/cvc.log\n",
        "EOF\n",
        "\n",
        "cat > $WORK_ROOT/cvc.power.$LAYOUT_TOP <<EOF\n",
        "vss power 0.0\n",
        "vdd power 1.5\n",
        "EOF"
      ],
      "metadata": {
        "id": "yo8tcKW_S_qq"
      },
      "execution_count": null,
      "outputs": []
    },
    {
      "cell_type": "markdown",
      "source": [
        "Create the klayout CDL file from the magic source netlist."
      ],
      "metadata": {
        "id": "C3XdfvZNxxj_"
      }
    },
    {
      "cell_type": "code",
      "source": [
        "%%shell\n",
        "source /content/env\n",
        "sed -e '/^X[MRC]/s/.//' $SPICE_FILE > $KLAYOUT_CDL\n"
      ],
      "metadata": {
        "id": "5_9YQmdZx37P"
      },
      "execution_count": null,
      "outputs": []
    },
    {
      "cell_type": "markdown",
      "source": [
        "Results for bandgap_ref_cmos\n",
        "*   Pad text is on metal7 layer. This is not recognized on pads in magic. Either move the text to a region outside the pad, change the text layer to the PADID layer (41/0), or modify the magic extraction rules to recognize metal7 text on pads.\n",
        "*   Klayout extraction rules generate n/ptap devices for layout taps annotated with \"well\"/\"sub!\" text. The schematic does not include these devices. Either add the devices to the schematic or remove the \"well\" and \"sub!\" text from the layout.\n",
        "*   Ports do not match. Layout ports are vss, vdd, VBG, and iout. Netlist ports are GND, vdd, v+, v-, Vo1, and VBG. iout in the schematic is currently shorted to ground through an ammeter. Suggest removing v+, v-, Vo1 ports in schematic while adding iout port. Suggest changing GND from a global net to a port named vss in the schematic to match the layout.\n",
        "* Layout has 3 dummy pmos (gate and source connected to vdd) not found in the schematic. Suggest adding them to the schematic. Suggest adding the following to `two_stage_OTA`\n",
        "```\n",
        "XM_dummy net1 vdd vdd vdd sg13_lv_pmos l=3.7u w=3.64u ng=1 m=2\n",
        "XM_dummy2 vdd vdd net2 vdd sg13_lv_pmos l=3.7u w=3.64u ng=1 m=4\n",
        "XM_dummy3 net3 vdd vdd vdd sg13_lv_pmos l=3.7u w=3.64u ng=1 m=2\n",
        "```\n",
        "* cap_cmim connected between VBG and vss in the schematic is connected between vdd and vss in the layout. The schematic size is 72.965 x 72.965 but the layout size is 5x5 m=15.\n",
        "* R2 schematic size is 0.5/192.395 but layout is 0.71/38.645x7\n",
        "* R1 schematic size is 0.6/194.345 but layout consists of resistors of different widths. 3.0/38.645 and 0.5/38.645x4. Currently netgen and klayout only reduce resistors with the same widths."
      ],
      "metadata": {
        "id": "zfwoFmjlT5jO"
      }
    },
    {
      "cell_type": "markdown",
      "source": [
        "# 8. DC_to_130_GHz_TIA\n",
        "\n",
        "Not ready - do not run.\n"
      ],
      "metadata": {
        "id": "PNk6LgHN2N_l"
      }
    },
    {
      "cell_type": "markdown",
      "source": [
        "Set the project, top cell and gds file names."
      ],
      "metadata": {
        "id": "PNuNee2H2N_l"
      }
    },
    {
      "cell_type": "code",
      "source": [
        "%%shell\n",
        "source /content/env\n",
        "cat > $UPRJ_ROOT/project_env <<'EOF'\n",
        "export PROJECT=ascon\n",
        "export LAYOUT_TOP=\n",
        "export GDSFILE=design_data/gds/\n",
        "export WORK_ROOT=$UPRJ_ROOT/$PROJECT/work/$LAYOUT_TOP\n",
        "export SPICE_FILE=$WORK_ROOT/$LAYOUT_TOP.spice\n",
        "export KLAYOUT_CDL=$WORK_ROOT/$LAYOUT_TOP.cdl\n",
        "EOF\n",
        "cat $UPRJ_ROOT/project_env\n",
        "source $UPRJ_ROOT/project_env\n",
        "rm -f /content/data/work\n",
        "rm -rf $WORK_ROOT\n",
        "mkdir -p $WORK_ROOT\n",
        "ln -s $WORK_ROOT /content/data/work\n",
        "ls -l /content/data/work"
      ],
      "metadata": {
        "id": "CBpMuaSF2N_l"
      },
      "execution_count": null,
      "outputs": []
    },
    {
      "cell_type": "markdown",
      "source": [
        "Create the modified magic source netlist."
      ],
      "metadata": {
        "id": "Epd8TVBM2N_m"
      }
    },
    {
      "cell_type": "code",
      "source": [
        "%%shell\n",
        "cat /content/env\n",
        "source /content/env\n",
        "cat > $SPICE_FILE <<EOF\n",
        ".SUBCKT $LAYOUT_TOP\n",
        "* no source\n",
        ".ENDS\n",
        "EOF"
      ],
      "metadata": {
        "id": "Xg7tZnBt2N_m"
      },
      "execution_count": null,
      "outputs": []
    },
    {
      "cell_type": "markdown",
      "source": [
        "Create lvs_config.json and update the LVS_SPICE_FILES and LVS_VERILOG_FILES for every design.\n",
        "\n",
        "Update the other parameters as needed."
      ],
      "metadata": {
        "id": "MZNSNoIv2N_m"
      }
    },
    {
      "cell_type": "code",
      "source": [
        "%%shell\n",
        "cat /content/env\n",
        "source /content/env\n",
        "cat > $WORK_ROOT/lvs_config.json <<EOF\n",
        "{\n",
        "  \"#STD_CELL_LIBRARY\": \"sky130_fd_sc_hd\",\n",
        "  \"#INCLUDE_CONFIGS\": [\n",
        "    \"$LVS_ROOT/tech/$PDK/lvs_config.base.json\"\n",
        "  ],\n",
        "  \"TOP_SOURCE\": \"$LAYOUT_TOP\",\n",
        "  \"TOP_LAYOUT\": \"$LAYOUT_TOP\",\n",
        "  \"EXTRACT_FLATGLOB\": [\n",
        "    \"sg13g2_Corner\",\n",
        "    \"sg13g2_Filler*\",\n",
        "    \"sg13g2_IOPad*\",\n",
        "    \"sg13g2_Clamp*\",\n",
        "    \"sg13g2_RCClamp*\",\n",
        "    \"sg13g2_DCNDiode\",\n",
        "    \"sg13g2_DCPDiode\",\n",
        "    \"sg13g2_GateDecode\",\n",
        "    \"sg13g2_LevelDown\",\n",
        "    \"sg13g2_SecondaryProtection\",\n",
        "    \"sg13g2_LevelUp\",\n",
        "    \"sg13g2_io_*\",\n",
        "    \"sg13g2_*LevelUpInv\",\n",
        "    \"TEXT*\",\n",
        "    \"VIA*\"\n",
        "  ],\n",
        "  \"EXTRACT_ABSTRACT\": [ \"\" ],\n",
        "  \"LVS_FLATTEN\": [ \"\" ],\n",
        "  \"LVS_NOFLATTEN\": [ \"\" ],\n",
        "  \"LVS_IGNORE\": [ \"\" ],\n",
        "  \"LVS_SPICE_FILES\": [\n",
        "    \"$SPICE_FILE\"\n",
        "  ],\n",
        "  \"#LVS_VERILOG_FILES\": [\n",
        "    \"$UPRJ_ROOT/verilog/gl/user_proj_example.v\",\n",
        "    \"$UPRJ_ROOT/verilog/gl/user_project_wrapper.v\"\n",
        "  ],\n",
        "  \"LAYOUT_FILE\": \"$UPRJ_ROOT/$PROJECT/$GDSFILE\"\n",
        "}\n",
        "EOF"
      ],
      "metadata": {
        "id": "x_LuDoWV2N_m"
      },
      "execution_count": null,
      "outputs": []
    },
    {
      "cell_type": "markdown",
      "source": [
        "Write cvcrc file"
      ],
      "metadata": {
        "id": "t_GORE_h2N_m"
      }
    },
    {
      "cell_type": "code",
      "source": [
        "%%shell\n",
        "cat /content/env\n",
        "source /content/env\n",
        "cat > $WORK_ROOT/cvcrc <<EOF\n",
        "CVC_TOP = $LAYOUT_TOP\n",
        "CVC_NETLIST = $WORK_ROOT/ext/$LAYOUT_TOP.cdl.gz\n",
        "CVC_MODEL_FILE = $LVS_ROOT/tech/ihp-sg13g2/cvc.models\n",
        "CVC_POWER_FILE = $WORK_ROOT/cvc.power.$LAYOUT_TOP\n",
        "CVC_REPORT_FILE = $WORK_ROOT/cvc.log\n",
        "EOF\n",
        "\n",
        "cat > $WORK_ROOT/cvc.power.$LAYOUT_TOP <<EOF\n",
        "*vss* power 0.0\n",
        "iovdd* power 3.3\n",
        "vdd power 1.5\n",
        "clk input min@0.0 max@3.3\n",
        "reset_n input min@0.0 max@3.3\n",
        "EOF"
      ],
      "metadata": {
        "id": "Vz_tUz3N2N_m"
      },
      "execution_count": null,
      "outputs": []
    },
    {
      "cell_type": "markdown",
      "source": [
        "Create the klayout CDL file from the magic source netlist."
      ],
      "metadata": {
        "id": "kvkxQqE72N_m"
      }
    },
    {
      "cell_type": "code",
      "source": [
        "%%shell\n",
        "source /content/env\n",
        "sed -e '/^X[CDMQR]/s/.//' $SPICE_FILE > $KLAYOUT_CDL\n"
      ],
      "metadata": {
        "id": "KDf0No4r2N_m"
      },
      "execution_count": null,
      "outputs": []
    },
    {
      "cell_type": "markdown",
      "source": [
        "Results for DC_to_130_GHz_TIA\n"
      ],
      "metadata": {
        "id": "aQppEwhf2N_m"
      }
    },
    {
      "cell_type": "markdown",
      "source": [
        "# 9. elemrv-n\n",
        "\n",
        "Not ready - do not run.\n"
      ],
      "metadata": {
        "id": "OqROgIBC2QCa"
      }
    },
    {
      "cell_type": "markdown",
      "source": [
        "Set the project, top cell and gds file names."
      ],
      "metadata": {
        "id": "BAC7CFXw2QCa"
      }
    },
    {
      "cell_type": "code",
      "source": [
        "%%shell\n",
        "source /content/env\n",
        "cat > $UPRJ_ROOT/project_env <<'EOF'\n",
        "export PROJECT=ascon\n",
        "export LAYOUT_TOP=\n",
        "export GDSFILE=design_data/gds/\n",
        "export WORK_ROOT=$UPRJ_ROOT/$PROJECT/work/$LAYOUT_TOP\n",
        "export SPICE_FILE=$WORK_ROOT/$LAYOUT_TOP.spice\n",
        "export KLAYOUT_CDL=$WORK_ROOT/$LAYOUT_TOP.cdl\n",
        "EOF\n",
        "cat $UPRJ_ROOT/project_env\n",
        "source $UPRJ_ROOT/project_env\n",
        "rm -f /content/data/work\n",
        "rm -rf $WORK_ROOT\n",
        "mkdir -p $WORK_ROOT\n",
        "ln -s $WORK_ROOT /content/data/work\n",
        "ls -l /content/data/work"
      ],
      "metadata": {
        "id": "HrR_iWMZ2QCa"
      },
      "execution_count": null,
      "outputs": []
    },
    {
      "cell_type": "markdown",
      "source": [
        "Create the modified magic source netlist."
      ],
      "metadata": {
        "id": "xgc-6S-R2QCa"
      }
    },
    {
      "cell_type": "code",
      "source": [
        "%%shell\n",
        "cat /content/env\n",
        "source /content/env\n",
        "cat > $SPICE_FILE <<EOF\n",
        ".SUBCKT $LAYOUT_TOP\n",
        "* no source\n",
        ".ENDS\n",
        "EOF"
      ],
      "metadata": {
        "id": "AyXS3EGn2QCa"
      },
      "execution_count": null,
      "outputs": []
    },
    {
      "cell_type": "markdown",
      "source": [
        "Create lvs_config.json and update the LVS_SPICE_FILES and LVS_VERILOG_FILES for every design.\n",
        "\n",
        "Update the other parameters as needed."
      ],
      "metadata": {
        "id": "xJIlB_uP2QCb"
      }
    },
    {
      "cell_type": "code",
      "source": [
        "%%shell\n",
        "cat /content/env\n",
        "source /content/env\n",
        "cat > $WORK_ROOT/lvs_config.json <<EOF\n",
        "{\n",
        "  \"#STD_CELL_LIBRARY\": \"sky130_fd_sc_hd\",\n",
        "  \"#INCLUDE_CONFIGS\": [\n",
        "    \"$LVS_ROOT/tech/$PDK/lvs_config.base.json\"\n",
        "  ],\n",
        "  \"TOP_SOURCE\": \"$LAYOUT_TOP\",\n",
        "  \"TOP_LAYOUT\": \"$LAYOUT_TOP\",\n",
        "  \"EXTRACT_FLATGLOB\": [\n",
        "    \"sg13g2_Corner\",\n",
        "    \"sg13g2_Filler*\",\n",
        "    \"sg13g2_IOPad*\",\n",
        "    \"sg13g2_Clamp*\",\n",
        "    \"sg13g2_RCClamp*\",\n",
        "    \"sg13g2_DCNDiode\",\n",
        "    \"sg13g2_DCPDiode\",\n",
        "    \"sg13g2_GateDecode\",\n",
        "    \"sg13g2_LevelDown\",\n",
        "    \"sg13g2_SecondaryProtection\",\n",
        "    \"sg13g2_LevelUp\",\n",
        "    \"sg13g2_io_*\",\n",
        "    \"sg13g2_*LevelUpInv\",\n",
        "    \"TEXT*\",\n",
        "    \"VIA*\"\n",
        "  ],\n",
        "  \"EXTRACT_ABSTRACT\": [ \"\" ],\n",
        "  \"LVS_FLATTEN\": [ \"\" ],\n",
        "  \"LVS_NOFLATTEN\": [ \"\" ],\n",
        "  \"LVS_IGNORE\": [ \"\" ],\n",
        "  \"LVS_SPICE_FILES\": [\n",
        "    \"$SPICE_FILE\"\n",
        "  ],\n",
        "  \"#LVS_VERILOG_FILES\": [\n",
        "    \"$UPRJ_ROOT/verilog/gl/user_proj_example.v\",\n",
        "    \"$UPRJ_ROOT/verilog/gl/user_project_wrapper.v\"\n",
        "  ],\n",
        "  \"LAYOUT_FILE\": \"$UPRJ_ROOT/$PROJECT/$GDSFILE\"\n",
        "}\n",
        "EOF"
      ],
      "metadata": {
        "id": "ptKmQKDf2QCb"
      },
      "execution_count": null,
      "outputs": []
    },
    {
      "cell_type": "markdown",
      "source": [
        "Write cvcrc file"
      ],
      "metadata": {
        "id": "PqLP_xMX2QCb"
      }
    },
    {
      "cell_type": "code",
      "source": [
        "%%shell\n",
        "cat /content/env\n",
        "source /content/env\n",
        "cat > $WORK_ROOT/cvcrc <<EOF\n",
        "CVC_TOP = $LAYOUT_TOP\n",
        "CVC_NETLIST = $WORK_ROOT/ext/$LAYOUT_TOP.cdl.gz\n",
        "CVC_MODEL_FILE = $LVS_ROOT/tech/ihp-sg13g2/cvc.models\n",
        "CVC_POWER_FILE = $WORK_ROOT/cvc.power.$LAYOUT_TOP\n",
        "CVC_REPORT_FILE = $WORK_ROOT/cvc.log\n",
        "EOF\n",
        "\n",
        "cat > $WORK_ROOT/cvc.power.$LAYOUT_TOP <<EOF\n",
        "*vss* power 0.0\n",
        "iovdd* power 3.3\n",
        "vdd power 1.5\n",
        "clk input min@0.0 max@3.3\n",
        "reset_n input min@0.0 max@3.3\n",
        "EOF"
      ],
      "metadata": {
        "id": "cPfMabN-2QCb"
      },
      "execution_count": null,
      "outputs": []
    },
    {
      "cell_type": "markdown",
      "source": [
        "Create the klayout CDL file from the magic source netlist."
      ],
      "metadata": {
        "id": "GixLm25z2QCb"
      }
    },
    {
      "cell_type": "code",
      "source": [
        "%%shell\n",
        "source /content/env\n",
        "sed -e '/^X[CDMQR]/s/.//' $SPICE_FILE > $KLAYOUT_CDL\n"
      ],
      "metadata": {
        "id": "Xntn_qOO2QCb"
      },
      "execution_count": null,
      "outputs": []
    },
    {
      "cell_type": "markdown",
      "source": [
        "Results for elemrv-n\n"
      ],
      "metadata": {
        "id": "9qY10ksC2QCb"
      }
    },
    {
      "cell_type": "markdown",
      "source": [
        "# 10. GPS_LNA\n",
        "\n",
        "Not ready - do not run.\n"
      ],
      "metadata": {
        "id": "pG8zvoU22RWY"
      }
    },
    {
      "cell_type": "markdown",
      "source": [
        "Set the project, top cell and gds file names."
      ],
      "metadata": {
        "id": "ORNlGCjz2RWY"
      }
    },
    {
      "cell_type": "code",
      "source": [
        "%%shell\n",
        "source /content/env\n",
        "cat > $UPRJ_ROOT/project_env <<'EOF'\n",
        "export PROJECT=ascon\n",
        "export LAYOUT_TOP=\n",
        "export GDSFILE=design_data/gds/\n",
        "export WORK_ROOT=$UPRJ_ROOT/$PROJECT/work/$LAYOUT_TOP\n",
        "export SPICE_FILE=$WORK_ROOT/$LAYOUT_TOP.spice\n",
        "export KLAYOUT_CDL=$WORK_ROOT/$LAYOUT_TOP.cdl\n",
        "EOF\n",
        "cat $UPRJ_ROOT/project_env\n",
        "source $UPRJ_ROOT/project_env\n",
        "rm -f /content/data/work\n",
        "rm -rf $WORK_ROOT\n",
        "mkdir -p $WORK_ROOT\n",
        "ln -s $WORK_ROOT /content/data/work\n",
        "ls -l /content/data/work"
      ],
      "metadata": {
        "id": "Ftmxl8Lj2RWY"
      },
      "execution_count": null,
      "outputs": []
    },
    {
      "cell_type": "markdown",
      "source": [
        "Create the modified magic source netlist."
      ],
      "metadata": {
        "id": "oNriQeIH2RWY"
      }
    },
    {
      "cell_type": "code",
      "source": [
        "%%shell\n",
        "cat /content/env\n",
        "source /content/env\n",
        "cat > $SPICE_FILE <<EOF\n",
        ".SUBCKT $LAYOUT_TOP\n",
        "* no source\n",
        ".ENDS\n",
        "EOF"
      ],
      "metadata": {
        "id": "sD4OXTLf2RWY"
      },
      "execution_count": null,
      "outputs": []
    },
    {
      "cell_type": "markdown",
      "source": [
        "Create lvs_config.json and update the LVS_SPICE_FILES and LVS_VERILOG_FILES for every design.\n",
        "\n",
        "Update the other parameters as needed."
      ],
      "metadata": {
        "id": "xVcPdZjU2RWY"
      }
    },
    {
      "cell_type": "code",
      "source": [
        "%%shell\n",
        "cat /content/env\n",
        "source /content/env\n",
        "cat > $WORK_ROOT/lvs_config.json <<EOF\n",
        "{\n",
        "  \"#STD_CELL_LIBRARY\": \"sky130_fd_sc_hd\",\n",
        "  \"#INCLUDE_CONFIGS\": [\n",
        "    \"$LVS_ROOT/tech/$PDK/lvs_config.base.json\"\n",
        "  ],\n",
        "  \"TOP_SOURCE\": \"$LAYOUT_TOP\",\n",
        "  \"TOP_LAYOUT\": \"$LAYOUT_TOP\",\n",
        "  \"EXTRACT_FLATGLOB\": [\n",
        "    \"sg13g2_Corner\",\n",
        "    \"sg13g2_Filler*\",\n",
        "    \"sg13g2_IOPad*\",\n",
        "    \"sg13g2_Clamp*\",\n",
        "    \"sg13g2_RCClamp*\",\n",
        "    \"sg13g2_DCNDiode\",\n",
        "    \"sg13g2_DCPDiode\",\n",
        "    \"sg13g2_GateDecode\",\n",
        "    \"sg13g2_LevelDown\",\n",
        "    \"sg13g2_SecondaryProtection\",\n",
        "    \"sg13g2_LevelUp\",\n",
        "    \"sg13g2_io_*\",\n",
        "    \"sg13g2_*LevelUpInv\",\n",
        "    \"TEXT*\",\n",
        "    \"VIA*\"\n",
        "  ],\n",
        "  \"EXTRACT_ABSTRACT\": [ \"\" ],\n",
        "  \"LVS_FLATTEN\": [ \"\" ],\n",
        "  \"LVS_NOFLATTEN\": [ \"\" ],\n",
        "  \"LVS_IGNORE\": [ \"\" ],\n",
        "  \"LVS_SPICE_FILES\": [\n",
        "    \"$SPICE_FILE\"\n",
        "  ],\n",
        "  \"#LVS_VERILOG_FILES\": [\n",
        "    \"$UPRJ_ROOT/verilog/gl/user_proj_example.v\",\n",
        "    \"$UPRJ_ROOT/verilog/gl/user_project_wrapper.v\"\n",
        "  ],\n",
        "  \"LAYOUT_FILE\": \"$UPRJ_ROOT/$PROJECT/$GDSFILE\"\n",
        "}\n",
        "EOF"
      ],
      "metadata": {
        "id": "4RmOczZz2RWY"
      },
      "execution_count": null,
      "outputs": []
    },
    {
      "cell_type": "markdown",
      "source": [
        "Write cvcrc file"
      ],
      "metadata": {
        "id": "wa7VgEAK2RWY"
      }
    },
    {
      "cell_type": "code",
      "source": [
        "%%shell\n",
        "cat /content/env\n",
        "source /content/env\n",
        "cat > $WORK_ROOT/cvcrc <<EOF\n",
        "CVC_TOP = $LAYOUT_TOP\n",
        "CVC_NETLIST = $WORK_ROOT/ext/$LAYOUT_TOP.cdl.gz\n",
        "CVC_MODEL_FILE = $LVS_ROOT/tech/ihp-sg13g2/cvc.models\n",
        "CVC_POWER_FILE = $WORK_ROOT/cvc.power.$LAYOUT_TOP\n",
        "CVC_REPORT_FILE = $WORK_ROOT/cvc.log\n",
        "EOF\n",
        "\n",
        "cat > $WORK_ROOT/cvc.power.$LAYOUT_TOP <<EOF\n",
        "*vss* power 0.0\n",
        "iovdd* power 3.3\n",
        "vdd power 1.5\n",
        "clk input min@0.0 max@3.3\n",
        "reset_n input min@0.0 max@3.3\n",
        "EOF"
      ],
      "metadata": {
        "id": "VyCkqa9S2RWY"
      },
      "execution_count": null,
      "outputs": []
    },
    {
      "cell_type": "markdown",
      "source": [
        "Create the klayout CDL file from the magic source netlist."
      ],
      "metadata": {
        "id": "HnIWKjOI2RWY"
      }
    },
    {
      "cell_type": "code",
      "source": [
        "%%shell\n",
        "source /content/env\n",
        "sed -e '/^X[CDMQR]/s/.//' $SPICE_FILE > $KLAYOUT_CDL\n"
      ],
      "metadata": {
        "id": "G3VVEFo92RWY"
      },
      "execution_count": null,
      "outputs": []
    },
    {
      "cell_type": "markdown",
      "source": [
        "Results for GPS_LNA\n"
      ],
      "metadata": {
        "id": "A4ut2ig-2RWY"
      }
    },
    {
      "cell_type": "markdown",
      "source": [
        "# 11. Greyhound\n",
        "\n",
        "Not ready - do not run.\n"
      ],
      "metadata": {
        "id": "-Y38jNo42TCd"
      }
    },
    {
      "cell_type": "markdown",
      "source": [
        "Set the project, top cell and gds file names."
      ],
      "metadata": {
        "id": "nV68MzuA2TCd"
      }
    },
    {
      "cell_type": "code",
      "source": [
        "%%shell\n",
        "source /content/env\n",
        "cat > $UPRJ_ROOT/project_env <<'EOF'\n",
        "export PROJECT=ascon\n",
        "export LAYOUT_TOP=\n",
        "export GDSFILE=design_data/gds/\n",
        "export WORK_ROOT=$UPRJ_ROOT/$PROJECT/work/$LAYOUT_TOP\n",
        "export SPICE_FILE=$WORK_ROOT/$LAYOUT_TOP.spice\n",
        "export KLAYOUT_CDL=$WORK_ROOT/$LAYOUT_TOP.cdl\n",
        "EOF\n",
        "cat $UPRJ_ROOT/project_env\n",
        "source $UPRJ_ROOT/project_env\n",
        "rm -f /content/data/work\n",
        "rm -rf $WORK_ROOT\n",
        "mkdir -p $WORK_ROOT\n",
        "ln -s $WORK_ROOT /content/data/work\n",
        "ls -l /content/data/work"
      ],
      "metadata": {
        "id": "0lxnGtKq2TCd"
      },
      "execution_count": null,
      "outputs": []
    },
    {
      "cell_type": "markdown",
      "source": [
        "Create the modified magic source netlist."
      ],
      "metadata": {
        "id": "oDuJoEOT2TCd"
      }
    },
    {
      "cell_type": "code",
      "source": [
        "%%shell\n",
        "cat /content/env\n",
        "source /content/env\n",
        "cat > $SPICE_FILE <<EOF\n",
        ".SUBCKT $LAYOUT_TOP\n",
        "* no source\n",
        ".ENDS\n",
        "EOF"
      ],
      "metadata": {
        "id": "_yo_Ntii2TCd"
      },
      "execution_count": null,
      "outputs": []
    },
    {
      "cell_type": "markdown",
      "source": [
        "Create lvs_config.json and update the LVS_SPICE_FILES and LVS_VERILOG_FILES for every design.\n",
        "\n",
        "Update the other parameters as needed."
      ],
      "metadata": {
        "id": "q0Mrzfvv2TCd"
      }
    },
    {
      "cell_type": "code",
      "source": [
        "%%shell\n",
        "cat /content/env\n",
        "source /content/env\n",
        "cat > $WORK_ROOT/lvs_config.json <<EOF\n",
        "{\n",
        "  \"#STD_CELL_LIBRARY\": \"sky130_fd_sc_hd\",\n",
        "  \"#INCLUDE_CONFIGS\": [\n",
        "    \"$LVS_ROOT/tech/$PDK/lvs_config.base.json\"\n",
        "  ],\n",
        "  \"TOP_SOURCE\": \"$LAYOUT_TOP\",\n",
        "  \"TOP_LAYOUT\": \"$LAYOUT_TOP\",\n",
        "  \"EXTRACT_FLATGLOB\": [\n",
        "    \"sg13g2_Corner\",\n",
        "    \"sg13g2_Filler*\",\n",
        "    \"sg13g2_IOPad*\",\n",
        "    \"sg13g2_Clamp*\",\n",
        "    \"sg13g2_RCClamp*\",\n",
        "    \"sg13g2_DCNDiode\",\n",
        "    \"sg13g2_DCPDiode\",\n",
        "    \"sg13g2_GateDecode\",\n",
        "    \"sg13g2_LevelDown\",\n",
        "    \"sg13g2_SecondaryProtection\",\n",
        "    \"sg13g2_LevelUp\",\n",
        "    \"sg13g2_io_*\",\n",
        "    \"sg13g2_*LevelUpInv\",\n",
        "    \"TEXT*\",\n",
        "    \"VIA*\"\n",
        "  ],\n",
        "  \"EXTRACT_ABSTRACT\": [ \"\" ],\n",
        "  \"LVS_FLATTEN\": [ \"\" ],\n",
        "  \"LVS_NOFLATTEN\": [ \"\" ],\n",
        "  \"LVS_IGNORE\": [ \"\" ],\n",
        "  \"LVS_SPICE_FILES\": [\n",
        "    \"$SPICE_FILE\"\n",
        "  ],\n",
        "  \"#LVS_VERILOG_FILES\": [\n",
        "    \"$UPRJ_ROOT/verilog/gl/user_proj_example.v\",\n",
        "    \"$UPRJ_ROOT/verilog/gl/user_project_wrapper.v\"\n",
        "  ],\n",
        "  \"LAYOUT_FILE\": \"$UPRJ_ROOT/$PROJECT/$GDSFILE\"\n",
        "}\n",
        "EOF"
      ],
      "metadata": {
        "id": "XsfYt3pV2TCd"
      },
      "execution_count": null,
      "outputs": []
    },
    {
      "cell_type": "markdown",
      "source": [
        "Write cvcrc file"
      ],
      "metadata": {
        "id": "A3Z0ldUY2TCd"
      }
    },
    {
      "cell_type": "code",
      "source": [
        "%%shell\n",
        "cat /content/env\n",
        "source /content/env\n",
        "cat > $WORK_ROOT/cvcrc <<EOF\n",
        "CVC_TOP = $LAYOUT_TOP\n",
        "CVC_NETLIST = $WORK_ROOT/ext/$LAYOUT_TOP.cdl.gz\n",
        "CVC_MODEL_FILE = $LVS_ROOT/tech/ihp-sg13g2/cvc.models\n",
        "CVC_POWER_FILE = $WORK_ROOT/cvc.power.$LAYOUT_TOP\n",
        "CVC_REPORT_FILE = $WORK_ROOT/cvc.log\n",
        "EOF\n",
        "\n",
        "cat > $WORK_ROOT/cvc.power.$LAYOUT_TOP <<EOF\n",
        "*vss* power 0.0\n",
        "iovdd* power 3.3\n",
        "vdd power 1.5\n",
        "clk input min@0.0 max@3.3\n",
        "reset_n input min@0.0 max@3.3\n",
        "EOF"
      ],
      "metadata": {
        "id": "BoqrJQEU2TCd"
      },
      "execution_count": null,
      "outputs": []
    },
    {
      "cell_type": "markdown",
      "source": [
        "Create the klayout CDL file from the magic source netlist."
      ],
      "metadata": {
        "id": "h1azZwub2TCd"
      }
    },
    {
      "cell_type": "code",
      "source": [
        "%%shell\n",
        "source /content/env\n",
        "sed -e '/^X[CDMQR]/s/.//' $SPICE_FILE > $KLAYOUT_CDL\n"
      ],
      "metadata": {
        "id": "d8TzS_O72TCd"
      },
      "execution_count": null,
      "outputs": []
    },
    {
      "cell_type": "markdown",
      "source": [
        "Results for Greyhound\n"
      ],
      "metadata": {
        "id": "QXHoA6PQ2TCd"
      }
    },
    {
      "cell_type": "markdown",
      "source": [
        "# 12. i2c-gpio-expander\n",
        "\n",
        "Not ready - do not run.\n"
      ],
      "metadata": {
        "id": "8BxWCzMk2VBv"
      }
    },
    {
      "cell_type": "markdown",
      "source": [
        "Set the project, top cell and gds file names."
      ],
      "metadata": {
        "id": "Fnd-lomF2VBv"
      }
    },
    {
      "cell_type": "code",
      "source": [
        "%%shell\n",
        "source /content/env\n",
        "cat > $UPRJ_ROOT/project_env <<'EOF'\n",
        "export PROJECT=ascon\n",
        "export LAYOUT_TOP=\n",
        "export GDSFILE=design_data/gds/\n",
        "export WORK_ROOT=$UPRJ_ROOT/$PROJECT/work/$LAYOUT_TOP\n",
        "export SPICE_FILE=$WORK_ROOT/$LAYOUT_TOP.spice\n",
        "export KLAYOUT_CDL=$WORK_ROOT/$LAYOUT_TOP.cdl\n",
        "EOF\n",
        "cat $UPRJ_ROOT/project_env\n",
        "source $UPRJ_ROOT/project_env\n",
        "rm -f /content/data/work\n",
        "rm -rf $WORK_ROOT\n",
        "mkdir -p $WORK_ROOT\n",
        "ln -s $WORK_ROOT /content/data/work\n",
        "ls -l /content/data/work"
      ],
      "metadata": {
        "id": "tKCXEZk52VBv"
      },
      "execution_count": null,
      "outputs": []
    },
    {
      "cell_type": "markdown",
      "source": [
        "Create the modified magic source netlist."
      ],
      "metadata": {
        "id": "Qtagi8hX2VBv"
      }
    },
    {
      "cell_type": "code",
      "source": [
        "%%shell\n",
        "cat /content/env\n",
        "source /content/env\n",
        "cat > $SPICE_FILE <<EOF\n",
        ".SUBCKT $LAYOUT_TOP\n",
        "* no source\n",
        ".ENDS\n",
        "EOF"
      ],
      "metadata": {
        "id": "lXCU_2Hc2VBv"
      },
      "execution_count": null,
      "outputs": []
    },
    {
      "cell_type": "markdown",
      "source": [
        "Create lvs_config.json and update the LVS_SPICE_FILES and LVS_VERILOG_FILES for every design.\n",
        "\n",
        "Update the other parameters as needed."
      ],
      "metadata": {
        "id": "hgI3TYZE2VBv"
      }
    },
    {
      "cell_type": "code",
      "source": [
        "%%shell\n",
        "cat /content/env\n",
        "source /content/env\n",
        "cat > $WORK_ROOT/lvs_config.json <<EOF\n",
        "{\n",
        "  \"#STD_CELL_LIBRARY\": \"sky130_fd_sc_hd\",\n",
        "  \"#INCLUDE_CONFIGS\": [\n",
        "    \"$LVS_ROOT/tech/$PDK/lvs_config.base.json\"\n",
        "  ],\n",
        "  \"TOP_SOURCE\": \"$LAYOUT_TOP\",\n",
        "  \"TOP_LAYOUT\": \"$LAYOUT_TOP\",\n",
        "  \"EXTRACT_FLATGLOB\": [\n",
        "    \"sg13g2_Corner\",\n",
        "    \"sg13g2_Filler*\",\n",
        "    \"sg13g2_IOPad*\",\n",
        "    \"sg13g2_Clamp*\",\n",
        "    \"sg13g2_RCClamp*\",\n",
        "    \"sg13g2_DCNDiode\",\n",
        "    \"sg13g2_DCPDiode\",\n",
        "    \"sg13g2_GateDecode\",\n",
        "    \"sg13g2_LevelDown\",\n",
        "    \"sg13g2_SecondaryProtection\",\n",
        "    \"sg13g2_LevelUp\",\n",
        "    \"sg13g2_io_*\",\n",
        "    \"sg13g2_*LevelUpInv\",\n",
        "    \"TEXT*\",\n",
        "    \"VIA*\"\n",
        "  ],\n",
        "  \"EXTRACT_ABSTRACT\": [ \"\" ],\n",
        "  \"LVS_FLATTEN\": [ \"\" ],\n",
        "  \"LVS_NOFLATTEN\": [ \"\" ],\n",
        "  \"LVS_IGNORE\": [ \"\" ],\n",
        "  \"LVS_SPICE_FILES\": [\n",
        "    \"$SPICE_FILE\"\n",
        "  ],\n",
        "  \"#LVS_VERILOG_FILES\": [\n",
        "    \"$UPRJ_ROOT/verilog/gl/user_proj_example.v\",\n",
        "    \"$UPRJ_ROOT/verilog/gl/user_project_wrapper.v\"\n",
        "  ],\n",
        "  \"LAYOUT_FILE\": \"$UPRJ_ROOT/$PROJECT/$GDSFILE\"\n",
        "}\n",
        "EOF"
      ],
      "metadata": {
        "id": "DNH_U3DP2VBv"
      },
      "execution_count": null,
      "outputs": []
    },
    {
      "cell_type": "markdown",
      "source": [
        "Write cvcrc file"
      ],
      "metadata": {
        "id": "6ZHmA1Ek2VBv"
      }
    },
    {
      "cell_type": "code",
      "source": [
        "%%shell\n",
        "cat /content/env\n",
        "source /content/env\n",
        "cat > $WORK_ROOT/cvcrc <<EOF\n",
        "CVC_TOP = $LAYOUT_TOP\n",
        "CVC_NETLIST = $WORK_ROOT/ext/$LAYOUT_TOP.cdl.gz\n",
        "CVC_MODEL_FILE = $LVS_ROOT/tech/ihp-sg13g2/cvc.models\n",
        "CVC_POWER_FILE = $WORK_ROOT/cvc.power.$LAYOUT_TOP\n",
        "CVC_REPORT_FILE = $WORK_ROOT/cvc.log\n",
        "EOF\n",
        "\n",
        "cat > $WORK_ROOT/cvc.power.$LAYOUT_TOP <<EOF\n",
        "*vss* power 0.0\n",
        "iovdd* power 3.3\n",
        "vdd power 1.5\n",
        "clk input min@0.0 max@3.3\n",
        "reset_n input min@0.0 max@3.3\n",
        "EOF"
      ],
      "metadata": {
        "id": "kk7fgh3J2VBv"
      },
      "execution_count": null,
      "outputs": []
    },
    {
      "cell_type": "markdown",
      "source": [
        "Create the klayout CDL file from the magic source netlist."
      ],
      "metadata": {
        "id": "3eOunbg92VBv"
      }
    },
    {
      "cell_type": "code",
      "source": [
        "%%shell\n",
        "source /content/env\n",
        "sed -e '/^X[CDMQR]/s/.//' $SPICE_FILE > $KLAYOUT_CDL\n"
      ],
      "metadata": {
        "id": "f-61PFSp2VBw"
      },
      "execution_count": null,
      "outputs": []
    },
    {
      "cell_type": "markdown",
      "source": [
        "Results for i2c-gpio-expander\n"
      ],
      "metadata": {
        "id": "GrmVsmXa2VBw"
      }
    },
    {
      "cell_type": "markdown",
      "source": [
        "# 13. Mixer5GHz\n",
        "\n",
        "Not ready - do not run.\n"
      ],
      "metadata": {
        "id": "yzzGHrDX2Wij"
      }
    },
    {
      "cell_type": "markdown",
      "source": [
        "Set the project, top cell and gds file names."
      ],
      "metadata": {
        "id": "-LqCG__h2Wij"
      }
    },
    {
      "cell_type": "code",
      "source": [
        "%%shell\n",
        "source /content/env\n",
        "cat > $UPRJ_ROOT/project_env <<'EOF'\n",
        "export PROJECT=ascon\n",
        "export LAYOUT_TOP=\n",
        "export GDSFILE=design_data/gds/\n",
        "export WORK_ROOT=$UPRJ_ROOT/$PROJECT/work/$LAYOUT_TOP\n",
        "export SPICE_FILE=$WORK_ROOT/$LAYOUT_TOP.spice\n",
        "export KLAYOUT_CDL=$WORK_ROOT/$LAYOUT_TOP.cdl\n",
        "EOF\n",
        "cat $UPRJ_ROOT/project_env\n",
        "source $UPRJ_ROOT/project_env\n",
        "rm -f /content/data/work\n",
        "rm -rf $WORK_ROOT\n",
        "mkdir -p $WORK_ROOT\n",
        "ln -s $WORK_ROOT /content/data/work\n",
        "ls -l /content/data/work"
      ],
      "metadata": {
        "id": "2YIh-38O2Wij"
      },
      "execution_count": null,
      "outputs": []
    },
    {
      "cell_type": "markdown",
      "source": [
        "Create the modified magic source netlist."
      ],
      "metadata": {
        "id": "7CgjwG0N2Wij"
      }
    },
    {
      "cell_type": "code",
      "source": [
        "%%shell\n",
        "cat /content/env\n",
        "source /content/env\n",
        "cat > $SPICE_FILE <<EOF\n",
        ".SUBCKT $LAYOUT_TOP\n",
        "* no source\n",
        ".ENDS\n",
        "EOF"
      ],
      "metadata": {
        "id": "l4q9ib2I2Wij"
      },
      "execution_count": null,
      "outputs": []
    },
    {
      "cell_type": "markdown",
      "source": [
        "Create lvs_config.json and update the LVS_SPICE_FILES and LVS_VERILOG_FILES for every design.\n",
        "\n",
        "Update the other parameters as needed."
      ],
      "metadata": {
        "id": "TGOwAx2Z2Wij"
      }
    },
    {
      "cell_type": "code",
      "source": [
        "%%shell\n",
        "cat /content/env\n",
        "source /content/env\n",
        "cat > $WORK_ROOT/lvs_config.json <<EOF\n",
        "{\n",
        "  \"#STD_CELL_LIBRARY\": \"sky130_fd_sc_hd\",\n",
        "  \"#INCLUDE_CONFIGS\": [\n",
        "    \"$LVS_ROOT/tech/$PDK/lvs_config.base.json\"\n",
        "  ],\n",
        "  \"TOP_SOURCE\": \"$LAYOUT_TOP\",\n",
        "  \"TOP_LAYOUT\": \"$LAYOUT_TOP\",\n",
        "  \"EXTRACT_FLATGLOB\": [\n",
        "    \"sg13g2_Corner\",\n",
        "    \"sg13g2_Filler*\",\n",
        "    \"sg13g2_IOPad*\",\n",
        "    \"sg13g2_Clamp*\",\n",
        "    \"sg13g2_RCClamp*\",\n",
        "    \"sg13g2_DCNDiode\",\n",
        "    \"sg13g2_DCPDiode\",\n",
        "    \"sg13g2_GateDecode\",\n",
        "    \"sg13g2_LevelDown\",\n",
        "    \"sg13g2_SecondaryProtection\",\n",
        "    \"sg13g2_LevelUp\",\n",
        "    \"sg13g2_io_*\",\n",
        "    \"sg13g2_*LevelUpInv\",\n",
        "    \"TEXT*\",\n",
        "    \"VIA*\"\n",
        "  ],\n",
        "  \"EXTRACT_ABSTRACT\": [ \"\" ],\n",
        "  \"LVS_FLATTEN\": [ \"\" ],\n",
        "  \"LVS_NOFLATTEN\": [ \"\" ],\n",
        "  \"LVS_IGNORE\": [ \"\" ],\n",
        "  \"LVS_SPICE_FILES\": [\n",
        "    \"$SPICE_FILE\"\n",
        "  ],\n",
        "  \"#LVS_VERILOG_FILES\": [\n",
        "    \"$UPRJ_ROOT/verilog/gl/user_proj_example.v\",\n",
        "    \"$UPRJ_ROOT/verilog/gl/user_project_wrapper.v\"\n",
        "  ],\n",
        "  \"LAYOUT_FILE\": \"$UPRJ_ROOT/$PROJECT/$GDSFILE\"\n",
        "}\n",
        "EOF"
      ],
      "metadata": {
        "id": "ahJsgwfK2Wij"
      },
      "execution_count": null,
      "outputs": []
    },
    {
      "cell_type": "markdown",
      "source": [
        "Write cvcrc file"
      ],
      "metadata": {
        "id": "gyHxiOCn2Wik"
      }
    },
    {
      "cell_type": "code",
      "source": [
        "%%shell\n",
        "cat /content/env\n",
        "source /content/env\n",
        "cat > $WORK_ROOT/cvcrc <<EOF\n",
        "CVC_TOP = $LAYOUT_TOP\n",
        "CVC_NETLIST = $WORK_ROOT/ext/$LAYOUT_TOP.cdl.gz\n",
        "CVC_MODEL_FILE = $LVS_ROOT/tech/ihp-sg13g2/cvc.models\n",
        "CVC_POWER_FILE = $WORK_ROOT/cvc.power.$LAYOUT_TOP\n",
        "CVC_REPORT_FILE = $WORK_ROOT/cvc.log\n",
        "EOF\n",
        "\n",
        "cat > $WORK_ROOT/cvc.power.$LAYOUT_TOP <<EOF\n",
        "*vss* power 0.0\n",
        "iovdd* power 3.3\n",
        "vdd power 1.5\n",
        "clk input min@0.0 max@3.3\n",
        "reset_n input min@0.0 max@3.3\n",
        "EOF"
      ],
      "metadata": {
        "id": "ON5xpMAD2Wik"
      },
      "execution_count": null,
      "outputs": []
    },
    {
      "cell_type": "markdown",
      "source": [
        "Create the klayout CDL file from the magic source netlist."
      ],
      "metadata": {
        "id": "NiBbsoch2Wik"
      }
    },
    {
      "cell_type": "code",
      "source": [
        "%%shell\n",
        "source /content/env\n",
        "sed -e '/^X[CDMQR]/s/.//' $SPICE_FILE > $KLAYOUT_CDL\n"
      ],
      "metadata": {
        "id": "v6mk0DGs2Wik"
      },
      "execution_count": null,
      "outputs": []
    },
    {
      "cell_type": "markdown",
      "source": [
        "Results for Mixer5GHz\n"
      ],
      "metadata": {
        "id": "q9wrGSBK2Wik"
      }
    },
    {
      "cell_type": "markdown",
      "source": [
        "# 14. PA_180GHz\n",
        "\n",
        "Not ready - do not run.\n"
      ],
      "metadata": {
        "id": "0RFmj3OV2X9S"
      }
    },
    {
      "cell_type": "markdown",
      "source": [
        "Set the project, top cell and gds file names."
      ],
      "metadata": {
        "id": "aBPrEcMV2X9T"
      }
    },
    {
      "cell_type": "code",
      "source": [
        "%%shell\n",
        "source /content/env\n",
        "cat > $UPRJ_ROOT/project_env <<'EOF'\n",
        "export PROJECT=ascon\n",
        "export LAYOUT_TOP=\n",
        "export GDSFILE=design_data/gds/\n",
        "export WORK_ROOT=$UPRJ_ROOT/$PROJECT/work/$LAYOUT_TOP\n",
        "export SPICE_FILE=$WORK_ROOT/$LAYOUT_TOP.spice\n",
        "export KLAYOUT_CDL=$WORK_ROOT/$LAYOUT_TOP.cdl\n",
        "EOF\n",
        "cat $UPRJ_ROOT/project_env\n",
        "source $UPRJ_ROOT/project_env\n",
        "rm -f /content/data/work\n",
        "rm -rf $WORK_ROOT\n",
        "mkdir -p $WORK_ROOT\n",
        "ln -s $WORK_ROOT /content/data/work\n",
        "ls -l /content/data/work"
      ],
      "metadata": {
        "id": "kW_Z-lWi2X9T"
      },
      "execution_count": null,
      "outputs": []
    },
    {
      "cell_type": "markdown",
      "source": [
        "Create the modified magic source netlist."
      ],
      "metadata": {
        "id": "CviKaNZ32X9T"
      }
    },
    {
      "cell_type": "code",
      "source": [
        "%%shell\n",
        "cat /content/env\n",
        "source /content/env\n",
        "cat > $SPICE_FILE <<EOF\n",
        ".SUBCKT $LAYOUT_TOP\n",
        "* no source\n",
        ".ENDS\n",
        "EOF"
      ],
      "metadata": {
        "id": "_Bna3q0v2X9T"
      },
      "execution_count": null,
      "outputs": []
    },
    {
      "cell_type": "markdown",
      "source": [
        "Create lvs_config.json and update the LVS_SPICE_FILES and LVS_VERILOG_FILES for every design.\n",
        "\n",
        "Update the other parameters as needed."
      ],
      "metadata": {
        "id": "9DbSTSlG2X9T"
      }
    },
    {
      "cell_type": "code",
      "source": [
        "%%shell\n",
        "cat /content/env\n",
        "source /content/env\n",
        "cat > $WORK_ROOT/lvs_config.json <<EOF\n",
        "{\n",
        "  \"#STD_CELL_LIBRARY\": \"sky130_fd_sc_hd\",\n",
        "  \"#INCLUDE_CONFIGS\": [\n",
        "    \"$LVS_ROOT/tech/$PDK/lvs_config.base.json\"\n",
        "  ],\n",
        "  \"TOP_SOURCE\": \"$LAYOUT_TOP\",\n",
        "  \"TOP_LAYOUT\": \"$LAYOUT_TOP\",\n",
        "  \"EXTRACT_FLATGLOB\": [\n",
        "    \"sg13g2_Corner\",\n",
        "    \"sg13g2_Filler*\",\n",
        "    \"sg13g2_IOPad*\",\n",
        "    \"sg13g2_Clamp*\",\n",
        "    \"sg13g2_RCClamp*\",\n",
        "    \"sg13g2_DCNDiode\",\n",
        "    \"sg13g2_DCPDiode\",\n",
        "    \"sg13g2_GateDecode\",\n",
        "    \"sg13g2_LevelDown\",\n",
        "    \"sg13g2_SecondaryProtection\",\n",
        "    \"sg13g2_LevelUp\",\n",
        "    \"sg13g2_io_*\",\n",
        "    \"sg13g2_*LevelUpInv\",\n",
        "    \"TEXT*\",\n",
        "    \"VIA*\"\n",
        "  ],\n",
        "  \"EXTRACT_ABSTRACT\": [ \"\" ],\n",
        "  \"LVS_FLATTEN\": [ \"\" ],\n",
        "  \"LVS_NOFLATTEN\": [ \"\" ],\n",
        "  \"LVS_IGNORE\": [ \"\" ],\n",
        "  \"LVS_SPICE_FILES\": [\n",
        "    \"$SPICE_FILE\"\n",
        "  ],\n",
        "  \"#LVS_VERILOG_FILES\": [\n",
        "    \"$UPRJ_ROOT/verilog/gl/user_proj_example.v\",\n",
        "    \"$UPRJ_ROOT/verilog/gl/user_project_wrapper.v\"\n",
        "  ],\n",
        "  \"LAYOUT_FILE\": \"$UPRJ_ROOT/$PROJECT/$GDSFILE\"\n",
        "}\n",
        "EOF"
      ],
      "metadata": {
        "id": "sYO-_bUo2X9T"
      },
      "execution_count": null,
      "outputs": []
    },
    {
      "cell_type": "markdown",
      "source": [
        "Write cvcrc file"
      ],
      "metadata": {
        "id": "QGGrIkJ62X9T"
      }
    },
    {
      "cell_type": "code",
      "source": [
        "%%shell\n",
        "cat /content/env\n",
        "source /content/env\n",
        "cat > $WORK_ROOT/cvcrc <<EOF\n",
        "CVC_TOP = $LAYOUT_TOP\n",
        "CVC_NETLIST = $WORK_ROOT/ext/$LAYOUT_TOP.cdl.gz\n",
        "CVC_MODEL_FILE = $LVS_ROOT/tech/ihp-sg13g2/cvc.models\n",
        "CVC_POWER_FILE = $WORK_ROOT/cvc.power.$LAYOUT_TOP\n",
        "CVC_REPORT_FILE = $WORK_ROOT/cvc.log\n",
        "EOF\n",
        "\n",
        "cat > $WORK_ROOT/cvc.power.$LAYOUT_TOP <<EOF\n",
        "*vss* power 0.0\n",
        "iovdd* power 3.3\n",
        "vdd power 1.5\n",
        "clk input min@0.0 max@3.3\n",
        "reset_n input min@0.0 max@3.3\n",
        "EOF"
      ],
      "metadata": {
        "id": "abKJtc6M2X9T"
      },
      "execution_count": null,
      "outputs": []
    },
    {
      "cell_type": "markdown",
      "source": [
        "Create the klayout CDL file from the magic source netlist."
      ],
      "metadata": {
        "id": "hwKoVH552X9T"
      }
    },
    {
      "cell_type": "code",
      "source": [
        "%%shell\n",
        "source /content/env\n",
        "sed -e '/^X[CDMQR]/s/.//' $SPICE_FILE > $KLAYOUT_CDL\n"
      ],
      "metadata": {
        "id": "nMkqnhoP2X9T"
      },
      "execution_count": null,
      "outputs": []
    },
    {
      "cell_type": "markdown",
      "source": [
        "Results for PA_180GHz\n"
      ],
      "metadata": {
        "id": "gy6r4xUL2X9T"
      }
    },
    {
      "cell_type": "markdown",
      "source": [
        "# 15. TTIHP0p2\n",
        "\n",
        "Not ready - do not run.\n"
      ],
      "metadata": {
        "id": "SFBvInPF2Zdk"
      }
    },
    {
      "cell_type": "markdown",
      "source": [
        "Set the project, top cell and gds file names."
      ],
      "metadata": {
        "id": "lY9IFQ0I2Zdl"
      }
    },
    {
      "cell_type": "code",
      "source": [
        "%%shell\n",
        "source /content/env\n",
        "cat > $UPRJ_ROOT/project_env <<'EOF'\n",
        "export PROJECT=ascon\n",
        "export LAYOUT_TOP=\n",
        "export GDSFILE=design_data/gds/\n",
        "export WORK_ROOT=$UPRJ_ROOT/$PROJECT/work/$LAYOUT_TOP\n",
        "export SPICE_FILE=$WORK_ROOT/$LAYOUT_TOP.spice\n",
        "export KLAYOUT_CDL=$WORK_ROOT/$LAYOUT_TOP.cdl\n",
        "EOF\n",
        "cat $UPRJ_ROOT/project_env\n",
        "source $UPRJ_ROOT/project_env\n",
        "rm -f /content/data/work\n",
        "rm -rf $WORK_ROOT\n",
        "mkdir -p $WORK_ROOT\n",
        "ln -s $WORK_ROOT /content/data/work\n",
        "ls -l /content/data/work"
      ],
      "metadata": {
        "id": "LqCpp6Hd2Zdl"
      },
      "execution_count": null,
      "outputs": []
    },
    {
      "cell_type": "markdown",
      "source": [
        "Create the modified magic source netlist."
      ],
      "metadata": {
        "id": "Y1ozRBwP2Zdl"
      }
    },
    {
      "cell_type": "code",
      "source": [
        "%%shell\n",
        "cat /content/env\n",
        "source /content/env\n",
        "cat > $SPICE_FILE <<EOF\n",
        ".SUBCKT $LAYOUT_TOP\n",
        "* no source\n",
        ".ENDS\n",
        "EOF"
      ],
      "metadata": {
        "id": "kEHvXHUx2Zdl"
      },
      "execution_count": null,
      "outputs": []
    },
    {
      "cell_type": "markdown",
      "source": [
        "Create lvs_config.json and update the LVS_SPICE_FILES and LVS_VERILOG_FILES for every design.\n",
        "\n",
        "Update the other parameters as needed."
      ],
      "metadata": {
        "id": "FjOelrd62Zdl"
      }
    },
    {
      "cell_type": "code",
      "source": [
        "%%shell\n",
        "cat /content/env\n",
        "source /content/env\n",
        "cat > $WORK_ROOT/lvs_config.json <<EOF\n",
        "{\n",
        "  \"#STD_CELL_LIBRARY\": \"sky130_fd_sc_hd\",\n",
        "  \"#INCLUDE_CONFIGS\": [\n",
        "    \"$LVS_ROOT/tech/$PDK/lvs_config.base.json\"\n",
        "  ],\n",
        "  \"TOP_SOURCE\": \"$LAYOUT_TOP\",\n",
        "  \"TOP_LAYOUT\": \"$LAYOUT_TOP\",\n",
        "  \"EXTRACT_FLATGLOB\": [\n",
        "    \"sg13g2_Corner\",\n",
        "    \"sg13g2_Filler*\",\n",
        "    \"sg13g2_IOPad*\",\n",
        "    \"sg13g2_Clamp*\",\n",
        "    \"sg13g2_RCClamp*\",\n",
        "    \"sg13g2_DCNDiode\",\n",
        "    \"sg13g2_DCPDiode\",\n",
        "    \"sg13g2_GateDecode\",\n",
        "    \"sg13g2_LevelDown\",\n",
        "    \"sg13g2_SecondaryProtection\",\n",
        "    \"sg13g2_LevelUp\",\n",
        "    \"sg13g2_io_*\",\n",
        "    \"sg13g2_*LevelUpInv\",\n",
        "    \"TEXT*\",\n",
        "    \"VIA*\"\n",
        "  ],\n",
        "  \"EXTRACT_ABSTRACT\": [ \"\" ],\n",
        "  \"LVS_FLATTEN\": [ \"\" ],\n",
        "  \"LVS_NOFLATTEN\": [ \"\" ],\n",
        "  \"LVS_IGNORE\": [ \"\" ],\n",
        "  \"LVS_SPICE_FILES\": [\n",
        "    \"$SPICE_FILE\"\n",
        "  ],\n",
        "  \"#LVS_VERILOG_FILES\": [\n",
        "    \"$UPRJ_ROOT/verilog/gl/user_proj_example.v\",\n",
        "    \"$UPRJ_ROOT/verilog/gl/user_project_wrapper.v\"\n",
        "  ],\n",
        "  \"LAYOUT_FILE\": \"$UPRJ_ROOT/$PROJECT/$GDSFILE\"\n",
        "}\n",
        "EOF"
      ],
      "metadata": {
        "id": "1NjQ8IFf2Zdl"
      },
      "execution_count": null,
      "outputs": []
    },
    {
      "cell_type": "markdown",
      "source": [
        "Write cvcrc file"
      ],
      "metadata": {
        "id": "XWK5Q3Ch2Zdl"
      }
    },
    {
      "cell_type": "code",
      "source": [
        "%%shell\n",
        "cat /content/env\n",
        "source /content/env\n",
        "cat > $WORK_ROOT/cvcrc <<EOF\n",
        "CVC_TOP = $LAYOUT_TOP\n",
        "CVC_NETLIST = $WORK_ROOT/ext/$LAYOUT_TOP.cdl.gz\n",
        "CVC_MODEL_FILE = $LVS_ROOT/tech/ihp-sg13g2/cvc.models\n",
        "CVC_POWER_FILE = $WORK_ROOT/cvc.power.$LAYOUT_TOP\n",
        "CVC_REPORT_FILE = $WORK_ROOT/cvc.log\n",
        "EOF\n",
        "\n",
        "cat > $WORK_ROOT/cvc.power.$LAYOUT_TOP <<EOF\n",
        "*vss* power 0.0\n",
        "iovdd* power 3.3\n",
        "vdd power 1.5\n",
        "clk input min@0.0 max@3.3\n",
        "reset_n input min@0.0 max@3.3\n",
        "EOF"
      ],
      "metadata": {
        "id": "IiWJlaF62Zdl"
      },
      "execution_count": null,
      "outputs": []
    },
    {
      "cell_type": "markdown",
      "source": [
        "Create the klayout CDL file from the magic source netlist."
      ],
      "metadata": {
        "id": "6GGSmQOY2Zdl"
      }
    },
    {
      "cell_type": "code",
      "source": [
        "%%shell\n",
        "source /content/env\n",
        "sed -e '/^X[CDMQR]/s/.//' $SPICE_FILE > $KLAYOUT_CDL\n"
      ],
      "metadata": {
        "id": "dZupNF802Zdl"
      },
      "execution_count": null,
      "outputs": []
    },
    {
      "cell_type": "markdown",
      "source": [
        "Results for TTIHP0p2\n"
      ],
      "metadata": {
        "id": "6onLAcQg2Zdl"
      }
    },
    {
      "cell_type": "markdown",
      "source": [
        "# 16. TTIHP25a\n",
        "\n",
        "Not ready - do not run.\n"
      ],
      "metadata": {
        "id": "MPWBOo732bHx"
      }
    },
    {
      "cell_type": "markdown",
      "source": [
        "Set the project, top cell and gds file names."
      ],
      "metadata": {
        "id": "0my9lFo72bHy"
      }
    },
    {
      "cell_type": "code",
      "source": [
        "%%shell\n",
        "source /content/env\n",
        "cat > $UPRJ_ROOT/project_env <<'EOF'\n",
        "export PROJECT=ascon\n",
        "export LAYOUT_TOP=\n",
        "export GDSFILE=design_data/gds/\n",
        "export WORK_ROOT=$UPRJ_ROOT/$PROJECT/work/$LAYOUT_TOP\n",
        "export SPICE_FILE=$WORK_ROOT/$LAYOUT_TOP.spice\n",
        "export KLAYOUT_CDL=$WORK_ROOT/$LAYOUT_TOP.cdl\n",
        "EOF\n",
        "cat $UPRJ_ROOT/project_env\n",
        "source $UPRJ_ROOT/project_env\n",
        "rm -f /content/data/work\n",
        "rm -rf $WORK_ROOT\n",
        "mkdir -p $WORK_ROOT\n",
        "ln -s $WORK_ROOT /content/data/work\n",
        "ls -l /content/data/work"
      ],
      "metadata": {
        "id": "NShuk_FV2bHy"
      },
      "execution_count": null,
      "outputs": []
    },
    {
      "cell_type": "markdown",
      "source": [
        "Create the modified magic source netlist."
      ],
      "metadata": {
        "id": "ityJtkml2bHy"
      }
    },
    {
      "cell_type": "code",
      "source": [
        "%%shell\n",
        "cat /content/env\n",
        "source /content/env\n",
        "cat > $SPICE_FILE <<EOF\n",
        ".SUBCKT $LAYOUT_TOP\n",
        "* no source\n",
        ".ENDS\n",
        "EOF"
      ],
      "metadata": {
        "id": "mANaAWxG2bHy"
      },
      "execution_count": null,
      "outputs": []
    },
    {
      "cell_type": "markdown",
      "source": [
        "Create lvs_config.json and update the LVS_SPICE_FILES and LVS_VERILOG_FILES for every design.\n",
        "\n",
        "Update the other parameters as needed."
      ],
      "metadata": {
        "id": "V87_Dalx2bHy"
      }
    },
    {
      "cell_type": "code",
      "source": [
        "%%shell\n",
        "cat /content/env\n",
        "source /content/env\n",
        "cat > $WORK_ROOT/lvs_config.json <<EOF\n",
        "{\n",
        "  \"#STD_CELL_LIBRARY\": \"sky130_fd_sc_hd\",\n",
        "  \"#INCLUDE_CONFIGS\": [\n",
        "    \"$LVS_ROOT/tech/$PDK/lvs_config.base.json\"\n",
        "  ],\n",
        "  \"TOP_SOURCE\": \"$LAYOUT_TOP\",\n",
        "  \"TOP_LAYOUT\": \"$LAYOUT_TOP\",\n",
        "  \"EXTRACT_FLATGLOB\": [\n",
        "    \"sg13g2_Corner\",\n",
        "    \"sg13g2_Filler*\",\n",
        "    \"sg13g2_IOPad*\",\n",
        "    \"sg13g2_Clamp*\",\n",
        "    \"sg13g2_RCClamp*\",\n",
        "    \"sg13g2_DCNDiode\",\n",
        "    \"sg13g2_DCPDiode\",\n",
        "    \"sg13g2_GateDecode\",\n",
        "    \"sg13g2_LevelDown\",\n",
        "    \"sg13g2_SecondaryProtection\",\n",
        "    \"sg13g2_LevelUp\",\n",
        "    \"sg13g2_io_*\",\n",
        "    \"sg13g2_*LevelUpInv\",\n",
        "    \"TEXT*\",\n",
        "    \"VIA*\"\n",
        "  ],\n",
        "  \"EXTRACT_ABSTRACT\": [ \"\" ],\n",
        "  \"LVS_FLATTEN\": [ \"\" ],\n",
        "  \"LVS_NOFLATTEN\": [ \"\" ],\n",
        "  \"LVS_IGNORE\": [ \"\" ],\n",
        "  \"LVS_SPICE_FILES\": [\n",
        "    \"$SPICE_FILE\"\n",
        "  ],\n",
        "  \"#LVS_VERILOG_FILES\": [\n",
        "    \"$UPRJ_ROOT/verilog/gl/user_proj_example.v\",\n",
        "    \"$UPRJ_ROOT/verilog/gl/user_project_wrapper.v\"\n",
        "  ],\n",
        "  \"LAYOUT_FILE\": \"$UPRJ_ROOT/$PROJECT/$GDSFILE\"\n",
        "}\n",
        "EOF"
      ],
      "metadata": {
        "id": "DfPXvhwg2bHy"
      },
      "execution_count": null,
      "outputs": []
    },
    {
      "cell_type": "markdown",
      "source": [
        "Write cvcrc file"
      ],
      "metadata": {
        "id": "dgCdJtjL2bHy"
      }
    },
    {
      "cell_type": "code",
      "source": [
        "%%shell\n",
        "cat /content/env\n",
        "source /content/env\n",
        "cat > $WORK_ROOT/cvcrc <<EOF\n",
        "CVC_TOP = $LAYOUT_TOP\n",
        "CVC_NETLIST = $WORK_ROOT/ext/$LAYOUT_TOP.cdl.gz\n",
        "CVC_MODEL_FILE = $LVS_ROOT/tech/ihp-sg13g2/cvc.models\n",
        "CVC_POWER_FILE = $WORK_ROOT/cvc.power.$LAYOUT_TOP\n",
        "CVC_REPORT_FILE = $WORK_ROOT/cvc.log\n",
        "EOF\n",
        "\n",
        "cat > $WORK_ROOT/cvc.power.$LAYOUT_TOP <<EOF\n",
        "*vss* power 0.0\n",
        "iovdd* power 3.3\n",
        "vdd power 1.5\n",
        "clk input min@0.0 max@3.3\n",
        "reset_n input min@0.0 max@3.3\n",
        "EOF"
      ],
      "metadata": {
        "id": "KCz3-e3-2bHy"
      },
      "execution_count": null,
      "outputs": []
    },
    {
      "cell_type": "markdown",
      "source": [
        "Create the klayout CDL file from the magic source netlist."
      ],
      "metadata": {
        "id": "LaCwbUwk2bHy"
      }
    },
    {
      "cell_type": "code",
      "source": [
        "%%shell\n",
        "source /content/env\n",
        "sed -e '/^X[CDMQR]/s/.//' $SPICE_FILE > $KLAYOUT_CDL\n"
      ],
      "metadata": {
        "id": "IIcBaKVE2bHy"
      },
      "execution_count": null,
      "outputs": []
    },
    {
      "cell_type": "markdown",
      "source": [
        "Results for TTIHP25a\n"
      ],
      "metadata": {
        "id": "xoI94XhJ2bHy"
      }
    },
    {
      "cell_type": "markdown",
      "source": [
        "# 17. VCO_130nm_LSI\n",
        "\n",
        "Not ready - do not run.\n"
      ],
      "metadata": {
        "id": "CvJgBSVa2cpc"
      }
    },
    {
      "cell_type": "markdown",
      "source": [
        "Set the project, top cell and gds file names."
      ],
      "metadata": {
        "id": "tvAWdfuY2cpc"
      }
    },
    {
      "cell_type": "code",
      "source": [
        "%%shell\n",
        "source /content/env\n",
        "cat > $UPRJ_ROOT/project_env <<'EOF'\n",
        "export PROJECT=ascon\n",
        "export LAYOUT_TOP=\n",
        "export GDSFILE=design_data/gds/\n",
        "export WORK_ROOT=$UPRJ_ROOT/$PROJECT/work/$LAYOUT_TOP\n",
        "export SPICE_FILE=$WORK_ROOT/$LAYOUT_TOP.spice\n",
        "export KLAYOUT_CDL=$WORK_ROOT/$LAYOUT_TOP.cdl\n",
        "EOF\n",
        "cat $UPRJ_ROOT/project_env\n",
        "source $UPRJ_ROOT/project_env\n",
        "rm -f /content/data/work\n",
        "rm -rf $WORK_ROOT\n",
        "mkdir -p $WORK_ROOT\n",
        "ln -s $WORK_ROOT /content/data/work\n",
        "ls -l /content/data/work"
      ],
      "metadata": {
        "id": "lD6vMVVH2cpc"
      },
      "execution_count": null,
      "outputs": []
    },
    {
      "cell_type": "markdown",
      "source": [
        "Create the modified magic source netlist."
      ],
      "metadata": {
        "id": "EasaPclX2cpc"
      }
    },
    {
      "cell_type": "code",
      "source": [
        "%%shell\n",
        "cat /content/env\n",
        "source /content/env\n",
        "cat > $SPICE_FILE <<EOF\n",
        ".SUBCKT $LAYOUT_TOP\n",
        "* no source\n",
        ".ENDS\n",
        "EOF"
      ],
      "metadata": {
        "id": "_3M0oIRa2cpd"
      },
      "execution_count": null,
      "outputs": []
    },
    {
      "cell_type": "markdown",
      "source": [
        "Create lvs_config.json and update the LVS_SPICE_FILES and LVS_VERILOG_FILES for every design.\n",
        "\n",
        "Update the other parameters as needed."
      ],
      "metadata": {
        "id": "eOuUVdwy2cpd"
      }
    },
    {
      "cell_type": "code",
      "source": [
        "%%shell\n",
        "cat /content/env\n",
        "source /content/env\n",
        "cat > $WORK_ROOT/lvs_config.json <<EOF\n",
        "{\n",
        "  \"#STD_CELL_LIBRARY\": \"sky130_fd_sc_hd\",\n",
        "  \"#INCLUDE_CONFIGS\": [\n",
        "    \"$LVS_ROOT/tech/$PDK/lvs_config.base.json\"\n",
        "  ],\n",
        "  \"TOP_SOURCE\": \"$LAYOUT_TOP\",\n",
        "  \"TOP_LAYOUT\": \"$LAYOUT_TOP\",\n",
        "  \"EXTRACT_FLATGLOB\": [\n",
        "    \"sg13g2_Corner\",\n",
        "    \"sg13g2_Filler*\",\n",
        "    \"sg13g2_IOPad*\",\n",
        "    \"sg13g2_Clamp*\",\n",
        "    \"sg13g2_RCClamp*\",\n",
        "    \"sg13g2_DCNDiode\",\n",
        "    \"sg13g2_DCPDiode\",\n",
        "    \"sg13g2_GateDecode\",\n",
        "    \"sg13g2_LevelDown\",\n",
        "    \"sg13g2_SecondaryProtection\",\n",
        "    \"sg13g2_LevelUp\",\n",
        "    \"sg13g2_io_*\",\n",
        "    \"sg13g2_*LevelUpInv\",\n",
        "    \"TEXT*\",\n",
        "    \"VIA*\"\n",
        "  ],\n",
        "  \"EXTRACT_ABSTRACT\": [ \"\" ],\n",
        "  \"LVS_FLATTEN\": [ \"\" ],\n",
        "  \"LVS_NOFLATTEN\": [ \"\" ],\n",
        "  \"LVS_IGNORE\": [ \"\" ],\n",
        "  \"LVS_SPICE_FILES\": [\n",
        "    \"$SPICE_FILE\"\n",
        "  ],\n",
        "  \"#LVS_VERILOG_FILES\": [\n",
        "    \"$UPRJ_ROOT/verilog/gl/user_proj_example.v\",\n",
        "    \"$UPRJ_ROOT/verilog/gl/user_project_wrapper.v\"\n",
        "  ],\n",
        "  \"LAYOUT_FILE\": \"$UPRJ_ROOT/$PROJECT/$GDSFILE\"\n",
        "}\n",
        "EOF"
      ],
      "metadata": {
        "id": "qy6j0isy2cpd"
      },
      "execution_count": null,
      "outputs": []
    },
    {
      "cell_type": "markdown",
      "source": [
        "Write cvcrc file"
      ],
      "metadata": {
        "id": "nU14XPoE2cpd"
      }
    },
    {
      "cell_type": "code",
      "source": [
        "%%shell\n",
        "cat /content/env\n",
        "source /content/env\n",
        "cat > $WORK_ROOT/cvcrc <<EOF\n",
        "CVC_TOP = $LAYOUT_TOP\n",
        "CVC_NETLIST = $WORK_ROOT/ext/$LAYOUT_TOP.cdl.gz\n",
        "CVC_MODEL_FILE = $LVS_ROOT/tech/ihp-sg13g2/cvc.models\n",
        "CVC_POWER_FILE = $WORK_ROOT/cvc.power.$LAYOUT_TOP\n",
        "CVC_REPORT_FILE = $WORK_ROOT/cvc.log\n",
        "EOF\n",
        "\n",
        "cat > $WORK_ROOT/cvc.power.$LAYOUT_TOP <<EOF\n",
        "*vss* power 0.0\n",
        "iovdd* power 3.3\n",
        "vdd power 1.5\n",
        "clk input min@0.0 max@3.3\n",
        "reset_n input min@0.0 max@3.3\n",
        "EOF"
      ],
      "metadata": {
        "id": "TLtqEnkr2cpd"
      },
      "execution_count": null,
      "outputs": []
    },
    {
      "cell_type": "markdown",
      "source": [
        "Create the klayout CDL file from the magic source netlist."
      ],
      "metadata": {
        "id": "p0rftMxY2cpd"
      }
    },
    {
      "cell_type": "code",
      "source": [
        "%%shell\n",
        "source /content/env\n",
        "sed -e '/^X[CDMQR]/s/.//' $SPICE_FILE > $KLAYOUT_CDL\n"
      ],
      "metadata": {
        "id": "gImMvcQw2cpd"
      },
      "execution_count": null,
      "outputs": []
    },
    {
      "cell_type": "markdown",
      "source": [
        "Results for VCO_130nm_LSI\n"
      ],
      "metadata": {
        "id": "f9B73aGQ2cpd"
      }
    },
    {
      "cell_type": "markdown",
      "source": [
        "# Run BE checks"
      ],
      "metadata": {
        "id": "2GSDoZMDUbLh"
      }
    },
    {
      "cell_type": "code",
      "source": [
        "%%shell\n",
        "cat /content/env\n",
        "source /content/env\n",
        "# run_be_checks includes magic/netgen soft connection and LVS, and CVC-RV\n",
        "$LVS_ROOT/run_be_checks $WORK_ROOT/lvs_config.json\n",
        "\n",
        "python3 $PDK_ROOT/$PDK/libs.tech/klayout/tech/lvs/run_lvs.py --layout=$UPRJ_ROOT/$PROJECT/$GDSFILE \\\n",
        "  --netlist=$KLAYOUT_CDL \\\n",
        "  --run_dir=$WORK_ROOT/klayout \\\n",
        "  --topcell=$LAYOUT_TOP \\\n",
        "  --run_mode=deep \\\n",
        "  --spice_comments \\\n",
        "  --no_simplify \\\n",
        "  --combine_devices \\\n",
        "  --top_lvl_pins\n",
        "\n",
        "LVS_BASENAME=$( echo $GDSFILE | sed -e 's,.*/,,' -e 's,\\..*,,' )\n",
        "$LVS_ROOT/check_klayout_ports $WORK_ROOT/klayout/$LVS_BASENAME.lvsdb > $WORK_ROOT/klayout/port_check.log\n",
        "if [[ -e $WORK_ROOT/klayout/port_check.log ]]; then\n",
        "  if [[ -s $WORK_ROOT/klayout/port_check.log ]]; then\n",
        "    echo \"* Klayout ports do not match *\"\n",
        "    echo \"layout     source\"\n",
        "    awk '{printf \"%-10s %s\\n\", $1, $2}' $WORK_ROOT/klayout/port_check.log\n",
        "  else\n",
        "    echo \"Klayout ports match\"\n",
        "  fi\n",
        "fi"
      ],
      "metadata": {
        "id": "RjDeWGKj1b2g"
      },
      "execution_count": null,
      "outputs": []
    },
    {
      "cell_type": "markdown",
      "source": [
        "# View verification logs"
      ],
      "metadata": {
        "id": "DeWIJuFndtvJ"
      }
    },
    {
      "cell_type": "code",
      "source": [
        "from google.colab import files\n",
        "\n",
        "files.view('/content/data/work/soft.log')\n",
        "files.view('/content/data/work/lvs.log')\n",
        "files.view('/content/data/work/cvc.log')"
      ],
      "metadata": {
        "id": "RihfaPqYxpuq"
      },
      "execution_count": null,
      "outputs": []
    },
    {
      "cell_type": "markdown",
      "source": [
        "# View soft verification report"
      ],
      "metadata": {
        "id": "BgzqD-4KjE9F"
      }
    },
    {
      "cell_type": "code",
      "source": [
        "from google.colab import files\n",
        "\n",
        "files.view('/content/data/work/soft.report')"
      ],
      "metadata": {
        "id": "DfG7DKXayaSi"
      },
      "execution_count": null,
      "outputs": []
    },
    {
      "cell_type": "markdown",
      "source": [
        "# View LVS report"
      ],
      "metadata": {
        "id": "ldCmn3atj1eq"
      }
    },
    {
      "cell_type": "code",
      "source": [
        "from google.colab import files\n",
        "\n",
        "files.view('/content/data/work/lvs.report')"
      ],
      "metadata": {
        "id": "UkUuHrX1jxdI"
      },
      "execution_count": null,
      "outputs": []
    },
    {
      "cell_type": "markdown",
      "source": [
        "# View CVC report"
      ],
      "metadata": {
        "id": "kJXQtZd1kKuj"
      }
    },
    {
      "cell_type": "code",
      "source": [
        "from google.colab import files\n",
        "\n",
        "files.view('/content/data/work/cvc.error')"
      ],
      "metadata": {
        "id": "l0mlcn6TkJ9z"
      },
      "execution_count": null,
      "outputs": []
    }
  ]
}