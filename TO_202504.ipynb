{
 "cells": [
  {
   "cell_type": "markdown",
   "metadata": {
    "id": "KXrjYC7jYI-4"
   },
   "source": [
    "# Backend Verification for the iHP Open MPW Shuttles\n",
    "\n",
    "[D. Mitch Bailey](https://www.linkedin.com/in/mitch-bailey-cvc/), [ShuhariSystem](https://www.shuharisystem.com/)"
   ]
  },
  {
   "cell_type": "markdown",
   "metadata": {
    "id": "xPG5P8WSg42s"
   },
   "source": [
    "# Overview\n",
    "This notebook performs backend LVS (with [klayout](https://github.com/KLayout/klayout) or [magic](https://github.com/RTimothyEdwards/magic)/[netgen](https://github.com/RTimothyEdwards/netgen)), soft-connection checks (with magic/netgen) and/or reliability verfication (with [CVC-RV](https://github.com/d-m-bailey/cvc)) with open source EDA software and systems."
   ]
  },
  {
   "cell_type": "markdown",
   "metadata": {
    "id": "Nssto4gbqLr9"
   },
   "source": [
    "# iHP Open-MPW Data\n",
    "The 17 submissions to iHp open mpw shuttle for April 2025 listed below are located [here](https://github.com/IHP-GmbH/TO_Apr2025).\n",
    "\n",
    "* 160GHz_LNA\n",
    "* 40_GHZ_LOW_NOISE_TIA\n",
    "* 6502-cpu\n",
    "* 97_GHZ_LINEAR_TIA\n",
    "* DC_to_130_GHz_TIA\n",
    "* GPS_LNA\n",
    "* Greyhound\n",
    "* Mixer5GHz\n",
    "* PA_180GHz\n",
    "* TTIHP0p2\n",
    "* TTIHP25a\n",
    "* VCO_130nm_LSI\n",
    "* active_L_VCOs\n",
    "* ascon\n",
    "* bandgap_ref_cmos\n",
    "* elemrv-n\n",
    "* i2c-gpio-expander\n",
    "\n",
    "Create a file with the initial environment variables.\n"
   ]
  },
  {
   "cell_type": "code",
   "execution_count": null,
   "metadata": {
    "id": "nxpxjYy1zIkZ"
   },
   "outputs": [],
   "source": [
    "%%writefile /content/env\n",
    "export LOCAL_INSTALL=/content/local\n",
    "export PATH=$PATH:$LOCAL_INSTALL/bin\n",
    "export PDK_ROOT=/content/pdks\n",
    "export PDK=ihp-sg13g2\n",
    "export PDKPATH=$PDK_ROOT/$PDK\n",
    "export PDK_COMMIT=ddb601a4a4473163e1ed6df416b885df18b4ac03\n",
    "export MAGIC_COMMIT=master\n",
    "export NETGEN_COMMIT=master\n",
    "export KLAYOUT_DISTRO=Ubuntu-22\n",
    "export KLAYOUT_DEB=klayout_0.30.1-1_amd64.deb\n",
    "export EXTRA_CHECK_COMMIT=ihp-sg13g2\n",
    "export CVC_COMMIT=master\n",
    "export DATA_ROOT=/content/data\n",
    "export CHECK_ROOT=/content/check_data\n",
    "export LVS_ROOT=/root/extra_be_checks\n",
    "export MPW=TO_Apr2025\n",
    "if [[ -f $DATA_ROOT/project_env ]]; then\n",
    "  cat $DATA_ROOT/project_env\n",
    "  source $DATA_ROOT/project_env\n",
    "fi\n"
   ]
  },
  {
   "cell_type": "markdown",
   "metadata": {
    "id": "EygNjlhfms1L"
   },
   "source": [
    "# Program installation.\n",
    "Only needs to be executed once.\n",
    "\n",
    "This step sets up the pdk and installs magic, klayout, netgen and cvc_rv.\n",
    "\n",
    "Runtime: 3-4 minutes\n",
    "\n",
    "Note: klayout LVS rule files are modified as follows:\n",
    "1. `ptap_holes` calculation is modified to ignore ptap in the sealring. If not, the entire chip becomes `ptap_holes`.\n",
    "1. `rfmim_sub` is redefined as `rfmim_area` sized by 1um. This creates an artificial connection to the substrate under the `rfcap_cmim` device. The substrate is acutally a non-well area with no connection. `rfmim_sub` defined here, creates a region that connects to surrounding psubstrate tap effectively checking that the device is surrounded by a grounded ptap ring.\n",
    "1. The rule has been modified to combine both layout and source capacitors with the same custom function. The original used default capacitor combination for the source and custom combination for the layout.\n",
    "\n",
    "Note: The magic tech file `ihp-sg13g2.tech` from `extra_be_checks/tech/ihp-sg13g2` replaces the pdk tech file and contains the following modifications:\n",
    "1. Because diffusion is silicided, all diffusion, regardless of implant, is connected. The rules are modified to reflect this.\n",
    "1. The pcell layout for `npn13G2` does not have metal to emitter contact. The pcells are replaced at the fab with proprietary layouts that have the required contacts. To pass LVS, the tech file has been modified to directly connect `metal1` to the `npn13G2` emitter.\n",
    "1. The `lvnpnarea` calculation was changed so that parallel devices bases are not merged. Merged bases result in only 1 device being extracted.\n",
    "1. A `pad` layer connection to `metal7` was added.\n",
    "1. `MET7TXT` labling of the `pad` layer was added.\n",
    "1. Individual `res_metal*` devices added to match klayout extraction.\n",
    "1. For npn, the `le` and `we` parameters values are swapped. magic extracts the smaller value as `le` while the source has `we` as the smaller value.\n",
    "\n",
    "Note: netgen setup file `ihp-sg13g2_setup.tcl` is modified as follows:\n",
    "1. Correct typo for mimcap and antenna combination. `circuit1` used where `circuit2` should have been used.\n",
    "1. Remove permute for `npn` device terminals.\n",
    "1. Remove parallel combination of `npn` devices. Simple parallel devices are combined during the extraction process with the `merge conservative` directive.\n",
    "1. Changed device name `cap_rfcmim` to `rfcmim` to match klayout rules. Simulation requires `cap_rfcmim` so this might require a source netlist change or possibly a netgen equivalency.\n",
    "1. The wfeed parameter in the source netlist is ignored because magic does not extract it.\n",
    "\n"
   ]
  },
  {
   "cell_type": "code",
   "execution_count": null,
   "metadata": {
    "id": "Gd7xF7Ssqkh9"
   },
   "outputs": [],
   "source": [
    "%%shell\n",
    "cd\n",
    "cat /content/env\n",
    "source /content/env\n",
    "\n",
    "lsb_release -a 2>/dev/null\n",
    "\n",
    "if [[ ! -d $PDK_ROOT ]]; then\n",
    "  echo \"==> Installing ciel...\"\n",
    "  pip install ciel\n",
    "fi\n",
    "rm -rf $PDK_ROOT\n",
    "ciel enable --pdk $PDK $PDK_COMMIT\n",
    "# patch for mimcap and antenna error in netgen setup file from pdk\n",
    "# patch to remove permute for npn devices.\n",
    "# patch to remove parallel combination of bipolar devices. parallel devices with matching parameters will be combined during magic extraction.\n",
    "# patch to change cap_rfcmim to rfcmim.\n",
    "# patch to remove wfeed parameter from source capacitors because magic does not extract it.\n",
    "sed -i.bak -e '/lsearch .cells2/,/circuit2/s/circuit1 .dev/circuit2 $dev/' \\\n",
    "  -e '/npn13/,/circuit2.*delete/s/.*permute/#&/' \\\n",
    "  -e '/npn13/,/circuit2.*delete/s/.*parallel/#&/' \\\n",
    "  -e 's/cap_rfcmim/rfcmim/' \\\n",
    "  -e '/rfcmim/,/circuit2.*delete/s/.*circuit2.*delete.*/& wfeed/' $PDK_ROOT/$PDK/libs.tech/netgen/ihp-sg13g2_setup.tcl\n",
    "\n",
    "# allow met7 text to be recognized on pads\n",
    "sed -i.bak -e '/labels PADID/a\\\n",
    "labels MET7PIN port\\\n",
    "labels MET7TXT text\n",
    "' \\\n",
    "  -e '/pad/!s/\\*m7,m7fill,pillar,solder/&,pad/g' $PDK_ROOT/$PDK/libs.tech/magic/ihp-sg13g2.tech\n",
    "\n",
    "# ignore rule that creates separate taps for labeled wells\n",
    "# ignore gaurdring when computing ptap_holes\n",
    "sed -i.bak -e '/^well_patt/s/\"/\"-/' -e '/^sub_patt/s/\"/\"-/' \\\n",
    "  -e 's/ptap_holes = .*/ptap_holes = ptap.not(edgeseal_drw).holes/' $PDK_ROOT/$PDK/libs.tech/klayout/tech/lvs/rule_decks/general_derivations.lvs\n",
    "\n",
    "# fix rfmim_sub\n",
    "sed -i.bak -e 's/rfmim_sub =.*/rfmim_sub = rfmim_area.sized(1.um)/' $PDK_ROOT/$PDK/libs.tech/klayout/tech/lvs/rule_decks/cap_derivations.lvs\n",
    "\n",
    "# fix cap reduction\n",
    "mv $PDK_ROOT/$PDK/libs.tech/klayout/tech/lvs/rule_decks/custom_mim_extractor.lvs $PDK_ROOT/$PDK/libs.tech/klayout/tech/lvs/rule_decks/custom_mim_extractor.lvs.org\n",
    "awk '\\\n",
    "/Adding extra param.*rfcmim/ { print \"    self.combiner = MIMCAPNDeviceCombiner.new\"; } \\\n",
    "/if name.downcase.include...rfcmim/ { comment += 1; } \\\n",
    "comment == 1 { $1 = \"#\" $1; } \\\n",
    "comment == 1 && $1 == \"#end\" { comment += 1; } \\\n",
    " { print $0; }' \\\n",
    "  $PDK_ROOT/$PDK/libs.tech/klayout/tech/lvs/rule_decks/custom_mim_extractor.lvs.org > \\\n",
    "  $PDK_ROOT/$PDK/libs.tech/klayout/tech/lvs/rule_decks/custom_mim_extractor.lvs\n",
    "\n",
    "echo \"==> Using pdk $PDK commit $PDK_COMMIT (patched)\n",
    "\"\n",
    "\n",
    "# if [[ ! -d extra_be_checks ]]; then\n",
    "  echo \"==> Downloading extra_be_checks $EXTRA_CHECK_COMMIT\"\n",
    "  rm -rf extra_be_checks\n",
    "  git clone https://github.com/d-m-bailey/extra_be_checks.git -b $EXTRA_CHECK_COMMIT\n",
    "  mv $PDK_ROOT/$PDK/libs.tech/magic/ihp-sg13g2.tech $PDK_ROOT/$PDK/libs.tech/magic/ihp-sg13g2.tech.org\n",
    "  cp extra_be_checks/tech/ihp-sg13g2/ihp-sg13g2.tech $PDK_ROOT/$PDK/libs.tech/magic/ihp-sg13g2.tech\n",
    "  # Exchange npn13g2 l/w params\n",
    "  sed -i.bak -e 's/w1=we l1=le/w1=le l1=we/' $PDK_ROOT/$PDK/libs.tech/magic/ihp-sg13g2.tech\n",
    "# fi\n",
    "echo \"==> Using extra_be_checks commit $(cd extra_be_checks; git rev-parse HEAD)\n",
    "\"\n",
    "\n",
    "if ! command -v netgen; then\n",
    "  echo \"==> Downloading and installing netgen $NETGEN_COMMIT\"\n",
    "  git clone https://github.com/RTimothyEdwards/netgen.git --depth=1 -b $NETGEN_COMMIT\n",
    "  cd netgen\n",
    "  ./configure --prefix=$LOCAL_INSTALL\n",
    "  make\n",
    "  make install\n",
    "  cd\n",
    "fi\n",
    "echo \"==> Using netgen version $(netgen -batch | awk '/Netgen/ {print $2}')\n",
    "\"\n",
    "\n",
    "if ! command -v magic; then\n",
    "  echo \"==> Downloading and installing magic $MAGIC_COMMIT\"\n",
    "  git clone https://github.com/RTimothyEdwards/magic.git --depth=1 -b $MAGIC_COMMIT\n",
    "  cd magic\n",
    "  ./configure --prefix=$LOCAL_INSTALL\n",
    "  make\n",
    "  make install\n",
    "  cd\n",
    "fi\n",
    "echo \"==> Using magic version $(magic -dnull -noc --version)\n",
    "\"\n",
    "\n",
    "if ! command -v klayout; then\n",
    "  echo \"==> Downloading and installing klayout $KLAYOUT_DEB for $KLAYOUT_DISTRO\"\n",
    "  wget -P /root https://www.klayout.org/downloads/$KLAYOUT_DISTRO/$KLAYOUT_DEB\n",
    "  sudo apt install /root/$KLAYOUT_DEB\n",
    "  pip install docopt\n",
    "  pip install klayout\n",
    "  cd\n",
    "fi\n",
    "echo \"==> Using $(klayout -v)\n",
    "\"\n",
    "\n",
    "if ! command -v cvc_rv; then\n",
    "  echo \"==> Downloading and installing cvc_rv $CVC_COMMIT\"\n",
    "  sudo apt install autopoint bison flex\n",
    "  git clone https://github.com/d-m-bailey/cvc --depth=1 -b $CVC_COMMIT\n",
    "  cd cvc\n",
    "  autoreconf -vif\n",
    "  ./configure --prefix=$LOCAL_INSTALL --disable-nls\n",
    "  make\n",
    "  make install\n",
    "  cd\n",
    "fi\n",
    "echo \"==> Using $(cvc_rv -v)\n",
    "\""
   ]
  },
  {
   "cell_type": "markdown",
   "metadata": {
    "id": "3dCQ3asT1JeR"
   },
   "source": [
    "# Clone the design repo and list the gds, spice and verilog files.\n",
    "\n",
    "Run to refresh the design data.\n",
    "The file list is also saved in /content/filelist.txt.\n",
    "\n",
    "Runtime: 1-2 minutes."
   ]
  },
  {
   "cell_type": "code",
   "execution_count": null,
   "metadata": {
    "id": "Mk5M_rlrpVjg"
   },
   "outputs": [],
   "source": [
    "%%shell\n",
    "cat /content/env\n",
    "source /content/env\n",
    "rm -rf $DATA_ROOT $CHECK_ROOT\n",
    "git clone https://github.com/d-m-bailey/ihp-mpw-be.git --depth=1 -b cif $CHECK_ROOT\n",
    "git clone https://github.com/IHP-GmbH/$MPW.git --depth=1 $DATA_ROOT\n",
    "cd data\n",
    "# uncompress gds, spice, cdl, and verilog files\n",
    "find . \\( -name \"*.gds.gz\" -o -name \"*.spice.gz\" -o -name \"*.cdl.gz\" -o -name \"*.v.gz\" \\) -execdir gunzip -v {} \\;\n",
    "find . \\( -name \"*.gds.zip\" -o -name \"*.spice.zip\" -o -name \"*.cdl.zip\" -o -name \"*.v.zip\" \\) -execdir 7z x {} \\;\n",
    "# Create a file listing the size, project and relevant file names.\n",
    "# Only list files that end with .gds (in gds subdirectories), .spice, .cdl, or .v.\n",
    "tee /content/filelist.txt <<EOF\n",
    "   Size Project                   File\n",
    "------- ------------------------- ---------------------------------------------\n",
    "EOF\n",
    "ls -s $(find . \\( -name \"*.gds\" -path \"*/gds/*\" \\) -o -name \"*.spice\" -o -name \"*.cdl\" -o -name \"*.v\") |\n",
    "  sed -e 's,\\./,,' -e 's,/, ,' |\n",
    "  awk '{printf \"%7d %-25s %s\\n\", $1, $2, $3}' |\n",
    "  tee -a /content/filelist.txt"
   ]
  },
  {
   "cell_type": "markdown",
   "metadata": {
    "id": "GqOkCPZ3IzyD"
   },
   "source": [
    "# ※ Run cells before this cell for program installation and general setup.<br>Then choose one setup from the 17 designs below.<br>Finally, run the checks and examine the results\n",
    "\n",
    "General results:\n",
    "1. When the layout has cells that have the same name as primitive devices, netgen segfaults. <br>➡︎ Flatglob all layout cells with primitive device names."
   ]
  },
  {
   "cell_type": "markdown",
   "metadata": {
    "id": "o0IPhpGFpx15"
   },
   "source": [
    "# 1. 160GHz_LNA\n",
    "\n",
    "Checks will not work with GDS file in repo.\n",
    "1. Copy text from `LNA` ports to top level layout.\n",
    "2. Add dfpad.drawing - 41/0 along with TopMetal2.drawing on `RF_INPUT` and `RF_OUTPUT` pins.\n",
    "3. Save as `FMD_QNC_04_160GHz_LNA.mod.gds` and upload to `/content/data/160GHz_LNA/design_data/gds`\n",
    "\n",
    "Results:\n",
    "*   Passes all checks with the above changes"
   ]
  },
  {
   "cell_type": "markdown",
   "metadata": {
    "id": "ddHKTYSJpx16"
   },
   "source": [
    "Set the project, top cell and gds file names."
   ]
  },
  {
   "cell_type": "code",
   "execution_count": null,
   "metadata": {
    "id": "MCHlHjJRpx17"
   },
   "outputs": [],
   "source": [
    "%%shell\n",
    "source /content/env\n",
    "cat > $DATA_ROOT/project_env <<'EOF'\n",
    "export PROJECT=160GHz_LNA\n",
    "export LAYOUT_TOP=FMD_QNC_04_160GHz_LNA\n",
    "export GDSFILE=design_data/gds/FMD_QNC_04_160GHz_LNA.mod.gds\n",
    "export WORK_ROOT=$DATA_ROOT/$PROJECT/work/$PROJECT\n",
    "export SPICE_FILE=$CHECK_ROOT/$MPW/$PROJECT/xschem/lvs/$PROJECT.spice\n",
    "export KLAYOUT_CDL=$WORK_ROOT/$LAYOUT_TOP.cdl\n",
    "EOF\n",
    "cat $DATA_ROOT/project_env\n",
    "source $DATA_ROOT/project_env\n",
    "rm -f $DATA_ROOT/work\n",
    "rm -rf $WORK_ROOT\n",
    "mkdir -p $WORK_ROOT\n",
    "ln -s $WORK_ROOT $DATA_ROOT/work\n",
    "ls -l $DATA_ROOT/work"
   ]
  },
  {
   "cell_type": "markdown",
   "metadata": {
    "id": "_ABv8aMTpx17"
   },
   "source": [
    "Create `lvs_config.json` and update the `LVS_SPICE_FILES` and `LVS_VERILOG_FILES` for every design.\n",
    "\n",
    "Update the other parameters as needed."
   ]
  },
  {
   "cell_type": "code",
   "execution_count": null,
   "metadata": {
    "id": "vVQnUrHopx17"
   },
   "outputs": [],
   "source": [
    "%%shell\n",
    "cat /content/env\n",
    "source /content/env\n",
    "cat > $WORK_ROOT/lvs_config.json <<EOF\n",
    "{\n",
    "  \"#STD_CELL_LIBRARY\": \"sky130_fd_sc_hd\",\n",
    "  \"#INCLUDE_CONFIGS\": [\n",
    "    \"$LVS_ROOT/tech/$PDK/lvs_config.base.json\"\n",
    "  ],\n",
    "  \"TOP_SOURCE\": \"$PROJECT\",\n",
    "  \"TOP_LAYOUT\": \"$LAYOUT_TOP\",\n",
    "  \"EXTRACT_FLATGLOB\": [\n",
    "    \"npn13G2*\",\n",
    "    \"cmim*\",\n",
    "    \"rfcmim*\",\n",
    "    \"rsil*\",\n",
    "    \"via_stack*\",\n",
    "    \"GND\",\n",
    "    \"sealring*\",\n",
    "    \"*_stage\",\n",
    "    \"LNA\",\n",
    "    \"rhigh*\"\n",
    "  ],\n",
    "  \"EXTRACT_ABSTRACT\": [ \"\" ],\n",
    "  \"LVS_FLATTEN\": [ \"\" ],\n",
    "  \"LVS_NOFLATTEN\": [ \"\" ],\n",
    "  \"LVS_IGNORE\": [ \"\" ],\n",
    "  \"LVS_SPICE_FILES\": [\n",
    "    \"$SPICE_FILE\"\n",
    "  ],\n",
    "  \"#LVS_VERILOG_FILES\": [\n",
    "    \"$UPRJ_ROOT/verilog/gl/user_proj_example.v\",\n",
    "    \"$UPRJ_ROOT/verilog/gl/user_project_wrapper.v\"\n",
    "  ],\n",
    "  \"LAYOUT_FILE\": \"$DATA_ROOT/$PROJECT/$GDSFILE\"\n",
    "}\n",
    "EOF"
   ]
  },
  {
   "cell_type": "markdown",
   "metadata": {
    "id": "jutc-Gsspx18"
   },
   "source": [
    "Create the cvcrc setup file and power file."
   ]
  },
  {
   "cell_type": "code",
   "execution_count": null,
   "metadata": {
    "id": "W0XmUXvApx19"
   },
   "outputs": [],
   "source": [
    "%%shell\n",
    "cat /content/env\n",
    "source /content/env\n",
    "cat > $WORK_ROOT/cvcrc <<EOF\n",
    "CVC_TOP = $LAYOUT_TOP\n",
    "CVC_NETLIST = $WORK_ROOT/ext/$LAYOUT_TOP.cdl.gz\n",
    "CVC_MODEL_FILE = $LVS_ROOT/tech/ihp-sg13g2/cvc.models\n",
    "CVC_POWER_FILE = $WORK_ROOT/cvc.power.$LAYOUT_TOP\n",
    "CVC_REPORT_FILE = $WORK_ROOT/cvc.log\n",
    "EOF\n",
    "\n",
    "cat > $WORK_ROOT/cvc.power.$PROJECT  <<EOF\n",
    "GND power 0.0\n",
    "VCC power 3.3\n",
    "EOF"
   ]
  },
  {
   "cell_type": "markdown",
   "metadata": {
    "id": "i_WF1B6tpx19"
   },
   "source": [
    "Create the klayout CDL file from the magic source netlist."
   ]
  },
  {
   "cell_type": "code",
   "execution_count": null,
   "metadata": {
    "id": "Zzp5M_Adpx19"
   },
   "outputs": [],
   "source": [
    "%%shell\n",
    "source /content/env\n",
    "sed -e '/^X[QMRCD]/s/.//' \\\n",
    "    -e \"s/\\.subckt $PROJECT/.subckt $LAYOUT_TOP/I\" $SPICE_FILE > $KLAYOUT_CDL\n"
   ]
  },
  {
   "cell_type": "markdown",
   "metadata": {
    "id": "sCnqIvBARKTz"
   },
   "source": [
    "# 2. 40_GHZ_LOW_NOISE_TIA\n",
    "\n",
    "Checks will not work with GDS file in repo.\n",
    "1. Copy TopMetal2.text from `TIA` to FDM_QNC_00_LN_TIA\n",
    "2. Modify GND text position outside TopMetal2.pin\n",
    "3. Modify text `VCC1`->`VCC3`, `VCC3`->`VCC1`\n",
    "4. Save as `FMD_QNC_00_40_GHz_Low_Noise_TIA.mod.gds`\n",
    "5. Upload to `/content/data/40_GHZ_LOW_NOISE_TIA/design_data/gds`"
   ]
  },
  {
   "cell_type": "markdown",
   "metadata": {
    "id": "SCzo_6-4RKT0"
   },
   "source": [
    "Set the project, top cell and gds file names."
   ]
  },
  {
   "cell_type": "code",
   "execution_count": null,
   "metadata": {
    "id": "ABoKEu8eRKT0"
   },
   "outputs": [],
   "source": [
    "%%shell\n",
    "source /content/env\n",
    "cat > $DATA_ROOT/project_env <<'EOF'\n",
    "export PROJECT=40_GHZ_LOW_NOISE_TIA\n",
    "export LAYOUT_TOP=FDM_QNC_00_LN_TIA\n",
    "export GDSFILE=design_data/gds/FMD_QNC_00_40_GHz_Low_Noise_TIA.mod.gds\n",
    "export WORK_ROOT=$DATA_ROOT/$PROJECT/work/$PROJECT\n",
    "export SPICE_FILE=$CHECK_ROOT/$MPW/$PROJECT/xschem/lvs/$PROJECT.spice\n",
    "export KLAYOUT_CDL=$WORK_ROOT/$LAYOUT_TOP.cdl\n",
    "EOF\n",
    "cat $DATA_ROOT/project_env\n",
    "source $DATA_ROOT/project_env\n",
    "rm -f $DATA_ROOT/work\n",
    "rm -rf $WORK_ROOT\n",
    "mkdir -p $WORK_ROOT\n",
    "ln -s $WORK_ROOT $DATA_ROOT/work\n",
    "ls -l $DATA_ROOT/work\n"
   ]
  },
  {
   "cell_type": "markdown",
   "metadata": {
    "id": "OAEttZP5RKT1"
   },
   "source": [
    "Create lvs_config.json and update the LVS_SPICE_FILES and LVS_VERILOG_FILES for every design.\n",
    "\n",
    "Update the other parameters as needed."
   ]
  },
  {
   "cell_type": "code",
   "execution_count": null,
   "metadata": {
    "id": "Mrrreu3aRKT1"
   },
   "outputs": [],
   "source": [
    "%%shell\n",
    "cat /content/env\n",
    "source /content/env\n",
    "cat > $WORK_ROOT/lvs_config.json <<EOF\n",
    "{\n",
    "  \"#STD_CELL_LIBRARY\": \"sky130_fd_sc_hd\",\n",
    "  \"#INCLUDE_CONFIGS\": [\n",
    "    \"$LVS_ROOT/tech/$PDK/lvs_config.base.json\"\n",
    "  ],\n",
    "  \"TOP_SOURCE\": \"$PROJECT\",\n",
    "  \"TOP_LAYOUT\": \"$LAYOUT_TOP\",\n",
    "  \"EXTRACT_FLATGLOB\": [\n",
    "    \"npn13G2*\",\n",
    "    \"cmim*\",\n",
    "    \"rsil*\",\n",
    "    \"rppd*\",\n",
    "    \"GND\",\n",
    "    \"sealring*\",\n",
    "    \"TIA\",\n",
    "    \"GND_PLANE\",\n",
    "    \"*_STAGE\",\n",
    "    \"VIA_STACK\",\n",
    "    \"INPUT_PAD\",\n",
    "    \"OUTPUT_PAD\",\n",
    "    \"DC_PAD_DOWN\",\n",
    "    \"DC_PAD_UP\"\n",
    "  ],\n",
    "  \"EXTRACT_ABSTRACT\": [ \"\" ],\n",
    "  \"LVS_FLATTEN\": [ \"\" ],\n",
    "  \"LVS_NOFLATTEN\": [ \"\" ],\n",
    "  \"LVS_IGNORE\": [ \"\" ],\n",
    "  \"LVS_SPICE_FILES\": [\n",
    "    \"$SPICE_FILE\"\n",
    "  ],\n",
    "  \"#LVS_VERILOG_FILES\": [\n",
    "    \"$UPRJ_ROOT/verilog/gl/user_proj_example.v\",\n",
    "    \"$UPRJ_ROOT/verilog/gl/user_project_wrapper.v\"\n",
    "  ],\n",
    "  \"LAYOUT_FILE\": \"$DATA_ROOT/$PROJECT/$GDSFILE\"\n",
    "}\n",
    "EOF"
   ]
  },
  {
   "cell_type": "markdown",
   "metadata": {
    "id": "zPMfjyNVRKT1"
   },
   "source": [
    "Write cvcrc file"
   ]
  },
  {
   "cell_type": "code",
   "execution_count": null,
   "metadata": {
    "id": "vxHfUYn3RKT1"
   },
   "outputs": [],
   "source": [
    "%%shell\n",
    "cat /content/env\n",
    "source /content/env\n",
    "cat > $WORK_ROOT/cvcrc <<EOF\n",
    "CVC_TOP = $LAYOUT_TOP\n",
    "CVC_NETLIST = $WORK_ROOT/ext/$LAYOUT_TOP.cdl.gz\n",
    "CVC_MODEL_FILE = $LVS_ROOT/tech/ihp-sg13g2/cvc.models\n",
    "CVC_POWER_FILE = $WORK_ROOT/cvc.power.$LAYOUT_TOP\n",
    "CVC_REPORT_FILE = $WORK_ROOT/cvc.log\n",
    "EOF\n",
    "\n",
    "cat > $WORK_ROOT/cvc.power.$PROJECT <<EOF\n",
    "GND power 0.0\n",
    "VCC* power 3.3\n",
    "RFIN min@0.0 max@3.3\n",
    "EOF"
   ]
  },
  {
   "cell_type": "markdown",
   "metadata": {
    "id": "a2KU7s4CRKT1"
   },
   "source": [
    "Create the klayout CDL file from the magic source netlist."
   ]
  },
  {
   "cell_type": "code",
   "execution_count": null,
   "metadata": {
    "id": "VdbpWNwyRKT1"
   },
   "outputs": [],
   "source": [
    "%%shell\n",
    "source /content/env\n",
    "sed -e '/^X[QMRCD]/s/.//' \\\n",
    "    -e \"s/\\.subckt $PROJECT/.subckt $LAYOUT_TOP/I\" $SPICE_FILE > $KLAYOUT_CDL"
   ]
  },
  {
   "cell_type": "markdown",
   "metadata": {
    "id": "q61kID9_RKT1"
   },
   "source": [
    "Results for 40_GHZ_LOW_NOISE_TIA\n",
    "*   layout has cells that have the same name as primitive devices. This causes netgen to segfault. <br>=> Flatglob all layout cells with primitive device names.\n",
    "* Top layout does not have text. `TIA` level has text, but also has missing connectivity. <br>=> Copy text from `TIA` ports to top level.\n",
    "*  `VCC3` text does not overlap pin shape.<br>=> move text.\n",
    "* `VCC1` an `VCC3` connections are reversed.![40GHz_klayout_lvs.png](TO_Apr2025/40_GHZ_LOW_NOISE_TIA/images/40GHz_klayout_lvs.png?raw=1)\n",
    "* Top level met7 text on pads is not recognized in magic extraction. For magic, change tech file or switch to PADID. However, PADID is not used in klayout.\n",
    "* Reported 1 CVC error:\n",
    "```\n",
    "    ! Short detected: 1257 to 0 Estimated current: 2.42mA\n",
    "    /RX$ R rppd l=6u w=3u (r=520)\n",
    "```"
   ]
  },
  {
   "cell_type": "markdown",
   "metadata": {
    "id": "fXKxBlBR87MZ"
   },
   "source": [
    "# 3. 6502-cpu\n"
   ]
  },
  {
   "cell_type": "markdown",
   "metadata": {
    "id": "x69XsgM387Ma"
   },
   "source": [
    "Set the project, top cell and gds file names."
   ]
  },
  {
   "cell_type": "code",
   "execution_count": null,
   "metadata": {
    "id": "DI4aE8IQ87Ma"
   },
   "outputs": [],
   "source": [
    "%%shell\n",
    "source /content/env\n",
    "cat > $UPRJ_ROOT/project_env <<'EOF'\n",
    "export PROJECT=6502-cpu\n",
    "export LAYOUT_TOP=cpu_top\n",
    "export GDSFILE=design_data/gds/FMD_QNC_18_6502-cpu.2.gds\n",
    "export WORK_ROOT=$UPRJ_ROOT/$PROJECT/work/$LAYOUT_TOP\n",
    "export SPICE_FILE=$WORK_ROOT/$LAYOUT_TOP.spice\n",
    "export KLAYOUT_CDL=$WORK_ROOT/$LAYOUT_TOP.cdl\n",
    "EOF\n",
    "cat $UPRJ_ROOT/project_env\n",
    "source $UPRJ_ROOT/project_env\n",
    "rm -f /content/data/work\n",
    "rm -rf $WORK_ROOT\n",
    "mkdir -p $WORK_ROOT\n",
    "ln -s $WORK_ROOT /content/data/work\n",
    "ls -l /content/data/work"
   ]
  },
  {
   "cell_type": "markdown",
   "metadata": {
    "id": "RUPUsalX87Mb"
   },
   "source": [
    "Create the modified magic source netlist."
   ]
  },
  {
   "cell_type": "code",
   "execution_count": null,
   "metadata": {
    "id": "I038KFNS87Mb"
   },
   "outputs": [],
   "source": [
    "%%shell\n",
    "cat /content/env\n",
    "source /content/env\n",
    "cat > $SPICE_FILE <<EOF\n",
    ".SUBCKT $LAYOUT_TOP\n",
    "* no source\n",
    ".ENDS\n",
    "EOF"
   ]
  },
  {
   "cell_type": "markdown",
   "metadata": {
    "id": "Uns57HRy87Mb"
   },
   "source": [
    "Create lvs_config.json and update the LVS_SPICE_FILES and LVS_VERILOG_FILES for every design.\n",
    "\n",
    "Update the other parameters as needed."
   ]
  },
  {
   "cell_type": "code",
   "execution_count": null,
   "metadata": {
    "id": "VoHEgWx_87Mb"
   },
   "outputs": [],
   "source": [
    "%%shell\n",
    "cat /content/env\n",
    "source /content/env\n",
    "cat > $WORK_ROOT/lvs_config.json <<EOF\n",
    "{\n",
    "  \"#STD_CELL_LIBRARY\": \"sky130_fd_sc_hd\",\n",
    "  \"#INCLUDE_CONFIGS\": [\n",
    "    \"$LVS_ROOT/tech/$PDK/lvs_config.base.json\"\n",
    "  ],\n",
    "  \"TOP_SOURCE\": \"$LAYOUT_TOP\",\n",
    "  \"TOP_LAYOUT\": \"$LAYOUT_TOP\",\n",
    "  \"EXTRACT_FLATGLOB\": [\n",
    "    \"sg13g2_Corner\",\n",
    "    \"sg13g2_Filler*\",\n",
    "    \"sg13g2_IOPad*\",\n",
    "    \"sg13g2_Clamp*\",\n",
    "    \"sg13g2_RCClamp*\",\n",
    "    \"sg13g2_DCNDiode\",\n",
    "    \"sg13g2_DCPDiode\",\n",
    "    \"sg13g2_GateDecode\",\n",
    "    \"sg13g2_LevelDown\",\n",
    "    \"sg13g2_SecondaryProtection\",\n",
    "    \"sg13g2_LevelUp\",\n",
    "    \"sg13g2_io_*\",\n",
    "    \"sg13g2_*LevelUpInv\",\n",
    "    \"TEXT*\",\n",
    "    \"VIA*\"\n",
    "  ],\n",
    "  \"EXTRACT_ABSTRACT\": [ \"\" ],\n",
    "  \"LVS_FLATTEN\": [ \"\" ],\n",
    "  \"LVS_NOFLATTEN\": [ \"\" ],\n",
    "  \"LVS_IGNORE\": [ \"\" ],\n",
    "  \"LVS_SPICE_FILES\": [\n",
    "    \"$SPICE_FILE\"\n",
    "  ],\n",
    "  \"#LVS_VERILOG_FILES\": [\n",
    "    \"$UPRJ_ROOT/verilog/gl/user_proj_example.v\",\n",
    "    \"$UPRJ_ROOT/verilog/gl/user_project_wrapper.v\"\n",
    "  ],\n",
    "  \"LAYOUT_FILE\": \"$UPRJ_ROOT/$PROJECT/$GDSFILE\"\n",
    "}\n",
    "EOF"
   ]
  },
  {
   "cell_type": "markdown",
   "metadata": {
    "id": "_qLIfpK687Mb"
   },
   "source": [
    "Write cvcrc file"
   ]
  },
  {
   "cell_type": "code",
   "execution_count": null,
   "metadata": {
    "id": "oJF6u71q87Mb"
   },
   "outputs": [],
   "source": [
    "%%shell\n",
    "cat /content/env\n",
    "source /content/env\n",
    "cat > $WORK_ROOT/cvcrc <<EOF\n",
    "CVC_TOP = $LAYOUT_TOP\n",
    "CVC_NETLIST = $WORK_ROOT/ext/$LAYOUT_TOP.cdl.gz\n",
    "CVC_MODEL_FILE = $LVS_ROOT/tech/ihp-sg13g2/cvc.models\n",
    "CVC_POWER_FILE = $WORK_ROOT/cvc.power.$LAYOUT_TOP\n",
    "CVC_REPORT_FILE = $WORK_ROOT/cvc.log\n",
    "EOF\n",
    "\n",
    "cat > $WORK_ROOT/cvc.power.$LAYOUT_TOP <<EOF\n",
    "*vss* power 0.0\n",
    "iovdd* power 3.3\n",
    "vdd power 1.5\n",
    "clk input min@0.0 max@3.3\n",
    "reset_n input min@0.0 max@3.3\n",
    "EOF"
   ]
  },
  {
   "cell_type": "markdown",
   "metadata": {
    "id": "rheL8Qdc87Mb"
   },
   "source": [
    "Create the klayout CDL file from the magic source netlist."
   ]
  },
  {
   "cell_type": "code",
   "execution_count": null,
   "metadata": {
    "id": "Tf7b2B0I87Mb"
   },
   "outputs": [],
   "source": [
    "%%shell\n",
    "source /content/env\n",
    "sed -e '/^X[CDMQR]/s/.//' $SPICE_FILE > $KLAYOUT_CDL\n"
   ]
  },
  {
   "cell_type": "markdown",
   "metadata": {
    "id": "lm-owtjs87Mc"
   },
   "source": [
    "Results for 6502-cpu (incomplete)\n",
    "*   Missing top level power and ground.<br>=> Add top level pins for `iovss`, `iovdd`, `vdd`, and `vss`.\n",
    "* Missing source netlist.\n",
    "* `substrate` layer in `io` cells is not extracted as expected in magic."
   ]
  },
  {
   "cell_type": "markdown",
   "metadata": {
    "id": "nYJSjJHT0BSF"
   },
   "source": [
    "# 4. 97_GHZ_LINEAR_TIA\n",
    "\n",
    "Checks will not work with GDS file in repo.\n",
    "1. Copy text from `TIA` ports to top level layout\n",
    "2. Modify position of `GND` text outside TopMetal2.pin rects (5 points)\n",
    "3. Remove `VB1`, `VB2` m2.pin/text (4 points) in STAGE_1, STAGE_4, BIAS_1, BIAS_2 cells\n",
    "4. Save as `FMD_QNC_01_97_GHZ_LINEAR_TIA.mod.gds` and upload to `/content/data/97_GHZ_LINEAR_TIA/design_data/gds`."
   ]
  },
  {
   "cell_type": "markdown",
   "metadata": {
    "id": "R984HCe10BSF"
   },
   "source": [
    "Set the project, top cell and gds file names."
   ]
  },
  {
   "cell_type": "code",
   "execution_count": null,
   "metadata": {
    "id": "7m06zFN70BSF"
   },
   "outputs": [],
   "source": [
    "%%shell\n",
    "source /content/env\n",
    "cat > $DATA_ROOT/project_env <<'EOF'\n",
    "export PROJECT=97_GHZ_LINEAR_TIA\n",
    "export LAYOUT_TOP=FMD_QNC_01_LIN_TIA\n",
    "export GDSFILE=design_data/gds/FMD_QNC_01_97_GHZ_LINEAR_TIA.mod.gds\n",
    "export WORK_ROOT=$DATA_ROOT/$PROJECT/work/$PROJECT\n",
    "# export SPICE_FILE=$CHECK_ROOT/$MPW/$PROJECT/xschem/lvs/$PROJECT.spice\n",
    "export SPICE_FILE=$WORK_ROOT/$PROJECT.spice\n",
    "export KLAYOUT_CDL=$WORK_ROOT/$LAYOUT_TOP.cdl\n",
    "EOF\n",
    "cat $DATA_ROOT/project_env\n",
    "source $DATA_ROOT/project_env\n",
    "rm -f $DATA_ROOT/work\n",
    "rm -rf $WORK_ROOT\n",
    "mkdir -p $WORK_ROOT\n",
    "ln -s $WORK_ROOT $DATA_ROOT/work\n",
    "ls -l $DATA_ROOT/work"
   ]
  },
  {
   "cell_type": "markdown",
   "metadata": {
    "id": "Xu-Mnstj0BSG"
   },
   "source": [
    "Create lvs_config.json and update the LVS_SPICE_FILES and LVS_VERILOG_FILES for every design.\n",
    "\n",
    "Update the other parameters as needed."
   ]
  },
  {
   "cell_type": "code",
   "execution_count": null,
   "metadata": {
    "id": "VgDaEvJe0BSG"
   },
   "outputs": [],
   "source": [
    "%%shell\n",
    "cat /content/env\n",
    "source /content/env\n",
    "cat > $WORK_ROOT/lvs_config.json <<EOF\n",
    "{\n",
    "  \"#STD_CELL_LIBRARY\": \"sky130_fd_sc_hd\",\n",
    "  \"#INCLUDE_CONFIGS\": [\n",
    "    \"$LVS_ROOT/tech/$PDK/lvs_config.base.json\"\n",
    "  ],\n",
    "  \"TOP_SOURCE\": \"$PROJECT\",\n",
    "  \"TOP_LAYOUT\": \"$LAYOUT_TOP\",\n",
    "  \"EXTRACT_FLATGLOB\": [\n",
    "    \"cmim*\",\n",
    "    \"npn13G2*\",\n",
    "    \"rhigh*\",\n",
    "    \"rppd*\",\n",
    "    \"rsil*\",\n",
    "    \"sealring\",\n",
    "    \"BIAS*\",\n",
    "    \"DC_PAD_*\",\n",
    "    \"FEEDBACK\",\n",
    "    \"GND\",\n",
    "    \"INPUT_*\",\n",
    "    \"NSL\",\n",
    "    \"OUTPUT_*\",\n",
    "    \"STAGE*\",\n",
    "    \"TIA\",\n",
    "    \"VIA*\"\n",
    "  ],\n",
    "  \"EXTRACT_ABSTRACT\": [ \"\" ],\n",
    "  \"LVS_FLATTEN\": [ \"\" ],\n",
    "  \"LVS_NOFLATTEN\": [ \"\" ],\n",
    "  \"LVS_IGNORE\": [ \"\" ],\n",
    "  \"LVS_SPICE_FILES\": [\n",
    "    \"$SPICE_FILE\"\n",
    "  ],\n",
    "  \"#LVS_VERILOG_FILES\": [\n",
    "    \"$UPRJ_ROOT/verilog/gl/user_proj_example.v\",\n",
    "    \"$UPRJ_ROOT/verilog/gl/user_project_wrapper.v\"\n",
    "  ],\n",
    "  \"LAYOUT_FILE\": \"$DATA_ROOT/$PROJECT/$GDSFILE\"\n",
    "}\n",
    "EOF"
   ]
  },
  {
   "cell_type": "markdown",
   "metadata": {
    "id": "t26iHVrT0BSG"
   },
   "source": [
    "Write cvcrc file"
   ]
  },
  {
   "cell_type": "code",
   "execution_count": null,
   "metadata": {
    "id": "kuLJkVJo0BSG"
   },
   "outputs": [],
   "source": [
    "%%shell\n",
    "cat /content/env\n",
    "source /content/env\n",
    "cat > $WORK_ROOT/cvcrc <<EOF\n",
    "CVC_TOP = $LAYOUT_TOP\n",
    "CVC_NETLIST = $WORK_ROOT/ext/$LAYOUT_TOP.cdl.gz\n",
    "CVC_MODEL_FILE = $LVS_ROOT/tech/ihp-sg13g2/cvc.models\n",
    "CVC_POWER_FILE = $WORK_ROOT/cvc.power.$LAYOUT_TOP\n",
    "CVC_REPORT_FILE = $WORK_ROOT/cvc.log\n",
    "EOF\n",
    "\n",
    "cat > $WORK_ROOT/cvc.power.$PROJECT <<EOF\n",
    "GND power 0.0\n",
    "VCC* power 3.3\n",
    "RFIN min@0.0 max@3.3\n",
    "EOF\n"
   ]
  },
  {
   "cell_type": "markdown",
   "metadata": {
    "id": "ETmSHr1P0BSG"
   },
   "source": [
    "Create the klayout CDL file from the magic source netlist."
   ]
  },
  {
   "cell_type": "code",
   "execution_count": null,
   "metadata": {
    "id": "I6IcHDj70BSG"
   },
   "outputs": [],
   "source": [
    "%%shell\n",
    "source /content/env\n",
    "sed -e '/^X[QMRCD]/s/.//' \\\n",
    "    -e \"s/\\.subckt $PROJECT/.subckt $LAYOUT_TOP/I\" $SPICE_FILE > $KLAYOUT_CDL"
   ]
  },
  {
   "cell_type": "markdown",
   "metadata": {
    "id": "JwOpcHVn0BSG"
   },
   "source": [
    "Results for 97_GHZ_LINEAR_TIA\n",
    "1. pcells with names matching primitive devices should be flattened in magic extraction.\n",
    "2. Reported 1 CVC error which can be ignored\n",
    "    ! Checking forward bias diode errors:\n",
    "    /QX5 Q npn13g2 we=70n le=0.9u M=10 (r=1)\n",
    "    B: RFIN"
   ]
  },
  {
   "cell_type": "markdown",
   "metadata": {
    "id": "fUBXvK431U_J"
   },
   "source": [
    "# 5. active_L_VCOs\n",
    "\n",
    "Not ready - do not run.\n"
   ]
  },
  {
   "cell_type": "markdown",
   "metadata": {
    "id": "PP3Zbt9q1U_K"
   },
   "source": [
    "Set the project, top cell and gds file names."
   ]
  },
  {
   "cell_type": "code",
   "execution_count": null,
   "metadata": {
    "id": "fRNGaChO1U_K"
   },
   "outputs": [],
   "source": [
    "%%shell\n",
    "source /content/env\n",
    "cat > $UPRJ_ROOT/project_env <<'EOF'\n",
    "export PROJECT=active_L_VCOs\n",
    "export LAYOUT_TOP=\n",
    "export GDSFILE=design_data/gds/\n",
    "export WORK_ROOT=$UPRJ_ROOT/$PROJECT/work/$LAYOUT_TOP\n",
    "export SPICE_FILE=$WORK_ROOT/$LAYOUT_TOP.spice\n",
    "export KLAYOUT_CDL=$WORK_ROOT/$LAYOUT_TOP.cdl\n",
    "EOF\n",
    "cat $UPRJ_ROOT/project_env\n",
    "source $UPRJ_ROOT/project_env\n",
    "rm -f /content/data/work\n",
    "rm -rf $WORK_ROOT\n",
    "mkdir -p $WORK_ROOT\n",
    "ln -s $WORK_ROOT /content/data/work\n",
    "ls -l /content/data/work"
   ]
  },
  {
   "cell_type": "markdown",
   "metadata": {
    "id": "JFkIfplG1U_K"
   },
   "source": [
    "Create the modified magic source netlist."
   ]
  },
  {
   "cell_type": "code",
   "execution_count": null,
   "metadata": {
    "id": "TMXCTSCk1U_K"
   },
   "outputs": [],
   "source": [
    "%%shell\n",
    "cat /content/env\n",
    "source /content/env\n",
    "cat > $SPICE_FILE <<EOF\n",
    ".SUBCKT $LAYOUT_TOP\n",
    "* no source\n",
    ".ENDS\n",
    "EOF"
   ]
  },
  {
   "cell_type": "markdown",
   "metadata": {
    "id": "JGrCLBsu1U_K"
   },
   "source": [
    "Create lvs_config.json and update the LVS_SPICE_FILES and LVS_VERILOG_FILES for every design.\n",
    "\n",
    "Update the other parameters as needed."
   ]
  },
  {
   "cell_type": "code",
   "execution_count": null,
   "metadata": {
    "id": "OVliWaKv1U_K"
   },
   "outputs": [],
   "source": [
    "%%shell\n",
    "cat /content/env\n",
    "source /content/env\n",
    "cat > $WORK_ROOT/lvs_config.json <<EOF\n",
    "{\n",
    "  \"#STD_CELL_LIBRARY\": \"sky130_fd_sc_hd\",\n",
    "  \"#INCLUDE_CONFIGS\": [\n",
    "    \"$LVS_ROOT/tech/$PDK/lvs_config.base.json\"\n",
    "  ],\n",
    "  \"TOP_SOURCE\": \"$LAYOUT_TOP\",\n",
    "  \"TOP_LAYOUT\": \"$LAYOUT_TOP\",\n",
    "  \"EXTRACT_FLATGLOB\": [\n",
    "    \"sg13g2_Corner\",\n",
    "    \"sg13g2_Filler*\",\n",
    "    \"sg13g2_IOPad*\",\n",
    "    \"sg13g2_Clamp*\",\n",
    "    \"sg13g2_RCClamp*\",\n",
    "    \"sg13g2_DCNDiode\",\n",
    "    \"sg13g2_DCPDiode\",\n",
    "    \"sg13g2_GateDecode\",\n",
    "    \"sg13g2_LevelDown\",\n",
    "    \"sg13g2_SecondaryProtection\",\n",
    "    \"sg13g2_LevelUp\",\n",
    "    \"sg13g2_io_*\",\n",
    "    \"sg13g2_*LevelUpInv\",\n",
    "    \"TEXT*\",\n",
    "    \"VIA*\"\n",
    "  ],\n",
    "  \"EXTRACT_ABSTRACT\": [ \"\" ],\n",
    "  \"LVS_FLATTEN\": [ \"\" ],\n",
    "  \"LVS_NOFLATTEN\": [ \"\" ],\n",
    "  \"LVS_IGNORE\": [ \"\" ],\n",
    "  \"LVS_SPICE_FILES\": [\n",
    "    \"$SPICE_FILE\"\n",
    "  ],\n",
    "  \"#LVS_VERILOG_FILES\": [\n",
    "    \"$UPRJ_ROOT/verilog/gl/user_proj_example.v\",\n",
    "    \"$UPRJ_ROOT/verilog/gl/user_project_wrapper.v\"\n",
    "  ],\n",
    "  \"LAYOUT_FILE\": \"$UPRJ_ROOT/$PROJECT/$GDSFILE\"\n",
    "}\n",
    "EOF"
   ]
  },
  {
   "cell_type": "markdown",
   "metadata": {
    "id": "eKKPMBws1U_K"
   },
   "source": [
    "Write cvcrc file"
   ]
  },
  {
   "cell_type": "code",
   "execution_count": null,
   "metadata": {
    "id": "SP4xDu1R1U_K"
   },
   "outputs": [],
   "source": [
    "%%shell\n",
    "cat /content/env\n",
    "source /content/env\n",
    "cat > $WORK_ROOT/cvcrc <<EOF\n",
    "CVC_TOP = $LAYOUT_TOP\n",
    "CVC_NETLIST = $WORK_ROOT/ext/$LAYOUT_TOP.cdl.gz\n",
    "CVC_MODEL_FILE = $LVS_ROOT/tech/ihp-sg13g2/cvc.models\n",
    "CVC_POWER_FILE = $WORK_ROOT/cvc.power.$LAYOUT_TOP\n",
    "CVC_REPORT_FILE = $WORK_ROOT/cvc.log\n",
    "EOF\n",
    "\n",
    "cat > $WORK_ROOT/cvc.power.$LAYOUT_TOP <<EOF\n",
    "*vss* power 0.0\n",
    "iovdd* power 3.3\n",
    "vdd power 1.5\n",
    "clk input min@0.0 max@3.3\n",
    "reset_n input min@0.0 max@3.3\n",
    "EOF"
   ]
  },
  {
   "cell_type": "markdown",
   "metadata": {
    "id": "CidOnjpU1U_K"
   },
   "source": [
    "Create the klayout CDL file from the magic source netlist."
   ]
  },
  {
   "cell_type": "code",
   "execution_count": null,
   "metadata": {
    "id": "yMI8CNs-1U_K"
   },
   "outputs": [],
   "source": [
    "%%shell\n",
    "source /content/env\n",
    "sed -e '/^X[CDMQR]/s/.//' $SPICE_FILE > $KLAYOUT_CDL\n"
   ]
  },
  {
   "cell_type": "markdown",
   "metadata": {
    "id": "6dvSiycs1U_K"
   },
   "source": [
    "Results for active_L_VCOs\n"
   ]
  },
  {
   "cell_type": "markdown",
   "metadata": {
    "id": "ZY9SvGsJ1xvf"
   },
   "source": [
    "# 6. ascon\n",
    "\n",
    "Not ready - do not run.\n"
   ]
  },
  {
   "cell_type": "markdown",
   "metadata": {
    "id": "iIcqtlD41xvf"
   },
   "source": [
    "Set the project, top cell and gds file names."
   ]
  },
  {
   "cell_type": "code",
   "execution_count": null,
   "metadata": {
    "id": "-yp4gIPd1xvf"
   },
   "outputs": [],
   "source": [
    "%%shell\n",
    "source /content/env\n",
    "cat > $UPRJ_ROOT/project_env <<'EOF'\n",
    "export PROJECT=ascon\n",
    "export LAYOUT_TOP=\n",
    "export GDSFILE=design_data/gds/\n",
    "export WORK_ROOT=$UPRJ_ROOT/$PROJECT/work/$LAYOUT_TOP\n",
    "export SPICE_FILE=$WORK_ROOT/$LAYOUT_TOP.spice\n",
    "export KLAYOUT_CDL=$WORK_ROOT/$LAYOUT_TOP.cdl\n",
    "EOF\n",
    "cat $UPRJ_ROOT/project_env\n",
    "source $UPRJ_ROOT/project_env\n",
    "rm -f /content/data/work\n",
    "rm -rf $WORK_ROOT\n",
    "mkdir -p $WORK_ROOT\n",
    "ln -s $WORK_ROOT /content/data/work\n",
    "ls -l /content/data/work"
   ]
  },
  {
   "cell_type": "markdown",
   "metadata": {
    "id": "OjaAPaA11xvg"
   },
   "source": [
    "Create the modified magic source netlist."
   ]
  },
  {
   "cell_type": "code",
   "execution_count": null,
   "metadata": {
    "id": "UCI-677K1xvg"
   },
   "outputs": [],
   "source": [
    "%%shell\n",
    "cat /content/env\n",
    "source /content/env\n",
    "cat > $SPICE_FILE <<EOF\n",
    ".SUBCKT $LAYOUT_TOP\n",
    "* no source\n",
    ".ENDS\n",
    "EOF"
   ]
  },
  {
   "cell_type": "markdown",
   "metadata": {
    "id": "4I2P50Xs1xvg"
   },
   "source": [
    "Create lvs_config.json and update the LVS_SPICE_FILES and LVS_VERILOG_FILES for every design.\n",
    "\n",
    "Update the other parameters as needed."
   ]
  },
  {
   "cell_type": "code",
   "execution_count": null,
   "metadata": {
    "id": "gum3vlZ-1xvg"
   },
   "outputs": [],
   "source": [
    "%%shell\n",
    "cat /content/env\n",
    "source /content/env\n",
    "cat > $WORK_ROOT/lvs_config.json <<EOF\n",
    "{\n",
    "  \"#STD_CELL_LIBRARY\": \"sky130_fd_sc_hd\",\n",
    "  \"#INCLUDE_CONFIGS\": [\n",
    "    \"$LVS_ROOT/tech/$PDK/lvs_config.base.json\"\n",
    "  ],\n",
    "  \"TOP_SOURCE\": \"$LAYOUT_TOP\",\n",
    "  \"TOP_LAYOUT\": \"$LAYOUT_TOP\",\n",
    "  \"EXTRACT_FLATGLOB\": [\n",
    "    \"sg13g2_Corner\",\n",
    "    \"sg13g2_Filler*\",\n",
    "    \"sg13g2_IOPad*\",\n",
    "    \"sg13g2_Clamp*\",\n",
    "    \"sg13g2_RCClamp*\",\n",
    "    \"sg13g2_DCNDiode\",\n",
    "    \"sg13g2_DCPDiode\",\n",
    "    \"sg13g2_GateDecode\",\n",
    "    \"sg13g2_LevelDown\",\n",
    "    \"sg13g2_SecondaryProtection\",\n",
    "    \"sg13g2_LevelUp\",\n",
    "    \"sg13g2_io_*\",\n",
    "    \"sg13g2_*LevelUpInv\",\n",
    "    \"TEXT*\",\n",
    "    \"VIA*\"\n",
    "  ],\n",
    "  \"EXTRACT_ABSTRACT\": [ \"\" ],\n",
    "  \"LVS_FLATTEN\": [ \"\" ],\n",
    "  \"LVS_NOFLATTEN\": [ \"\" ],\n",
    "  \"LVS_IGNORE\": [ \"\" ],\n",
    "  \"LVS_SPICE_FILES\": [\n",
    "    \"$SPICE_FILE\"\n",
    "  ],\n",
    "  \"#LVS_VERILOG_FILES\": [\n",
    "    \"$UPRJ_ROOT/verilog/gl/user_proj_example.v\",\n",
    "    \"$UPRJ_ROOT/verilog/gl/user_project_wrapper.v\"\n",
    "  ],\n",
    "  \"LAYOUT_FILE\": \"$UPRJ_ROOT/$PROJECT/$GDSFILE\"\n",
    "}\n",
    "EOF"
   ]
  },
  {
   "cell_type": "markdown",
   "metadata": {
    "id": "xHJW4Rd11xvg"
   },
   "source": [
    "Write cvcrc file"
   ]
  },
  {
   "cell_type": "code",
   "execution_count": null,
   "metadata": {
    "id": "Cu5Ztqb21xvg"
   },
   "outputs": [],
   "source": [
    "%%shell\n",
    "cat /content/env\n",
    "source /content/env\n",
    "cat > $WORK_ROOT/cvcrc <<EOF\n",
    "CVC_TOP = $LAYOUT_TOP\n",
    "CVC_NETLIST = $WORK_ROOT/ext/$LAYOUT_TOP.cdl.gz\n",
    "CVC_MODEL_FILE = $LVS_ROOT/tech/ihp-sg13g2/cvc.models\n",
    "CVC_POWER_FILE = $WORK_ROOT/cvc.power.$LAYOUT_TOP\n",
    "CVC_REPORT_FILE = $WORK_ROOT/cvc.log\n",
    "EOF\n",
    "\n",
    "cat > $WORK_ROOT/cvc.power.$LAYOUT_TOP <<EOF\n",
    "*vss* power 0.0\n",
    "iovdd* power 3.3\n",
    "vdd power 1.5\n",
    "clk input min@0.0 max@3.3\n",
    "reset_n input min@0.0 max@3.3\n",
    "EOF"
   ]
  },
  {
   "cell_type": "markdown",
   "metadata": {
    "id": "zkqiE1ol1xvg"
   },
   "source": [
    "Create the klayout CDL file from the magic source netlist."
   ]
  },
  {
   "cell_type": "code",
   "execution_count": null,
   "metadata": {
    "id": "gX5oB08w1xvg"
   },
   "outputs": [],
   "source": [
    "%%shell\n",
    "source /content/env\n",
    "sed -e '/^X[CDMQR]/s/.//' $SPICE_FILE > $KLAYOUT_CDL\n"
   ]
  },
  {
   "cell_type": "markdown",
   "metadata": {
    "id": "LpjUWyZ-1xvg"
   },
   "source": [
    "Results for ascon\n"
   ]
  },
  {
   "cell_type": "markdown",
   "metadata": {
    "id": "34M9z14wqiAZ"
   },
   "source": [
    "# 7. bandgap_ref_cmos\n"
   ]
  },
  {
   "cell_type": "markdown",
   "metadata": {
    "id": "1OpxVcGbry5e"
   },
   "source": [
    "Set the project, top cell and gds file names."
   ]
  },
  {
   "cell_type": "code",
   "execution_count": null,
   "metadata": {
    "id": "4tto2vQbPMYF"
   },
   "outputs": [],
   "source": [
    "%%shell\n",
    "source /content/env\n",
    "cat > $UPRJ_ROOT/project_env <<'EOF'\n",
    "export PROJECT=bandgap_ref_cmos\n",
    "export LAYOUT_TOP=full_bandgap\n",
    "export GDSFILE=design_data/gds/FMD_QNC_15_WeakInvBGR.gds\n",
    "export WORK_ROOT=$UPRJ_ROOT/$PROJECT/work/$LAYOUT_TOP\n",
    "export SPICE_FILE=$WORK_ROOT/$LAYOUT_TOP.spice\n",
    "export KLAYOUT_CDL=$WORK_ROOT/$LAYOUT_TOP.cdl\n",
    "EOF\n",
    "cat $UPRJ_ROOT/project_env\n",
    "source $UPRJ_ROOT/project_env\n",
    "rm -f /content/data/work\n",
    "rm -rf $WORK_ROOT\n",
    "mkdir -p $WORK_ROOT\n",
    "ln -s $WORK_ROOT /content/data/work\n",
    "ls -l /content/data/work"
   ]
  },
  {
   "cell_type": "markdown",
   "metadata": {
    "id": "uyMpUnP_w-iv"
   },
   "source": [
    "Create the modified magic source netlist."
   ]
  },
  {
   "cell_type": "code",
   "execution_count": null,
   "metadata": {
    "id": "TXW2bg3y3Ubu"
   },
   "outputs": [],
   "source": [
    "%%shell\n",
    "cat /content/env\n",
    "source /content/env\n",
    "cat > $SPICE_FILE <<EOF\n",
    "** sch_path: /Users/home/IHP/TO_Apr2025/bandgap_ref_cmos/design_data/xschem/part_2_full_bgr/bandgap_reference.sch\n",
    ".subckt full_bandgap vdd VBG vss iout\n",
    "*.PININFO vplus:B v-:B Vo1:B VBG:O\n",
    "XM8 net1 v- vss vss sg13_lv_nmos l=10u w=150n ng=1 m=1\n",
    "XM6 net1 net1 vdd vdd sg13_lv_pmos l=1u w=1u ng=1 m=1\n",
    "XM7 net2 net1 vdd vdd sg13_lv_pmos l=1u w=1u ng=1 m=1\n",
    "XM9 v- net2 vdd vdd sg13_lv_pmos l=4u w=200n ng=1 m=1\n",
    "XM1 v- vplus vss vss sg13_lv_nmos l=5u w=7.14u ng=4 m=1\n",
    "XM2 net3 net3 vss vss sg13_lv_nmos l=5u w=21u ng=8 m=1\n",
    "XM3 v- Vo1 vdd vdd sg13_lv_pmos l=5u w=15u ng=8 m=1\n",
    "XM4 vplus Vo1 vdd vdd sg13_lv_pmos l=5u w=15u ng=8 m=1\n",
    "XM5 VBG Vo1 vdd vdd sg13_lv_pmos l=5u w=16u ng=8 m=1\n",
    "*XC3 VBG vss cap_cmim w=72.965e-6 l=72.965e-6 m=1\n",
    "XC3 vdd vss cap_cmim w=5e-6 l=5e-6 m=15\n",
    "XR3 net3 vplus rppd w=0.5e-6 l=194.345e-6 m=1 b=0\n",
    "*XR1 vss vplus rppd w=0.6e-6 l=194.345e-6 m=1 b=0\n",
    "XR1_1 vss mid rppd w=03.0e-6 l=38.645e-6 m=1 b=0\n",
    "XR1_2 mid vplus rppd w=0.5e-6 l=154.58e-6 m=1 b=0\n",
    "*XR2 vss VBG rppd w=0.5e-6 l=192.395e-6 m=1 b=0\n",
    "XR2 vss VBG rppd w=0.71e-6 l=270.515e-6 m=1 b=0\n",
    "XC1 net2 vss cap_cmim w=18.195e-6 l=18.195e-6 m=1\n",
    "x1 vdd iout vplus v- Vo1 vss two_stage_OTA\n",
    ".ends\n",
    "\n",
    "* expanding   symbol:  part_1_OTA/two_stage_OTA.sym # of pins=6\n",
    "** sym_path: /Users/home/IHP/TO_Apr2025/bandgap_ref_cmos/design_data/xschem/part_1_OTA/two_stage_OTA.sym\n",
    "** sch_path: /Users/home/IHP/TO_Apr2025/bandgap_ref_cmos/design_data/xschem/part_1_OTA/two_stage_OTA.sch\n",
    ".subckt two_stage_OTA vdd iout vplus v- vout vss\n",
    "*.PININFO v-:B vplus:B vss:B vdd:B iout:B vout:B\n",
    "XM4 net3 net1 vss vss sg13_lv_nmos l=9.75u w=720n ng=1 m=1\n",
    "XM3 net1 net1 vss vss sg13_lv_nmos l=9.75u w=720n ng=1 m=1\n",
    "XM1 net1 v- net2 vdd sg13_lv_pmos l=3.7u w=3.64u ng=1 m=2\n",
    "XM_dummy net1 vdd vdd vdd sg13_lv_pmos l=3.7u w=3.64u ng=1 m=2\n",
    "XM2 net3 vplus net2 vdd sg13_lv_pmos l=3.7u w=3.64u ng=1 m=2\n",
    "XM_dummy2 vdd vdd net2 vdd sg13_lv_pmos l=3.7u w=3.64u ng=1 m=4\n",
    "XM_dummy3 net3 vdd vdd vdd sg13_lv_pmos l=3.7u w=3.64u ng=1 m=2\n",
    "XM5 net2 iout vdd vdd sg13_lv_pmos l=1.95u w=5.3u ng=1 m=1\n",
    "XM7 vout iout vdd vdd sg13_lv_pmos l=2.08u w=75u ng=8 m=1\n",
    "XM6 vout net3 vss vss sg13_lv_nmos l=9.75u w=28.8u ng=4 m=1\n",
    "XM9 iout iout vdd vdd sg13_lv_pmos l=2.08u w=75u ng=8 m=1\n",
    "XC2 net3 vout cap_cmim w=22.295e-6 l=22.295e-6 m=1\n",
    ".ends\n",
    "EOF"
   ]
  },
  {
   "cell_type": "markdown",
   "metadata": {
    "id": "C-RkpMNj55IG"
   },
   "source": [
    "Create lvs_config.json and update the LVS_SPICE_FILES and LVS_VERILOG_FILES for every design.\n",
    "\n",
    "Update the other parameters as needed."
   ]
  },
  {
   "cell_type": "code",
   "execution_count": null,
   "metadata": {
    "id": "-YDsClVCLAju"
   },
   "outputs": [],
   "source": [
    "%%shell\n",
    "cat /content/env\n",
    "source /content/env\n",
    "cat > $WORK_ROOT/lvs_config.json <<EOF\n",
    "{\n",
    "  \"#STD_CELL_LIBRARY\": \"sky130_fd_sc_hd\",\n",
    "  \"#INCLUDE_CONFIGS\": [\n",
    "    \"$LVS_ROOT/tech/$PDK/lvs_config.base.json\"\n",
    "  ],\n",
    "  \"TOP_SOURCE\": \"$LAYOUT_TOP\",\n",
    "  \"TOP_LAYOUT\": \"$LAYOUT_TOP\",\n",
    "  \"EXTRACT_FLATGLOB\": [ \"\" ],\n",
    "  \"EXTRACT_ABSTRACT\": [ \"\" ],\n",
    "  \"LVS_FLATTEN\": [ \"\" ],\n",
    "  \"LVS_NOFLATTEN\": [ \"\" ],\n",
    "  \"LVS_IGNORE\": [ \"\" ],\n",
    "  \"LVS_SPICE_FILES\": [\n",
    "    \"$SPICE_FILE\"\n",
    "  ],\n",
    "  \"#LVS_VERILOG_FILES\": [\n",
    "    \"$UPRJ_ROOT/verilog/gl/user_proj_example.v\",\n",
    "    \"$UPRJ_ROOT/verilog/gl/user_project_wrapper.v\"\n",
    "  ],\n",
    "  \"LAYOUT_FILE\": \"$UPRJ_ROOT/$PROJECT/$GDSFILE\"\n",
    "}"
   ]
  },
  {
   "cell_type": "markdown",
   "metadata": {
    "id": "aTHW_6RkVWsu"
   },
   "source": [
    "Write cvcrc file"
   ]
  },
  {
   "cell_type": "code",
   "execution_count": null,
   "metadata": {
    "id": "yo8tcKW_S_qq"
   },
   "outputs": [],
   "source": [
    "%%shell\n",
    "cat /content/env\n",
    "source /content/env\n",
    "cat > $WORK_ROOT/cvcrc <<EOF\n",
    "CVC_TOP = $LAYOUT_TOP\n",
    "CVC_NETLIST = $WORK_ROOT/ext/$LAYOUT_TOP.cdl.gz\n",
    "CVC_MODEL_FILE = $LVS_ROOT/tech/ihp-sg13g2/cvc.models\n",
    "CVC_POWER_FILE = $WORK_ROOT/cvc.power.$LAYOUT_TOP\n",
    "CVC_REPORT_FILE = $WORK_ROOT/cvc.log\n",
    "EOF\n",
    "\n",
    "cat > $WORK_ROOT/cvc.power.$LAYOUT_TOP <<EOF\n",
    "vss power 0.0\n",
    "vdd power 1.5\n",
    "EOF"
   ]
  },
  {
   "cell_type": "markdown",
   "metadata": {
    "id": "C3XdfvZNxxj_"
   },
   "source": [
    "Create the klayout CDL file from the magic source netlist."
   ]
  },
  {
   "cell_type": "code",
   "execution_count": null,
   "metadata": {
    "id": "5_9YQmdZx37P"
   },
   "outputs": [],
   "source": [
    "%%shell\n",
    "source /content/env\n",
    "sed -e '/^X[MRC]/s/.//' $SPICE_FILE > $KLAYOUT_CDL\n"
   ]
  },
  {
   "cell_type": "markdown",
   "metadata": {
    "id": "zfwoFmjlT5jO"
   },
   "source": [
    "Results for bandgap_ref_cmos\n",
    "*   Pad text is on metal7 layer. This is not recognized on pads in magic. Either move the text to a region outside the pad, change the text layer to the PADID layer (41/0), or modify the magic extraction rules to recognize metal7 text on pads.\n",
    "*   Klayout extraction rules generate n/ptap devices for layout taps annotated with \"well\"/\"sub!\" text. The schematic does not include these devices. Either add the devices to the schematic or remove the \"well\" and \"sub!\" text from the layout.\n",
    "*   Ports do not match. Layout ports are vss, vdd, VBG, and iout. Netlist ports are GND, vdd, v+, v-, Vo1, and VBG. iout in the schematic is currently shorted to ground through an ammeter. Suggest removing v+, v-, Vo1 ports in schematic while adding iout port. Suggest changing GND from a global net to a port named vss in the schematic to match the layout.\n",
    "* Layout has 3 dummy pmos (gate and source connected to vdd) not found in the schematic. Suggest adding them to the schematic. Suggest adding the following to `two_stage_OTA`\n",
    "```\n",
    "XM_dummy net1 vdd vdd vdd sg13_lv_pmos l=3.7u w=3.64u ng=1 m=2\n",
    "XM_dummy2 vdd vdd net2 vdd sg13_lv_pmos l=3.7u w=3.64u ng=1 m=4\n",
    "XM_dummy3 net3 vdd vdd vdd sg13_lv_pmos l=3.7u w=3.64u ng=1 m=2\n",
    "```\n",
    "* cap_cmim connected between VBG and vss in the schematic is connected between vdd and vss in the layout. The schematic size is 72.965 x 72.965 but the layout size is 5x5 m=15.\n",
    "* R2 schematic size is 0.5/192.395 but layout is 0.71/38.645x7\n",
    "* R1 schematic size is 0.6/194.345 but layout consists of resistors of different widths. 3.0/38.645 and 0.5/38.645x4. Currently netgen and klayout only reduce resistors with the same widths."
   ]
  },
  {
   "cell_type": "markdown",
   "metadata": {
    "id": "PNk6LgHN2N_l"
   },
   "source": [
    "# 8. DC_to_130_GHz_TIA\n",
    "\n",
    "Not ready - do not run.\n"
   ]
  },
  {
   "cell_type": "markdown",
   "metadata": {
    "id": "PNuNee2H2N_l"
   },
   "source": [
    "Set the project, top cell and gds file names."
   ]
  },
  {
   "cell_type": "code",
   "execution_count": null,
   "metadata": {
    "id": "CBpMuaSF2N_l"
   },
   "outputs": [],
   "source": [
    "%%shell\n",
    "source /content/env\n",
    "cat > $UPRJ_ROOT/project_env <<'EOF'\n",
    "export PROJECT=ascon\n",
    "export LAYOUT_TOP=\n",
    "export GDSFILE=design_data/gds/\n",
    "export WORK_ROOT=$UPRJ_ROOT/$PROJECT/work/$LAYOUT_TOP\n",
    "export SPICE_FILE=$WORK_ROOT/$LAYOUT_TOP.spice\n",
    "export KLAYOUT_CDL=$WORK_ROOT/$LAYOUT_TOP.cdl\n",
    "EOF\n",
    "cat $UPRJ_ROOT/project_env\n",
    "source $UPRJ_ROOT/project_env\n",
    "rm -f /content/data/work\n",
    "rm -rf $WORK_ROOT\n",
    "mkdir -p $WORK_ROOT\n",
    "ln -s $WORK_ROOT /content/data/work\n",
    "ls -l /content/data/work"
   ]
  },
  {
   "cell_type": "markdown",
   "metadata": {
    "id": "Epd8TVBM2N_m"
   },
   "source": [
    "Create the modified magic source netlist."
   ]
  },
  {
   "cell_type": "code",
   "execution_count": null,
   "metadata": {
    "id": "Xg7tZnBt2N_m"
   },
   "outputs": [],
   "source": [
    "%%shell\n",
    "cat /content/env\n",
    "source /content/env\n",
    "cat > $SPICE_FILE <<EOF\n",
    ".SUBCKT $LAYOUT_TOP\n",
    "* no source\n",
    ".ENDS\n",
    "EOF"
   ]
  },
  {
   "cell_type": "markdown",
   "metadata": {
    "id": "MZNSNoIv2N_m"
   },
   "source": [
    "Create lvs_config.json and update the LVS_SPICE_FILES and LVS_VERILOG_FILES for every design.\n",
    "\n",
    "Update the other parameters as needed."
   ]
  },
  {
   "cell_type": "code",
   "execution_count": null,
   "metadata": {
    "id": "x_LuDoWV2N_m"
   },
   "outputs": [],
   "source": [
    "%%shell\n",
    "cat /content/env\n",
    "source /content/env\n",
    "cat > $WORK_ROOT/lvs_config.json <<EOF\n",
    "{\n",
    "  \"#STD_CELL_LIBRARY\": \"sky130_fd_sc_hd\",\n",
    "  \"#INCLUDE_CONFIGS\": [\n",
    "    \"$LVS_ROOT/tech/$PDK/lvs_config.base.json\"\n",
    "  ],\n",
    "  \"TOP_SOURCE\": \"$LAYOUT_TOP\",\n",
    "  \"TOP_LAYOUT\": \"$LAYOUT_TOP\",\n",
    "  \"EXTRACT_FLATGLOB\": [\n",
    "    \"sg13g2_Corner\",\n",
    "    \"sg13g2_Filler*\",\n",
    "    \"sg13g2_IOPad*\",\n",
    "    \"sg13g2_Clamp*\",\n",
    "    \"sg13g2_RCClamp*\",\n",
    "    \"sg13g2_DCNDiode\",\n",
    "    \"sg13g2_DCPDiode\",\n",
    "    \"sg13g2_GateDecode\",\n",
    "    \"sg13g2_LevelDown\",\n",
    "    \"sg13g2_SecondaryProtection\",\n",
    "    \"sg13g2_LevelUp\",\n",
    "    \"sg13g2_io_*\",\n",
    "    \"sg13g2_*LevelUpInv\",\n",
    "    \"TEXT*\",\n",
    "    \"VIA*\"\n",
    "  ],\n",
    "  \"EXTRACT_ABSTRACT\": [ \"\" ],\n",
    "  \"LVS_FLATTEN\": [ \"\" ],\n",
    "  \"LVS_NOFLATTEN\": [ \"\" ],\n",
    "  \"LVS_IGNORE\": [ \"\" ],\n",
    "  \"LVS_SPICE_FILES\": [\n",
    "    \"$SPICE_FILE\"\n",
    "  ],\n",
    "  \"#LVS_VERILOG_FILES\": [\n",
    "    \"$UPRJ_ROOT/verilog/gl/user_proj_example.v\",\n",
    "    \"$UPRJ_ROOT/verilog/gl/user_project_wrapper.v\"\n",
    "  ],\n",
    "  \"LAYOUT_FILE\": \"$UPRJ_ROOT/$PROJECT/$GDSFILE\"\n",
    "}\n",
    "EOF"
   ]
  },
  {
   "cell_type": "markdown",
   "metadata": {
    "id": "t_GORE_h2N_m"
   },
   "source": [
    "Write cvcrc file"
   ]
  },
  {
   "cell_type": "code",
   "execution_count": null,
   "metadata": {
    "id": "Vz_tUz3N2N_m"
   },
   "outputs": [],
   "source": [
    "%%shell\n",
    "cat /content/env\n",
    "source /content/env\n",
    "cat > $WORK_ROOT/cvcrc <<EOF\n",
    "CVC_TOP = $LAYOUT_TOP\n",
    "CVC_NETLIST = $WORK_ROOT/ext/$LAYOUT_TOP.cdl.gz\n",
    "CVC_MODEL_FILE = $LVS_ROOT/tech/ihp-sg13g2/cvc.models\n",
    "CVC_POWER_FILE = $WORK_ROOT/cvc.power.$LAYOUT_TOP\n",
    "CVC_REPORT_FILE = $WORK_ROOT/cvc.log\n",
    "EOF\n",
    "\n",
    "cat > $WORK_ROOT/cvc.power.$LAYOUT_TOP <<EOF\n",
    "*vss* power 0.0\n",
    "iovdd* power 3.3\n",
    "vdd power 1.5\n",
    "clk input min@0.0 max@3.3\n",
    "reset_n input min@0.0 max@3.3\n",
    "EOF"
   ]
  },
  {
   "cell_type": "markdown",
   "metadata": {
    "id": "kvkxQqE72N_m"
   },
   "source": [
    "Create the klayout CDL file from the magic source netlist."
   ]
  },
  {
   "cell_type": "code",
   "execution_count": null,
   "metadata": {
    "id": "KDf0No4r2N_m"
   },
   "outputs": [],
   "source": [
    "%%shell\n",
    "source /content/env\n",
    "sed -e '/^X[CDMQR]/s/.//' $SPICE_FILE > $KLAYOUT_CDL\n"
   ]
  },
  {
   "cell_type": "markdown",
   "metadata": {
    "id": "aQppEwhf2N_m"
   },
   "source": [
    "Results for DC_to_130_GHz_TIA\n"
   ]
  },
  {
   "cell_type": "markdown",
   "metadata": {
    "id": "OqROgIBC2QCa"
   },
   "source": [
    "# 9. elemrv-n\n",
    "\n",
    "Not ready - do not run.\n"
   ]
  },
  {
   "cell_type": "markdown",
   "metadata": {
    "id": "BAC7CFXw2QCa"
   },
   "source": [
    "Set the project, top cell and gds file names."
   ]
  },
  {
   "cell_type": "code",
   "execution_count": null,
   "metadata": {
    "id": "HrR_iWMZ2QCa"
   },
   "outputs": [],
   "source": [
    "%%shell\n",
    "source /content/env\n",
    "cat > $UPRJ_ROOT/project_env <<'EOF'\n",
    "export PROJECT=ascon\n",
    "export LAYOUT_TOP=\n",
    "export GDSFILE=design_data/gds/\n",
    "export WORK_ROOT=$UPRJ_ROOT/$PROJECT/work/$LAYOUT_TOP\n",
    "export SPICE_FILE=$WORK_ROOT/$LAYOUT_TOP.spice\n",
    "export KLAYOUT_CDL=$WORK_ROOT/$LAYOUT_TOP.cdl\n",
    "EOF\n",
    "cat $UPRJ_ROOT/project_env\n",
    "source $UPRJ_ROOT/project_env\n",
    "rm -f /content/data/work\n",
    "rm -rf $WORK_ROOT\n",
    "mkdir -p $WORK_ROOT\n",
    "ln -s $WORK_ROOT /content/data/work\n",
    "ls -l /content/data/work"
   ]
  },
  {
   "cell_type": "markdown",
   "metadata": {
    "id": "xgc-6S-R2QCa"
   },
   "source": [
    "Create the modified magic source netlist."
   ]
  },
  {
   "cell_type": "code",
   "execution_count": null,
   "metadata": {
    "id": "AyXS3EGn2QCa"
   },
   "outputs": [],
   "source": [
    "%%shell\n",
    "cat /content/env\n",
    "source /content/env\n",
    "cat > $SPICE_FILE <<EOF\n",
    ".SUBCKT $LAYOUT_TOP\n",
    "* no source\n",
    ".ENDS\n",
    "EOF"
   ]
  },
  {
   "cell_type": "markdown",
   "metadata": {
    "id": "xJIlB_uP2QCb"
   },
   "source": [
    "Create lvs_config.json and update the LVS_SPICE_FILES and LVS_VERILOG_FILES for every design.\n",
    "\n",
    "Update the other parameters as needed."
   ]
  },
  {
   "cell_type": "code",
   "execution_count": null,
   "metadata": {
    "id": "ptKmQKDf2QCb"
   },
   "outputs": [],
   "source": [
    "%%shell\n",
    "cat /content/env\n",
    "source /content/env\n",
    "cat > $WORK_ROOT/lvs_config.json <<EOF\n",
    "{\n",
    "  \"#STD_CELL_LIBRARY\": \"sky130_fd_sc_hd\",\n",
    "  \"#INCLUDE_CONFIGS\": [\n",
    "    \"$LVS_ROOT/tech/$PDK/lvs_config.base.json\"\n",
    "  ],\n",
    "  \"TOP_SOURCE\": \"$LAYOUT_TOP\",\n",
    "  \"TOP_LAYOUT\": \"$LAYOUT_TOP\",\n",
    "  \"EXTRACT_FLATGLOB\": [\n",
    "    \"sg13g2_Corner\",\n",
    "    \"sg13g2_Filler*\",\n",
    "    \"sg13g2_IOPad*\",\n",
    "    \"sg13g2_Clamp*\",\n",
    "    \"sg13g2_RCClamp*\",\n",
    "    \"sg13g2_DCNDiode\",\n",
    "    \"sg13g2_DCPDiode\",\n",
    "    \"sg13g2_GateDecode\",\n",
    "    \"sg13g2_LevelDown\",\n",
    "    \"sg13g2_SecondaryProtection\",\n",
    "    \"sg13g2_LevelUp\",\n",
    "    \"sg13g2_io_*\",\n",
    "    \"sg13g2_*LevelUpInv\",\n",
    "    \"TEXT*\",\n",
    "    \"VIA*\"\n",
    "  ],\n",
    "  \"EXTRACT_ABSTRACT\": [ \"\" ],\n",
    "  \"LVS_FLATTEN\": [ \"\" ],\n",
    "  \"LVS_NOFLATTEN\": [ \"\" ],\n",
    "  \"LVS_IGNORE\": [ \"\" ],\n",
    "  \"LVS_SPICE_FILES\": [\n",
    "    \"$SPICE_FILE\"\n",
    "  ],\n",
    "  \"#LVS_VERILOG_FILES\": [\n",
    "    \"$UPRJ_ROOT/verilog/gl/user_proj_example.v\",\n",
    "    \"$UPRJ_ROOT/verilog/gl/user_project_wrapper.v\"\n",
    "  ],\n",
    "  \"LAYOUT_FILE\": \"$UPRJ_ROOT/$PROJECT/$GDSFILE\"\n",
    "}\n",
    "EOF"
   ]
  },
  {
   "cell_type": "markdown",
   "metadata": {
    "id": "PqLP_xMX2QCb"
   },
   "source": [
    "Write cvcrc file"
   ]
  },
  {
   "cell_type": "code",
   "execution_count": null,
   "metadata": {
    "id": "cPfMabN-2QCb"
   },
   "outputs": [],
   "source": [
    "%%shell\n",
    "cat /content/env\n",
    "source /content/env\n",
    "cat > $WORK_ROOT/cvcrc <<EOF\n",
    "CVC_TOP = $LAYOUT_TOP\n",
    "CVC_NETLIST = $WORK_ROOT/ext/$LAYOUT_TOP.cdl.gz\n",
    "CVC_MODEL_FILE = $LVS_ROOT/tech/ihp-sg13g2/cvc.models\n",
    "CVC_POWER_FILE = $WORK_ROOT/cvc.power.$LAYOUT_TOP\n",
    "CVC_REPORT_FILE = $WORK_ROOT/cvc.log\n",
    "EOF\n",
    "\n",
    "cat > $WORK_ROOT/cvc.power.$LAYOUT_TOP <<EOF\n",
    "*vss* power 0.0\n",
    "iovdd* power 3.3\n",
    "vdd power 1.5\n",
    "clk input min@0.0 max@3.3\n",
    "reset_n input min@0.0 max@3.3\n",
    "EOF"
   ]
  },
  {
   "cell_type": "markdown",
   "metadata": {
    "id": "GixLm25z2QCb"
   },
   "source": [
    "Create the klayout CDL file from the magic source netlist."
   ]
  },
  {
   "cell_type": "code",
   "execution_count": null,
   "metadata": {
    "id": "Xntn_qOO2QCb"
   },
   "outputs": [],
   "source": [
    "%%shell\n",
    "source /content/env\n",
    "sed -e '/^X[CDMQR]/s/.//' $SPICE_FILE > $KLAYOUT_CDL\n"
   ]
  },
  {
   "cell_type": "markdown",
   "metadata": {
    "id": "9qY10ksC2QCb"
   },
   "source": [
    "Results for elemrv-n\n"
   ]
  },
  {
   "cell_type": "markdown",
   "metadata": {
    "id": "pG8zvoU22RWY"
   },
   "source": [
    "# 10. GPS_LNA\n",
    "\n",
    "Not ready - do not run.\n"
   ]
  },
  {
   "cell_type": "markdown",
   "metadata": {
    "id": "ORNlGCjz2RWY"
   },
   "source": [
    "Set the project, top cell and gds file names."
   ]
  },
  {
   "cell_type": "code",
   "execution_count": null,
   "metadata": {
    "id": "Ftmxl8Lj2RWY"
   },
   "outputs": [],
   "source": [
    "%%shell\n",
    "source /content/env\n",
    "cat > $UPRJ_ROOT/project_env <<'EOF'\n",
    "export PROJECT=ascon\n",
    "export LAYOUT_TOP=\n",
    "export GDSFILE=design_data/gds/\n",
    "export WORK_ROOT=$UPRJ_ROOT/$PROJECT/work/$LAYOUT_TOP\n",
    "export SPICE_FILE=$WORK_ROOT/$LAYOUT_TOP.spice\n",
    "export KLAYOUT_CDL=$WORK_ROOT/$LAYOUT_TOP.cdl\n",
    "EOF\n",
    "cat $UPRJ_ROOT/project_env\n",
    "source $UPRJ_ROOT/project_env\n",
    "rm -f /content/data/work\n",
    "rm -rf $WORK_ROOT\n",
    "mkdir -p $WORK_ROOT\n",
    "ln -s $WORK_ROOT /content/data/work\n",
    "ls -l /content/data/work"
   ]
  },
  {
   "cell_type": "markdown",
   "metadata": {
    "id": "oNriQeIH2RWY"
   },
   "source": [
    "Create the modified magic source netlist."
   ]
  },
  {
   "cell_type": "code",
   "execution_count": null,
   "metadata": {
    "id": "sD4OXTLf2RWY"
   },
   "outputs": [],
   "source": [
    "%%shell\n",
    "cat /content/env\n",
    "source /content/env\n",
    "cat > $SPICE_FILE <<EOF\n",
    ".SUBCKT $LAYOUT_TOP\n",
    "* no source\n",
    ".ENDS\n",
    "EOF"
   ]
  },
  {
   "cell_type": "markdown",
   "metadata": {
    "id": "xVcPdZjU2RWY"
   },
   "source": [
    "Create lvs_config.json and update the LVS_SPICE_FILES and LVS_VERILOG_FILES for every design.\n",
    "\n",
    "Update the other parameters as needed."
   ]
  },
  {
   "cell_type": "code",
   "execution_count": null,
   "metadata": {
    "id": "4RmOczZz2RWY"
   },
   "outputs": [],
   "source": [
    "%%shell\n",
    "cat /content/env\n",
    "source /content/env\n",
    "cat > $WORK_ROOT/lvs_config.json <<EOF\n",
    "{\n",
    "  \"#STD_CELL_LIBRARY\": \"sky130_fd_sc_hd\",\n",
    "  \"#INCLUDE_CONFIGS\": [\n",
    "    \"$LVS_ROOT/tech/$PDK/lvs_config.base.json\"\n",
    "  ],\n",
    "  \"TOP_SOURCE\": \"$LAYOUT_TOP\",\n",
    "  \"TOP_LAYOUT\": \"$LAYOUT_TOP\",\n",
    "  \"EXTRACT_FLATGLOB\": [\n",
    "    \"sg13g2_Corner\",\n",
    "    \"sg13g2_Filler*\",\n",
    "    \"sg13g2_IOPad*\",\n",
    "    \"sg13g2_Clamp*\",\n",
    "    \"sg13g2_RCClamp*\",\n",
    "    \"sg13g2_DCNDiode\",\n",
    "    \"sg13g2_DCPDiode\",\n",
    "    \"sg13g2_GateDecode\",\n",
    "    \"sg13g2_LevelDown\",\n",
    "    \"sg13g2_SecondaryProtection\",\n",
    "    \"sg13g2_LevelUp\",\n",
    "    \"sg13g2_io_*\",\n",
    "    \"sg13g2_*LevelUpInv\",\n",
    "    \"TEXT*\",\n",
    "    \"VIA*\"\n",
    "  ],\n",
    "  \"EXTRACT_ABSTRACT\": [ \"\" ],\n",
    "  \"LVS_FLATTEN\": [ \"\" ],\n",
    "  \"LVS_NOFLATTEN\": [ \"\" ],\n",
    "  \"LVS_IGNORE\": [ \"\" ],\n",
    "  \"LVS_SPICE_FILES\": [\n",
    "    \"$SPICE_FILE\"\n",
    "  ],\n",
    "  \"#LVS_VERILOG_FILES\": [\n",
    "    \"$UPRJ_ROOT/verilog/gl/user_proj_example.v\",\n",
    "    \"$UPRJ_ROOT/verilog/gl/user_project_wrapper.v\"\n",
    "  ],\n",
    "  \"LAYOUT_FILE\": \"$UPRJ_ROOT/$PROJECT/$GDSFILE\"\n",
    "}\n",
    "EOF"
   ]
  },
  {
   "cell_type": "markdown",
   "metadata": {
    "id": "wa7VgEAK2RWY"
   },
   "source": [
    "Write cvcrc file"
   ]
  },
  {
   "cell_type": "code",
   "execution_count": null,
   "metadata": {
    "id": "VyCkqa9S2RWY"
   },
   "outputs": [],
   "source": [
    "%%shell\n",
    "cat /content/env\n",
    "source /content/env\n",
    "cat > $WORK_ROOT/cvcrc <<EOF\n",
    "CVC_TOP = $LAYOUT_TOP\n",
    "CVC_NETLIST = $WORK_ROOT/ext/$LAYOUT_TOP.cdl.gz\n",
    "CVC_MODEL_FILE = $LVS_ROOT/tech/ihp-sg13g2/cvc.models\n",
    "CVC_POWER_FILE = $WORK_ROOT/cvc.power.$LAYOUT_TOP\n",
    "CVC_REPORT_FILE = $WORK_ROOT/cvc.log\n",
    "EOF\n",
    "\n",
    "cat > $WORK_ROOT/cvc.power.$LAYOUT_TOP <<EOF\n",
    "*vss* power 0.0\n",
    "iovdd* power 3.3\n",
    "vdd power 1.5\n",
    "clk input min@0.0 max@3.3\n",
    "reset_n input min@0.0 max@3.3\n",
    "EOF"
   ]
  },
  {
   "cell_type": "markdown",
   "metadata": {
    "id": "HnIWKjOI2RWY"
   },
   "source": [
    "Create the klayout CDL file from the magic source netlist."
   ]
  },
  {
   "cell_type": "code",
   "execution_count": null,
   "metadata": {
    "id": "G3VVEFo92RWY"
   },
   "outputs": [],
   "source": [
    "%%shell\n",
    "source /content/env\n",
    "sed -e '/^X[CDMQR]/s/.//' $SPICE_FILE > $KLAYOUT_CDL\n"
   ]
  },
  {
   "cell_type": "markdown",
   "metadata": {
    "id": "A4ut2ig-2RWY"
   },
   "source": [
    "Results for GPS_LNA\n"
   ]
  },
  {
   "cell_type": "markdown",
   "metadata": {
    "id": "-Y38jNo42TCd"
   },
   "source": [
    "# 11. Greyhound\n",
    "\n",
    "Not ready - do not run.\n"
   ]
  },
  {
   "cell_type": "markdown",
   "metadata": {
    "id": "nV68MzuA2TCd"
   },
   "source": [
    "Set the project, top cell and gds file names."
   ]
  },
  {
   "cell_type": "code",
   "execution_count": null,
   "metadata": {
    "id": "0lxnGtKq2TCd"
   },
   "outputs": [],
   "source": [
    "%%shell\n",
    "source /content/env\n",
    "cat > $UPRJ_ROOT/project_env <<'EOF'\n",
    "export PROJECT=ascon\n",
    "export LAYOUT_TOP=\n",
    "export GDSFILE=design_data/gds/\n",
    "export WORK_ROOT=$UPRJ_ROOT/$PROJECT/work/$LAYOUT_TOP\n",
    "export SPICE_FILE=$WORK_ROOT/$LAYOUT_TOP.spice\n",
    "export KLAYOUT_CDL=$WORK_ROOT/$LAYOUT_TOP.cdl\n",
    "EOF\n",
    "cat $UPRJ_ROOT/project_env\n",
    "source $UPRJ_ROOT/project_env\n",
    "rm -f /content/data/work\n",
    "rm -rf $WORK_ROOT\n",
    "mkdir -p $WORK_ROOT\n",
    "ln -s $WORK_ROOT /content/data/work\n",
    "ls -l /content/data/work"
   ]
  },
  {
   "cell_type": "markdown",
   "metadata": {
    "id": "oDuJoEOT2TCd"
   },
   "source": [
    "Create the modified magic source netlist."
   ]
  },
  {
   "cell_type": "code",
   "execution_count": null,
   "metadata": {
    "id": "_yo_Ntii2TCd"
   },
   "outputs": [],
   "source": [
    "%%shell\n",
    "cat /content/env\n",
    "source /content/env\n",
    "cat > $SPICE_FILE <<EOF\n",
    ".SUBCKT $LAYOUT_TOP\n",
    "* no source\n",
    ".ENDS\n",
    "EOF"
   ]
  },
  {
   "cell_type": "markdown",
   "metadata": {
    "id": "q0Mrzfvv2TCd"
   },
   "source": [
    "Create lvs_config.json and update the LVS_SPICE_FILES and LVS_VERILOG_FILES for every design.\n",
    "\n",
    "Update the other parameters as needed."
   ]
  },
  {
   "cell_type": "code",
   "execution_count": null,
   "metadata": {
    "id": "XsfYt3pV2TCd"
   },
   "outputs": [],
   "source": [
    "%%shell\n",
    "cat /content/env\n",
    "source /content/env\n",
    "cat > $WORK_ROOT/lvs_config.json <<EOF\n",
    "{\n",
    "  \"#STD_CELL_LIBRARY\": \"sky130_fd_sc_hd\",\n",
    "  \"#INCLUDE_CONFIGS\": [\n",
    "    \"$LVS_ROOT/tech/$PDK/lvs_config.base.json\"\n",
    "  ],\n",
    "  \"TOP_SOURCE\": \"$LAYOUT_TOP\",\n",
    "  \"TOP_LAYOUT\": \"$LAYOUT_TOP\",\n",
    "  \"EXTRACT_FLATGLOB\": [\n",
    "    \"sg13g2_Corner\",\n",
    "    \"sg13g2_Filler*\",\n",
    "    \"sg13g2_IOPad*\",\n",
    "    \"sg13g2_Clamp*\",\n",
    "    \"sg13g2_RCClamp*\",\n",
    "    \"sg13g2_DCNDiode\",\n",
    "    \"sg13g2_DCPDiode\",\n",
    "    \"sg13g2_GateDecode\",\n",
    "    \"sg13g2_LevelDown\",\n",
    "    \"sg13g2_SecondaryProtection\",\n",
    "    \"sg13g2_LevelUp\",\n",
    "    \"sg13g2_io_*\",\n",
    "    \"sg13g2_*LevelUpInv\",\n",
    "    \"TEXT*\",\n",
    "    \"VIA*\"\n",
    "  ],\n",
    "  \"EXTRACT_ABSTRACT\": [ \"\" ],\n",
    "  \"LVS_FLATTEN\": [ \"\" ],\n",
    "  \"LVS_NOFLATTEN\": [ \"\" ],\n",
    "  \"LVS_IGNORE\": [ \"\" ],\n",
    "  \"LVS_SPICE_FILES\": [\n",
    "    \"$SPICE_FILE\"\n",
    "  ],\n",
    "  \"#LVS_VERILOG_FILES\": [\n",
    "    \"$UPRJ_ROOT/verilog/gl/user_proj_example.v\",\n",
    "    \"$UPRJ_ROOT/verilog/gl/user_project_wrapper.v\"\n",
    "  ],\n",
    "  \"LAYOUT_FILE\": \"$UPRJ_ROOT/$PROJECT/$GDSFILE\"\n",
    "}\n",
    "EOF"
   ]
  },
  {
   "cell_type": "markdown",
   "metadata": {
    "id": "A3Z0ldUY2TCd"
   },
   "source": [
    "Write cvcrc file"
   ]
  },
  {
   "cell_type": "code",
   "execution_count": null,
   "metadata": {
    "id": "BoqrJQEU2TCd"
   },
   "outputs": [],
   "source": [
    "%%shell\n",
    "cat /content/env\n",
    "source /content/env\n",
    "cat > $WORK_ROOT/cvcrc <<EOF\n",
    "CVC_TOP = $LAYOUT_TOP\n",
    "CVC_NETLIST = $WORK_ROOT/ext/$LAYOUT_TOP.cdl.gz\n",
    "CVC_MODEL_FILE = $LVS_ROOT/tech/ihp-sg13g2/cvc.models\n",
    "CVC_POWER_FILE = $WORK_ROOT/cvc.power.$LAYOUT_TOP\n",
    "CVC_REPORT_FILE = $WORK_ROOT/cvc.log\n",
    "EOF\n",
    "\n",
    "cat > $WORK_ROOT/cvc.power.$LAYOUT_TOP <<EOF\n",
    "*vss* power 0.0\n",
    "iovdd* power 3.3\n",
    "vdd power 1.5\n",
    "clk input min@0.0 max@3.3\n",
    "reset_n input min@0.0 max@3.3\n",
    "EOF"
   ]
  },
  {
   "cell_type": "markdown",
   "metadata": {
    "id": "h1azZwub2TCd"
   },
   "source": [
    "Create the klayout CDL file from the magic source netlist."
   ]
  },
  {
   "cell_type": "code",
   "execution_count": null,
   "metadata": {
    "id": "d8TzS_O72TCd"
   },
   "outputs": [],
   "source": [
    "%%shell\n",
    "source /content/env\n",
    "sed -e '/^X[CDMQR]/s/.//' $SPICE_FILE > $KLAYOUT_CDL\n"
   ]
  },
  {
   "cell_type": "markdown",
   "metadata": {
    "id": "QXHoA6PQ2TCd"
   },
   "source": [
    "Results for Greyhound\n"
   ]
  },
  {
   "cell_type": "markdown",
   "metadata": {
    "id": "8BxWCzMk2VBv"
   },
   "source": [
    "# 12. i2c-gpio-expander\n",
    "\n",
    "Not ready - do not run.\n"
   ]
  },
  {
   "cell_type": "markdown",
   "metadata": {
    "id": "Fnd-lomF2VBv"
   },
   "source": [
    "Set the project, top cell and gds file names."
   ]
  },
  {
   "cell_type": "code",
   "execution_count": null,
   "metadata": {
    "id": "tKCXEZk52VBv"
   },
   "outputs": [],
   "source": [
    "%%shell\n",
    "source /content/env\n",
    "cat > $UPRJ_ROOT/project_env <<'EOF'\n",
    "export PROJECT=ascon\n",
    "export LAYOUT_TOP=\n",
    "export GDSFILE=design_data/gds/\n",
    "export WORK_ROOT=$UPRJ_ROOT/$PROJECT/work/$LAYOUT_TOP\n",
    "export SPICE_FILE=$WORK_ROOT/$LAYOUT_TOP.spice\n",
    "export KLAYOUT_CDL=$WORK_ROOT/$LAYOUT_TOP.cdl\n",
    "EOF\n",
    "cat $UPRJ_ROOT/project_env\n",
    "source $UPRJ_ROOT/project_env\n",
    "rm -f /content/data/work\n",
    "rm -rf $WORK_ROOT\n",
    "mkdir -p $WORK_ROOT\n",
    "ln -s $WORK_ROOT /content/data/work\n",
    "ls -l /content/data/work"
   ]
  },
  {
   "cell_type": "markdown",
   "metadata": {
    "id": "Qtagi8hX2VBv"
   },
   "source": [
    "Create the modified magic source netlist."
   ]
  },
  {
   "cell_type": "code",
   "execution_count": null,
   "metadata": {
    "id": "lXCU_2Hc2VBv"
   },
   "outputs": [],
   "source": [
    "%%shell\n",
    "cat /content/env\n",
    "source /content/env\n",
    "cat > $SPICE_FILE <<EOF\n",
    ".SUBCKT $LAYOUT_TOP\n",
    "* no source\n",
    ".ENDS\n",
    "EOF"
   ]
  },
  {
   "cell_type": "markdown",
   "metadata": {
    "id": "hgI3TYZE2VBv"
   },
   "source": [
    "Create lvs_config.json and update the LVS_SPICE_FILES and LVS_VERILOG_FILES for every design.\n",
    "\n",
    "Update the other parameters as needed."
   ]
  },
  {
   "cell_type": "code",
   "execution_count": null,
   "metadata": {
    "id": "DNH_U3DP2VBv"
   },
   "outputs": [],
   "source": [
    "%%shell\n",
    "cat /content/env\n",
    "source /content/env\n",
    "cat > $WORK_ROOT/lvs_config.json <<EOF\n",
    "{\n",
    "  \"#STD_CELL_LIBRARY\": \"sky130_fd_sc_hd\",\n",
    "  \"#INCLUDE_CONFIGS\": [\n",
    "    \"$LVS_ROOT/tech/$PDK/lvs_config.base.json\"\n",
    "  ],\n",
    "  \"TOP_SOURCE\": \"$LAYOUT_TOP\",\n",
    "  \"TOP_LAYOUT\": \"$LAYOUT_TOP\",\n",
    "  \"EXTRACT_FLATGLOB\": [\n",
    "    \"sg13g2_Corner\",\n",
    "    \"sg13g2_Filler*\",\n",
    "    \"sg13g2_IOPad*\",\n",
    "    \"sg13g2_Clamp*\",\n",
    "    \"sg13g2_RCClamp*\",\n",
    "    \"sg13g2_DCNDiode\",\n",
    "    \"sg13g2_DCPDiode\",\n",
    "    \"sg13g2_GateDecode\",\n",
    "    \"sg13g2_LevelDown\",\n",
    "    \"sg13g2_SecondaryProtection\",\n",
    "    \"sg13g2_LevelUp\",\n",
    "    \"sg13g2_io_*\",\n",
    "    \"sg13g2_*LevelUpInv\",\n",
    "    \"TEXT*\",\n",
    "    \"VIA*\"\n",
    "  ],\n",
    "  \"EXTRACT_ABSTRACT\": [ \"\" ],\n",
    "  \"LVS_FLATTEN\": [ \"\" ],\n",
    "  \"LVS_NOFLATTEN\": [ \"\" ],\n",
    "  \"LVS_IGNORE\": [ \"\" ],\n",
    "  \"LVS_SPICE_FILES\": [\n",
    "    \"$SPICE_FILE\"\n",
    "  ],\n",
    "  \"#LVS_VERILOG_FILES\": [\n",
    "    \"$UPRJ_ROOT/verilog/gl/user_proj_example.v\",\n",
    "    \"$UPRJ_ROOT/verilog/gl/user_project_wrapper.v\"\n",
    "  ],\n",
    "  \"LAYOUT_FILE\": \"$UPRJ_ROOT/$PROJECT/$GDSFILE\"\n",
    "}\n",
    "EOF"
   ]
  },
  {
   "cell_type": "markdown",
   "metadata": {
    "id": "6ZHmA1Ek2VBv"
   },
   "source": [
    "Write cvcrc file"
   ]
  },
  {
   "cell_type": "code",
   "execution_count": null,
   "metadata": {
    "id": "kk7fgh3J2VBv"
   },
   "outputs": [],
   "source": [
    "%%shell\n",
    "cat /content/env\n",
    "source /content/env\n",
    "cat > $WORK_ROOT/cvcrc <<EOF\n",
    "CVC_TOP = $LAYOUT_TOP\n",
    "CVC_NETLIST = $WORK_ROOT/ext/$LAYOUT_TOP.cdl.gz\n",
    "CVC_MODEL_FILE = $LVS_ROOT/tech/ihp-sg13g2/cvc.models\n",
    "CVC_POWER_FILE = $WORK_ROOT/cvc.power.$LAYOUT_TOP\n",
    "CVC_REPORT_FILE = $WORK_ROOT/cvc.log\n",
    "EOF\n",
    "\n",
    "cat > $WORK_ROOT/cvc.power.$LAYOUT_TOP <<EOF\n",
    "*vss* power 0.0\n",
    "iovdd* power 3.3\n",
    "vdd power 1.5\n",
    "clk input min@0.0 max@3.3\n",
    "reset_n input min@0.0 max@3.3\n",
    "EOF"
   ]
  },
  {
   "cell_type": "markdown",
   "metadata": {
    "id": "3eOunbg92VBv"
   },
   "source": [
    "Create the klayout CDL file from the magic source netlist."
   ]
  },
  {
   "cell_type": "code",
   "execution_count": null,
   "metadata": {
    "id": "f-61PFSp2VBw"
   },
   "outputs": [],
   "source": [
    "%%shell\n",
    "source /content/env\n",
    "sed -e '/^X[CDMQR]/s/.//' $SPICE_FILE > $KLAYOUT_CDL\n"
   ]
  },
  {
   "cell_type": "markdown",
   "metadata": {
    "id": "GrmVsmXa2VBw"
   },
   "source": [
    "Results for i2c-gpio-expander\n"
   ]
  },
  {
   "cell_type": "markdown",
   "metadata": {
    "id": "yzzGHrDX2Wij"
   },
   "source": [
    "# 13. Mixer5GHz\n",
    "\n",
    "Not ready - do not run.\n"
   ]
  },
  {
   "cell_type": "markdown",
   "metadata": {
    "id": "-LqCG__h2Wij"
   },
   "source": [
    "Set the project, top cell and gds file names."
   ]
  },
  {
   "cell_type": "code",
   "execution_count": null,
   "metadata": {
    "id": "2YIh-38O2Wij"
   },
   "outputs": [],
   "source": [
    "%%shell\n",
    "source /content/env\n",
    "cat > $UPRJ_ROOT/project_env <<'EOF'\n",
    "export PROJECT=ascon\n",
    "export LAYOUT_TOP=\n",
    "export GDSFILE=design_data/gds/\n",
    "export WORK_ROOT=$UPRJ_ROOT/$PROJECT/work/$LAYOUT_TOP\n",
    "export SPICE_FILE=$WORK_ROOT/$LAYOUT_TOP.spice\n",
    "export KLAYOUT_CDL=$WORK_ROOT/$LAYOUT_TOP.cdl\n",
    "EOF\n",
    "cat $UPRJ_ROOT/project_env\n",
    "source $UPRJ_ROOT/project_env\n",
    "rm -f /content/data/work\n",
    "rm -rf $WORK_ROOT\n",
    "mkdir -p $WORK_ROOT\n",
    "ln -s $WORK_ROOT /content/data/work\n",
    "ls -l /content/data/work"
   ]
  },
  {
   "cell_type": "markdown",
   "metadata": {
    "id": "7CgjwG0N2Wij"
   },
   "source": [
    "Create the modified magic source netlist."
   ]
  },
  {
   "cell_type": "code",
   "execution_count": null,
   "metadata": {
    "id": "l4q9ib2I2Wij"
   },
   "outputs": [],
   "source": [
    "%%shell\n",
    "cat /content/env\n",
    "source /content/env\n",
    "cat > $SPICE_FILE <<EOF\n",
    ".SUBCKT $LAYOUT_TOP\n",
    "* no source\n",
    ".ENDS\n",
    "EOF"
   ]
  },
  {
   "cell_type": "markdown",
   "metadata": {
    "id": "TGOwAx2Z2Wij"
   },
   "source": [
    "Create lvs_config.json and update the LVS_SPICE_FILES and LVS_VERILOG_FILES for every design.\n",
    "\n",
    "Update the other parameters as needed."
   ]
  },
  {
   "cell_type": "code",
   "execution_count": null,
   "metadata": {
    "id": "ahJsgwfK2Wij"
   },
   "outputs": [],
   "source": [
    "%%shell\n",
    "cat /content/env\n",
    "source /content/env\n",
    "cat > $WORK_ROOT/lvs_config.json <<EOF\n",
    "{\n",
    "  \"#STD_CELL_LIBRARY\": \"sky130_fd_sc_hd\",\n",
    "  \"#INCLUDE_CONFIGS\": [\n",
    "    \"$LVS_ROOT/tech/$PDK/lvs_config.base.json\"\n",
    "  ],\n",
    "  \"TOP_SOURCE\": \"$LAYOUT_TOP\",\n",
    "  \"TOP_LAYOUT\": \"$LAYOUT_TOP\",\n",
    "  \"EXTRACT_FLATGLOB\": [\n",
    "    \"sg13g2_Corner\",\n",
    "    \"sg13g2_Filler*\",\n",
    "    \"sg13g2_IOPad*\",\n",
    "    \"sg13g2_Clamp*\",\n",
    "    \"sg13g2_RCClamp*\",\n",
    "    \"sg13g2_DCNDiode\",\n",
    "    \"sg13g2_DCPDiode\",\n",
    "    \"sg13g2_GateDecode\",\n",
    "    \"sg13g2_LevelDown\",\n",
    "    \"sg13g2_SecondaryProtection\",\n",
    "    \"sg13g2_LevelUp\",\n",
    "    \"sg13g2_io_*\",\n",
    "    \"sg13g2_*LevelUpInv\",\n",
    "    \"TEXT*\",\n",
    "    \"VIA*\"\n",
    "  ],\n",
    "  \"EXTRACT_ABSTRACT\": [ \"\" ],\n",
    "  \"LVS_FLATTEN\": [ \"\" ],\n",
    "  \"LVS_NOFLATTEN\": [ \"\" ],\n",
    "  \"LVS_IGNORE\": [ \"\" ],\n",
    "  \"LVS_SPICE_FILES\": [\n",
    "    \"$SPICE_FILE\"\n",
    "  ],\n",
    "  \"#LVS_VERILOG_FILES\": [\n",
    "    \"$UPRJ_ROOT/verilog/gl/user_proj_example.v\",\n",
    "    \"$UPRJ_ROOT/verilog/gl/user_project_wrapper.v\"\n",
    "  ],\n",
    "  \"LAYOUT_FILE\": \"$UPRJ_ROOT/$PROJECT/$GDSFILE\"\n",
    "}\n",
    "EOF"
   ]
  },
  {
   "cell_type": "markdown",
   "metadata": {
    "id": "gyHxiOCn2Wik"
   },
   "source": [
    "Write cvcrc file"
   ]
  },
  {
   "cell_type": "code",
   "execution_count": null,
   "metadata": {
    "id": "ON5xpMAD2Wik"
   },
   "outputs": [],
   "source": [
    "%%shell\n",
    "cat /content/env\n",
    "source /content/env\n",
    "cat > $WORK_ROOT/cvcrc <<EOF\n",
    "CVC_TOP = $LAYOUT_TOP\n",
    "CVC_NETLIST = $WORK_ROOT/ext/$LAYOUT_TOP.cdl.gz\n",
    "CVC_MODEL_FILE = $LVS_ROOT/tech/ihp-sg13g2/cvc.models\n",
    "CVC_POWER_FILE = $WORK_ROOT/cvc.power.$LAYOUT_TOP\n",
    "CVC_REPORT_FILE = $WORK_ROOT/cvc.log\n",
    "EOF\n",
    "\n",
    "cat > $WORK_ROOT/cvc.power.$LAYOUT_TOP <<EOF\n",
    "*vss* power 0.0\n",
    "iovdd* power 3.3\n",
    "vdd power 1.5\n",
    "clk input min@0.0 max@3.3\n",
    "reset_n input min@0.0 max@3.3\n",
    "EOF"
   ]
  },
  {
   "cell_type": "markdown",
   "metadata": {
    "id": "NiBbsoch2Wik"
   },
   "source": [
    "Create the klayout CDL file from the magic source netlist."
   ]
  },
  {
   "cell_type": "code",
   "execution_count": null,
   "metadata": {
    "id": "v6mk0DGs2Wik"
   },
   "outputs": [],
   "source": [
    "%%shell\n",
    "source /content/env\n",
    "sed -e '/^X[CDMQR]/s/.//' $SPICE_FILE > $KLAYOUT_CDL\n"
   ]
  },
  {
   "cell_type": "markdown",
   "metadata": {
    "id": "q9wrGSBK2Wik"
   },
   "source": [
    "Results for Mixer5GHz\n"
   ]
  },
  {
   "cell_type": "markdown",
   "metadata": {
    "id": "0RFmj3OV2X9S"
   },
   "source": [
    "# 14. PA_180GHz\n",
    "\n",
    "Not ready - do not run.\n"
   ]
  },
  {
   "cell_type": "markdown",
   "metadata": {
    "id": "aBPrEcMV2X9T"
   },
   "source": [
    "Set the project, top cell and gds file names."
   ]
  },
  {
   "cell_type": "code",
   "execution_count": null,
   "metadata": {
    "id": "kW_Z-lWi2X9T"
   },
   "outputs": [],
   "source": [
    "%%shell\n",
    "source /content/env\n",
    "cat > $UPRJ_ROOT/project_env <<'EOF'\n",
    "export PROJECT=ascon\n",
    "export LAYOUT_TOP=\n",
    "export GDSFILE=design_data/gds/\n",
    "export WORK_ROOT=$UPRJ_ROOT/$PROJECT/work/$LAYOUT_TOP\n",
    "export SPICE_FILE=$WORK_ROOT/$LAYOUT_TOP.spice\n",
    "export KLAYOUT_CDL=$WORK_ROOT/$LAYOUT_TOP.cdl\n",
    "EOF\n",
    "cat $UPRJ_ROOT/project_env\n",
    "source $UPRJ_ROOT/project_env\n",
    "rm -f /content/data/work\n",
    "rm -rf $WORK_ROOT\n",
    "mkdir -p $WORK_ROOT\n",
    "ln -s $WORK_ROOT /content/data/work\n",
    "ls -l /content/data/work"
   ]
  },
  {
   "cell_type": "markdown",
   "metadata": {
    "id": "CviKaNZ32X9T"
   },
   "source": [
    "Create the modified magic source netlist."
   ]
  },
  {
   "cell_type": "code",
   "execution_count": null,
   "metadata": {
    "id": "_Bna3q0v2X9T"
   },
   "outputs": [],
   "source": [
    "%%shell\n",
    "cat /content/env\n",
    "source /content/env\n",
    "cat > $SPICE_FILE <<EOF\n",
    ".SUBCKT $LAYOUT_TOP\n",
    "* no source\n",
    ".ENDS\n",
    "EOF"
   ]
  },
  {
   "cell_type": "markdown",
   "metadata": {
    "id": "9DbSTSlG2X9T"
   },
   "source": [
    "Create lvs_config.json and update the LVS_SPICE_FILES and LVS_VERILOG_FILES for every design.\n",
    "\n",
    "Update the other parameters as needed."
   ]
  },
  {
   "cell_type": "code",
   "execution_count": null,
   "metadata": {
    "id": "sYO-_bUo2X9T"
   },
   "outputs": [],
   "source": [
    "%%shell\n",
    "cat /content/env\n",
    "source /content/env\n",
    "cat > $WORK_ROOT/lvs_config.json <<EOF\n",
    "{\n",
    "  \"#STD_CELL_LIBRARY\": \"sky130_fd_sc_hd\",\n",
    "  \"#INCLUDE_CONFIGS\": [\n",
    "    \"$LVS_ROOT/tech/$PDK/lvs_config.base.json\"\n",
    "  ],\n",
    "  \"TOP_SOURCE\": \"$LAYOUT_TOP\",\n",
    "  \"TOP_LAYOUT\": \"$LAYOUT_TOP\",\n",
    "  \"EXTRACT_FLATGLOB\": [\n",
    "    \"sg13g2_Corner\",\n",
    "    \"sg13g2_Filler*\",\n",
    "    \"sg13g2_IOPad*\",\n",
    "    \"sg13g2_Clamp*\",\n",
    "    \"sg13g2_RCClamp*\",\n",
    "    \"sg13g2_DCNDiode\",\n",
    "    \"sg13g2_DCPDiode\",\n",
    "    \"sg13g2_GateDecode\",\n",
    "    \"sg13g2_LevelDown\",\n",
    "    \"sg13g2_SecondaryProtection\",\n",
    "    \"sg13g2_LevelUp\",\n",
    "    \"sg13g2_io_*\",\n",
    "    \"sg13g2_*LevelUpInv\",\n",
    "    \"TEXT*\",\n",
    "    \"VIA*\"\n",
    "  ],\n",
    "  \"EXTRACT_ABSTRACT\": [ \"\" ],\n",
    "  \"LVS_FLATTEN\": [ \"\" ],\n",
    "  \"LVS_NOFLATTEN\": [ \"\" ],\n",
    "  \"LVS_IGNORE\": [ \"\" ],\n",
    "  \"LVS_SPICE_FILES\": [\n",
    "    \"$SPICE_FILE\"\n",
    "  ],\n",
    "  \"#LVS_VERILOG_FILES\": [\n",
    "    \"$UPRJ_ROOT/verilog/gl/user_proj_example.v\",\n",
    "    \"$UPRJ_ROOT/verilog/gl/user_project_wrapper.v\"\n",
    "  ],\n",
    "  \"LAYOUT_FILE\": \"$UPRJ_ROOT/$PROJECT/$GDSFILE\"\n",
    "}\n",
    "EOF"
   ]
  },
  {
   "cell_type": "markdown",
   "metadata": {
    "id": "QGGrIkJ62X9T"
   },
   "source": [
    "Write cvcrc file"
   ]
  },
  {
   "cell_type": "code",
   "execution_count": null,
   "metadata": {
    "id": "abKJtc6M2X9T"
   },
   "outputs": [],
   "source": [
    "%%shell\n",
    "cat /content/env\n",
    "source /content/env\n",
    "cat > $WORK_ROOT/cvcrc <<EOF\n",
    "CVC_TOP = $LAYOUT_TOP\n",
    "CVC_NETLIST = $WORK_ROOT/ext/$LAYOUT_TOP.cdl.gz\n",
    "CVC_MODEL_FILE = $LVS_ROOT/tech/ihp-sg13g2/cvc.models\n",
    "CVC_POWER_FILE = $WORK_ROOT/cvc.power.$LAYOUT_TOP\n",
    "CVC_REPORT_FILE = $WORK_ROOT/cvc.log\n",
    "EOF\n",
    "\n",
    "cat > $WORK_ROOT/cvc.power.$LAYOUT_TOP <<EOF\n",
    "*vss* power 0.0\n",
    "iovdd* power 3.3\n",
    "vdd power 1.5\n",
    "clk input min@0.0 max@3.3\n",
    "reset_n input min@0.0 max@3.3\n",
    "EOF"
   ]
  },
  {
   "cell_type": "markdown",
   "metadata": {
    "id": "hwKoVH552X9T"
   },
   "source": [
    "Create the klayout CDL file from the magic source netlist."
   ]
  },
  {
   "cell_type": "code",
   "execution_count": null,
   "metadata": {
    "id": "nMkqnhoP2X9T"
   },
   "outputs": [],
   "source": [
    "%%shell\n",
    "source /content/env\n",
    "sed -e '/^X[CDMQR]/s/.//' $SPICE_FILE > $KLAYOUT_CDL\n"
   ]
  },
  {
   "cell_type": "markdown",
   "metadata": {
    "id": "gy6r4xUL2X9T"
   },
   "source": [
    "Results for PA_180GHz\n"
   ]
  },
  {
   "cell_type": "markdown",
   "metadata": {
    "id": "SFBvInPF2Zdk"
   },
   "source": [
    "# 15. TTIHP0p2\n",
    "\n",
    "Not ready - do not run.\n"
   ]
  },
  {
   "cell_type": "markdown",
   "metadata": {
    "id": "lY9IFQ0I2Zdl"
   },
   "source": [
    "Set the project, top cell and gds file names."
   ]
  },
  {
   "cell_type": "code",
   "execution_count": null,
   "metadata": {
    "id": "LqCpp6Hd2Zdl"
   },
   "outputs": [],
   "source": [
    "%%shell\n",
    "source /content/env\n",
    "cat > $UPRJ_ROOT/project_env <<'EOF'\n",
    "export PROJECT=ascon\n",
    "export LAYOUT_TOP=\n",
    "export GDSFILE=design_data/gds/\n",
    "export WORK_ROOT=$UPRJ_ROOT/$PROJECT/work/$LAYOUT_TOP\n",
    "export SPICE_FILE=$WORK_ROOT/$LAYOUT_TOP.spice\n",
    "export KLAYOUT_CDL=$WORK_ROOT/$LAYOUT_TOP.cdl\n",
    "EOF\n",
    "cat $UPRJ_ROOT/project_env\n",
    "source $UPRJ_ROOT/project_env\n",
    "rm -f /content/data/work\n",
    "rm -rf $WORK_ROOT\n",
    "mkdir -p $WORK_ROOT\n",
    "ln -s $WORK_ROOT /content/data/work\n",
    "ls -l /content/data/work"
   ]
  },
  {
   "cell_type": "markdown",
   "metadata": {
    "id": "Y1ozRBwP2Zdl"
   },
   "source": [
    "Create the modified magic source netlist."
   ]
  },
  {
   "cell_type": "code",
   "execution_count": null,
   "metadata": {
    "id": "kEHvXHUx2Zdl"
   },
   "outputs": [],
   "source": [
    "%%shell\n",
    "cat /content/env\n",
    "source /content/env\n",
    "cat > $SPICE_FILE <<EOF\n",
    ".SUBCKT $LAYOUT_TOP\n",
    "* no source\n",
    ".ENDS\n",
    "EOF"
   ]
  },
  {
   "cell_type": "markdown",
   "metadata": {
    "id": "FjOelrd62Zdl"
   },
   "source": [
    "Create lvs_config.json and update the LVS_SPICE_FILES and LVS_VERILOG_FILES for every design.\n",
    "\n",
    "Update the other parameters as needed."
   ]
  },
  {
   "cell_type": "code",
   "execution_count": null,
   "metadata": {
    "id": "1NjQ8IFf2Zdl"
   },
   "outputs": [],
   "source": [
    "%%shell\n",
    "cat /content/env\n",
    "source /content/env\n",
    "cat > $WORK_ROOT/lvs_config.json <<EOF\n",
    "{\n",
    "  \"#STD_CELL_LIBRARY\": \"sky130_fd_sc_hd\",\n",
    "  \"#INCLUDE_CONFIGS\": [\n",
    "    \"$LVS_ROOT/tech/$PDK/lvs_config.base.json\"\n",
    "  ],\n",
    "  \"TOP_SOURCE\": \"$LAYOUT_TOP\",\n",
    "  \"TOP_LAYOUT\": \"$LAYOUT_TOP\",\n",
    "  \"EXTRACT_FLATGLOB\": [\n",
    "    \"sg13g2_Corner\",\n",
    "    \"sg13g2_Filler*\",\n",
    "    \"sg13g2_IOPad*\",\n",
    "    \"sg13g2_Clamp*\",\n",
    "    \"sg13g2_RCClamp*\",\n",
    "    \"sg13g2_DCNDiode\",\n",
    "    \"sg13g2_DCPDiode\",\n",
    "    \"sg13g2_GateDecode\",\n",
    "    \"sg13g2_LevelDown\",\n",
    "    \"sg13g2_SecondaryProtection\",\n",
    "    \"sg13g2_LevelUp\",\n",
    "    \"sg13g2_io_*\",\n",
    "    \"sg13g2_*LevelUpInv\",\n",
    "    \"TEXT*\",\n",
    "    \"VIA*\"\n",
    "  ],\n",
    "  \"EXTRACT_ABSTRACT\": [ \"\" ],\n",
    "  \"LVS_FLATTEN\": [ \"\" ],\n",
    "  \"LVS_NOFLATTEN\": [ \"\" ],\n",
    "  \"LVS_IGNORE\": [ \"\" ],\n",
    "  \"LVS_SPICE_FILES\": [\n",
    "    \"$SPICE_FILE\"\n",
    "  ],\n",
    "  \"#LVS_VERILOG_FILES\": [\n",
    "    \"$UPRJ_ROOT/verilog/gl/user_proj_example.v\",\n",
    "    \"$UPRJ_ROOT/verilog/gl/user_project_wrapper.v\"\n",
    "  ],\n",
    "  \"LAYOUT_FILE\": \"$UPRJ_ROOT/$PROJECT/$GDSFILE\"\n",
    "}\n",
    "EOF"
   ]
  },
  {
   "cell_type": "markdown",
   "metadata": {
    "id": "XWK5Q3Ch2Zdl"
   },
   "source": [
    "Write cvcrc file"
   ]
  },
  {
   "cell_type": "code",
   "execution_count": null,
   "metadata": {
    "id": "IiWJlaF62Zdl"
   },
   "outputs": [],
   "source": [
    "%%shell\n",
    "cat /content/env\n",
    "source /content/env\n",
    "cat > $WORK_ROOT/cvcrc <<EOF\n",
    "CVC_TOP = $LAYOUT_TOP\n",
    "CVC_NETLIST = $WORK_ROOT/ext/$LAYOUT_TOP.cdl.gz\n",
    "CVC_MODEL_FILE = $LVS_ROOT/tech/ihp-sg13g2/cvc.models\n",
    "CVC_POWER_FILE = $WORK_ROOT/cvc.power.$LAYOUT_TOP\n",
    "CVC_REPORT_FILE = $WORK_ROOT/cvc.log\n",
    "EOF\n",
    "\n",
    "cat > $WORK_ROOT/cvc.power.$LAYOUT_TOP <<EOF\n",
    "*vss* power 0.0\n",
    "iovdd* power 3.3\n",
    "vdd power 1.5\n",
    "clk input min@0.0 max@3.3\n",
    "reset_n input min@0.0 max@3.3\n",
    "EOF"
   ]
  },
  {
   "cell_type": "markdown",
   "metadata": {
    "id": "6GGSmQOY2Zdl"
   },
   "source": [
    "Create the klayout CDL file from the magic source netlist."
   ]
  },
  {
   "cell_type": "code",
   "execution_count": null,
   "metadata": {
    "id": "dZupNF802Zdl"
   },
   "outputs": [],
   "source": [
    "%%shell\n",
    "source /content/env\n",
    "sed -e '/^X[CDMQR]/s/.//' $SPICE_FILE > $KLAYOUT_CDL\n"
   ]
  },
  {
   "cell_type": "markdown",
   "metadata": {
    "id": "6onLAcQg2Zdl"
   },
   "source": [
    "Results for TTIHP0p2\n"
   ]
  },
  {
   "cell_type": "markdown",
   "metadata": {
    "id": "MPWBOo732bHx"
   },
   "source": [
    "# 16. TTIHP25a\n",
    "\n",
    "Not ready - do not run.\n"
   ]
  },
  {
   "cell_type": "markdown",
   "metadata": {
    "id": "0my9lFo72bHy"
   },
   "source": [
    "Set the project, top cell and gds file names."
   ]
  },
  {
   "cell_type": "code",
   "execution_count": null,
   "metadata": {
    "id": "NShuk_FV2bHy"
   },
   "outputs": [],
   "source": [
    "%%shell\n",
    "source /content/env\n",
    "cat > $UPRJ_ROOT/project_env <<'EOF'\n",
    "export PROJECT=ascon\n",
    "export LAYOUT_TOP=\n",
    "export GDSFILE=design_data/gds/\n",
    "export WORK_ROOT=$UPRJ_ROOT/$PROJECT/work/$LAYOUT_TOP\n",
    "export SPICE_FILE=$WORK_ROOT/$LAYOUT_TOP.spice\n",
    "export KLAYOUT_CDL=$WORK_ROOT/$LAYOUT_TOP.cdl\n",
    "EOF\n",
    "cat $UPRJ_ROOT/project_env\n",
    "source $UPRJ_ROOT/project_env\n",
    "rm -f /content/data/work\n",
    "rm -rf $WORK_ROOT\n",
    "mkdir -p $WORK_ROOT\n",
    "ln -s $WORK_ROOT /content/data/work\n",
    "ls -l /content/data/work"
   ]
  },
  {
   "cell_type": "markdown",
   "metadata": {
    "id": "ityJtkml2bHy"
   },
   "source": [
    "Create the modified magic source netlist."
   ]
  },
  {
   "cell_type": "code",
   "execution_count": null,
   "metadata": {
    "id": "mANaAWxG2bHy"
   },
   "outputs": [],
   "source": [
    "%%shell\n",
    "cat /content/env\n",
    "source /content/env\n",
    "cat > $SPICE_FILE <<EOF\n",
    ".SUBCKT $LAYOUT_TOP\n",
    "* no source\n",
    ".ENDS\n",
    "EOF"
   ]
  },
  {
   "cell_type": "markdown",
   "metadata": {
    "id": "V87_Dalx2bHy"
   },
   "source": [
    "Create lvs_config.json and update the LVS_SPICE_FILES and LVS_VERILOG_FILES for every design.\n",
    "\n",
    "Update the other parameters as needed."
   ]
  },
  {
   "cell_type": "code",
   "execution_count": null,
   "metadata": {
    "id": "DfPXvhwg2bHy"
   },
   "outputs": [],
   "source": [
    "%%shell\n",
    "cat /content/env\n",
    "source /content/env\n",
    "cat > $WORK_ROOT/lvs_config.json <<EOF\n",
    "{\n",
    "  \"#STD_CELL_LIBRARY\": \"sky130_fd_sc_hd\",\n",
    "  \"#INCLUDE_CONFIGS\": [\n",
    "    \"$LVS_ROOT/tech/$PDK/lvs_config.base.json\"\n",
    "  ],\n",
    "  \"TOP_SOURCE\": \"$LAYOUT_TOP\",\n",
    "  \"TOP_LAYOUT\": \"$LAYOUT_TOP\",\n",
    "  \"EXTRACT_FLATGLOB\": [\n",
    "    \"sg13g2_Corner\",\n",
    "    \"sg13g2_Filler*\",\n",
    "    \"sg13g2_IOPad*\",\n",
    "    \"sg13g2_Clamp*\",\n",
    "    \"sg13g2_RCClamp*\",\n",
    "    \"sg13g2_DCNDiode\",\n",
    "    \"sg13g2_DCPDiode\",\n",
    "    \"sg13g2_GateDecode\",\n",
    "    \"sg13g2_LevelDown\",\n",
    "    \"sg13g2_SecondaryProtection\",\n",
    "    \"sg13g2_LevelUp\",\n",
    "    \"sg13g2_io_*\",\n",
    "    \"sg13g2_*LevelUpInv\",\n",
    "    \"TEXT*\",\n",
    "    \"VIA*\"\n",
    "  ],\n",
    "  \"EXTRACT_ABSTRACT\": [ \"\" ],\n",
    "  \"LVS_FLATTEN\": [ \"\" ],\n",
    "  \"LVS_NOFLATTEN\": [ \"\" ],\n",
    "  \"LVS_IGNORE\": [ \"\" ],\n",
    "  \"LVS_SPICE_FILES\": [\n",
    "    \"$SPICE_FILE\"\n",
    "  ],\n",
    "  \"#LVS_VERILOG_FILES\": [\n",
    "    \"$UPRJ_ROOT/verilog/gl/user_proj_example.v\",\n",
    "    \"$UPRJ_ROOT/verilog/gl/user_project_wrapper.v\"\n",
    "  ],\n",
    "  \"LAYOUT_FILE\": \"$UPRJ_ROOT/$PROJECT/$GDSFILE\"\n",
    "}\n",
    "EOF"
   ]
  },
  {
   "cell_type": "markdown",
   "metadata": {
    "id": "dgCdJtjL2bHy"
   },
   "source": [
    "Write cvcrc file"
   ]
  },
  {
   "cell_type": "code",
   "execution_count": null,
   "metadata": {
    "id": "KCz3-e3-2bHy"
   },
   "outputs": [],
   "source": [
    "%%shell\n",
    "cat /content/env\n",
    "source /content/env\n",
    "cat > $WORK_ROOT/cvcrc <<EOF\n",
    "CVC_TOP = $LAYOUT_TOP\n",
    "CVC_NETLIST = $WORK_ROOT/ext/$LAYOUT_TOP.cdl.gz\n",
    "CVC_MODEL_FILE = $LVS_ROOT/tech/ihp-sg13g2/cvc.models\n",
    "CVC_POWER_FILE = $WORK_ROOT/cvc.power.$LAYOUT_TOP\n",
    "CVC_REPORT_FILE = $WORK_ROOT/cvc.log\n",
    "EOF\n",
    "\n",
    "cat > $WORK_ROOT/cvc.power.$LAYOUT_TOP <<EOF\n",
    "*vss* power 0.0\n",
    "iovdd* power 3.3\n",
    "vdd power 1.5\n",
    "clk input min@0.0 max@3.3\n",
    "reset_n input min@0.0 max@3.3\n",
    "EOF"
   ]
  },
  {
   "cell_type": "markdown",
   "metadata": {
    "id": "LaCwbUwk2bHy"
   },
   "source": [
    "Create the klayout CDL file from the magic source netlist."
   ]
  },
  {
   "cell_type": "code",
   "execution_count": null,
   "metadata": {
    "id": "IIcBaKVE2bHy"
   },
   "outputs": [],
   "source": [
    "%%shell\n",
    "source /content/env\n",
    "sed -e '/^X[CDMQR]/s/.//' $SPICE_FILE > $KLAYOUT_CDL\n"
   ]
  },
  {
   "cell_type": "markdown",
   "metadata": {
    "id": "xoI94XhJ2bHy"
   },
   "source": [
    "Results for TTIHP25a\n"
   ]
  },
  {
   "cell_type": "markdown",
   "metadata": {
    "id": "CvJgBSVa2cpc"
   },
   "source": [
    "# 17. VCO_130nm_LSI\n",
    "\n",
    "Not ready - do not run.\n"
   ]
  },
  {
   "cell_type": "markdown",
   "metadata": {
    "id": "tvAWdfuY2cpc"
   },
   "source": [
    "Set the project, top cell and gds file names."
   ]
  },
  {
   "cell_type": "code",
   "execution_count": null,
   "metadata": {
    "id": "lD6vMVVH2cpc"
   },
   "outputs": [],
   "source": [
    "%%shell\n",
    "source /content/env\n",
    "cat > $UPRJ_ROOT/project_env <<'EOF'\n",
    "export PROJECT=ascon\n",
    "export LAYOUT_TOP=\n",
    "export GDSFILE=design_data/gds/\n",
    "export WORK_ROOT=$UPRJ_ROOT/$PROJECT/work/$LAYOUT_TOP\n",
    "export SPICE_FILE=$WORK_ROOT/$LAYOUT_TOP.spice\n",
    "export KLAYOUT_CDL=$WORK_ROOT/$LAYOUT_TOP.cdl\n",
    "EOF\n",
    "cat $UPRJ_ROOT/project_env\n",
    "source $UPRJ_ROOT/project_env\n",
    "rm -f /content/data/work\n",
    "rm -rf $WORK_ROOT\n",
    "mkdir -p $WORK_ROOT\n",
    "ln -s $WORK_ROOT /content/data/work\n",
    "ls -l /content/data/work"
   ]
  },
  {
   "cell_type": "markdown",
   "metadata": {
    "id": "EasaPclX2cpc"
   },
   "source": [
    "Create the modified magic source netlist."
   ]
  },
  {
   "cell_type": "code",
   "execution_count": null,
   "metadata": {
    "id": "_3M0oIRa2cpd"
   },
   "outputs": [],
   "source": [
    "%%shell\n",
    "cat /content/env\n",
    "source /content/env\n",
    "cat > $SPICE_FILE <<EOF\n",
    ".SUBCKT $LAYOUT_TOP\n",
    "* no source\n",
    ".ENDS\n",
    "EOF"
   ]
  },
  {
   "cell_type": "markdown",
   "metadata": {
    "id": "eOuUVdwy2cpd"
   },
   "source": [
    "Create lvs_config.json and update the LVS_SPICE_FILES and LVS_VERILOG_FILES for every design.\n",
    "\n",
    "Update the other parameters as needed."
   ]
  },
  {
   "cell_type": "code",
   "execution_count": null,
   "metadata": {
    "id": "qy6j0isy2cpd"
   },
   "outputs": [],
   "source": [
    "%%shell\n",
    "cat /content/env\n",
    "source /content/env\n",
    "cat > $WORK_ROOT/lvs_config.json <<EOF\n",
    "{\n",
    "  \"#STD_CELL_LIBRARY\": \"sky130_fd_sc_hd\",\n",
    "  \"#INCLUDE_CONFIGS\": [\n",
    "    \"$LVS_ROOT/tech/$PDK/lvs_config.base.json\"\n",
    "  ],\n",
    "  \"TOP_SOURCE\": \"$LAYOUT_TOP\",\n",
    "  \"TOP_LAYOUT\": \"$LAYOUT_TOP\",\n",
    "  \"EXTRACT_FLATGLOB\": [\n",
    "    \"sg13g2_Corner\",\n",
    "    \"sg13g2_Filler*\",\n",
    "    \"sg13g2_IOPad*\",\n",
    "    \"sg13g2_Clamp*\",\n",
    "    \"sg13g2_RCClamp*\",\n",
    "    \"sg13g2_DCNDiode\",\n",
    "    \"sg13g2_DCPDiode\",\n",
    "    \"sg13g2_GateDecode\",\n",
    "    \"sg13g2_LevelDown\",\n",
    "    \"sg13g2_SecondaryProtection\",\n",
    "    \"sg13g2_LevelUp\",\n",
    "    \"sg13g2_io_*\",\n",
    "    \"sg13g2_*LevelUpInv\",\n",
    "    \"TEXT*\",\n",
    "    \"VIA*\"\n",
    "  ],\n",
    "  \"EXTRACT_ABSTRACT\": [ \"\" ],\n",
    "  \"LVS_FLATTEN\": [ \"\" ],\n",
    "  \"LVS_NOFLATTEN\": [ \"\" ],\n",
    "  \"LVS_IGNORE\": [ \"\" ],\n",
    "  \"LVS_SPICE_FILES\": [\n",
    "    \"$SPICE_FILE\"\n",
    "  ],\n",
    "  \"#LVS_VERILOG_FILES\": [\n",
    "    \"$UPRJ_ROOT/verilog/gl/user_proj_example.v\",\n",
    "    \"$UPRJ_ROOT/verilog/gl/user_project_wrapper.v\"\n",
    "  ],\n",
    "  \"LAYOUT_FILE\": \"$UPRJ_ROOT/$PROJECT/$GDSFILE\"\n",
    "}\n",
    "EOF"
   ]
  },
  {
   "cell_type": "markdown",
   "metadata": {
    "id": "nU14XPoE2cpd"
   },
   "source": [
    "Write cvcrc file"
   ]
  },
  {
   "cell_type": "code",
   "execution_count": null,
   "metadata": {
    "id": "TLtqEnkr2cpd"
   },
   "outputs": [],
   "source": [
    "%%shell\n",
    "cat /content/env\n",
    "source /content/env\n",
    "cat > $WORK_ROOT/cvcrc <<EOF\n",
    "CVC_TOP = $LAYOUT_TOP\n",
    "CVC_NETLIST = $WORK_ROOT/ext/$LAYOUT_TOP.cdl.gz\n",
    "CVC_MODEL_FILE = $LVS_ROOT/tech/ihp-sg13g2/cvc.models\n",
    "CVC_POWER_FILE = $WORK_ROOT/cvc.power.$LAYOUT_TOP\n",
    "CVC_REPORT_FILE = $WORK_ROOT/cvc.log\n",
    "EOF\n",
    "\n",
    "cat > $WORK_ROOT/cvc.power.$LAYOUT_TOP <<EOF\n",
    "*vss* power 0.0\n",
    "iovdd* power 3.3\n",
    "vdd power 1.5\n",
    "clk input min@0.0 max@3.3\n",
    "reset_n input min@0.0 max@3.3\n",
    "EOF"
   ]
  },
  {
   "cell_type": "markdown",
   "metadata": {
    "id": "p0rftMxY2cpd"
   },
   "source": [
    "Create the klayout CDL file from the magic source netlist."
   ]
  },
  {
   "cell_type": "code",
   "execution_count": null,
   "metadata": {
    "id": "gImMvcQw2cpd"
   },
   "outputs": [],
   "source": [
    "%%shell\n",
    "source /content/env\n",
    "sed -e '/^X[CDMQR]/s/.//' $SPICE_FILE > $KLAYOUT_CDL\n"
   ]
  },
  {
   "cell_type": "markdown",
   "metadata": {
    "id": "f9B73aGQ2cpd"
   },
   "source": [
    "Results for VCO_130nm_LSI\n"
   ]
  },
  {
   "cell_type": "markdown",
   "metadata": {
    "id": "2GSDoZMDUbLh"
   },
   "source": [
    "# Run BE checks"
   ]
  },
  {
   "cell_type": "code",
   "execution_count": null,
   "metadata": {
    "id": "RjDeWGKj1b2g"
   },
   "outputs": [],
   "source": [
    "%%shell\n",
    "cat /content/env\n",
    "source /content/env\n",
    "# run_be_checks includes magic/netgen soft connection and LVS, and CVC-RV\n",
    "$LVS_ROOT/run_be_checks $WORK_ROOT/lvs_config.json\n",
    "\n",
    "python3 $PDK_ROOT/$PDK/libs.tech/klayout/tech/lvs/run_lvs.py --layout=$DATA_ROOT/$PROJECT/$GDSFILE \\\n",
    "  --netlist=$KLAYOUT_CDL \\\n",
    "  --run_dir=$WORK_ROOT/klayout \\\n",
    "  --topcell=$LAYOUT_TOP \\\n",
    "  --run_mode=deep \\\n",
    "  --spice_comments \\\n",
    "  --no_simplify \\\n",
    "  --combine_devices \\\n",
    "  --top_lvl_pins\n",
    "\n",
    "LVS_BASENAME=$( echo $GDSFILE | sed -e 's,.*/,,' -e 's,\\..*,,' )\n",
    "$LVS_ROOT/check_klayout_ports $WORK_ROOT/klayout/$LVS_BASENAME.lvsdb > $WORK_ROOT/klayout/port_check.log\n",
    "if [[ -e $WORK_ROOT/klayout/port_check.log ]]; then\n",
    "  if [[ -s $WORK_ROOT/klayout/port_check.log ]]; then\n",
    "    echo \"* Klayout ports do not match *\"\n",
    "    echo \"layout     source\"\n",
    "    awk '{printf \"%-10s %s\\n\", $1, $2}' $WORK_ROOT/klayout/port_check.log\n",
    "  else\n",
    "    echo \"Klayout ports match\"\n",
    "  fi\n",
    "fi"
   ]
  },
  {
   "cell_type": "markdown",
   "metadata": {
    "id": "DeWIJuFndtvJ"
   },
   "source": [
    "# View verification logs"
   ]
  },
  {
   "cell_type": "code",
   "execution_count": null,
   "metadata": {
    "id": "RihfaPqYxpuq"
   },
   "outputs": [],
   "source": [
    "from google.colab import files\n",
    "\n",
    "files.view('/content/data/work/soft.log')\n",
    "files.view('/content/data/work/lvs.log')\n",
    "files.view('/content/data/work/cvc.log')"
   ]
  },
  {
   "cell_type": "markdown",
   "metadata": {
    "id": "BgzqD-4KjE9F"
   },
   "source": [
    "# View soft verification report"
   ]
  },
  {
   "cell_type": "code",
   "execution_count": null,
   "metadata": {
    "id": "DfG7DKXayaSi"
   },
   "outputs": [],
   "source": [
    "from google.colab import files\n",
    "\n",
    "files.view('/content/data/work/soft.report')"
   ]
  },
  {
   "cell_type": "markdown",
   "metadata": {
    "id": "ldCmn3atj1eq"
   },
   "source": [
    "# View LVS report"
   ]
  },
  {
   "cell_type": "code",
   "execution_count": null,
   "metadata": {
    "id": "UkUuHrX1jxdI"
   },
   "outputs": [],
   "source": [
    "from google.colab import files\n",
    "\n",
    "files.view('/content/data/work/lvs.report')"
   ]
  },
  {
   "cell_type": "markdown",
   "metadata": {
    "id": "kJXQtZd1kKuj"
   },
   "source": [
    "# View CVC report"
   ]
  },
  {
   "cell_type": "code",
   "execution_count": null,
   "metadata": {
    "id": "l0mlcn6TkJ9z"
   },
   "outputs": [],
   "source": [
    "from google.colab import files\n",
    "\n",
    "files.view('/content/data/work/cvc.error')"
   ]
  }
 ],
 "metadata": {
  "colab": {
   "provenance": []
  },
  "kernelspec": {
   "display_name": "Python 3",
   "name": "python3"
  },
  "language_info": {
   "name": "python"
  }
 },
 "nbformat": 4,
 "nbformat_minor": 0
}
